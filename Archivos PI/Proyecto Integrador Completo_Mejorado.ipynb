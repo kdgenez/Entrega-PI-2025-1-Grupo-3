{
 "cells": [
  {
   "cell_type": "markdown",
   "id": "JWAE8QvJ5-5_",
   "metadata": {
    "id": "JWAE8QvJ5-5_"
   },
   "source": [
    "Se instala SpaCY para apoyarnos en la aplicacion de las tecnicas necesarias para la limpieza de texto del campo \"Observacion\""
   ]
  },
  {
   "cell_type": "code",
   "execution_count": 14,
   "id": "7152d03b",
   "metadata": {},
   "outputs": [
    {
     "name": "stdout",
     "output_type": "stream",
     "text": [
      "Requirement already satisfied: pip in ./venv_spacy/lib/python3.9/site-packages (25.1.1)\n",
      "Requirement already satisfied: setuptools in ./venv_spacy/lib/python3.9/site-packages (80.9.0)\n",
      "Requirement already satisfied: wheel in ./venv_spacy/lib/python3.9/site-packages (0.45.1)\n"
     ]
    }
   ],
   "source": [
    "%%bash\n",
    "# 1. Creamos el venv en ~/venv_spacy\n",
    "python3 -m venv ~/venv_spacy\n",
    "\n",
    "# 2. Activamos el venv\n",
    "source ~/venv_spacy/bin/activate\n",
    "\n",
    "# 3. Actualizamos pip / setuptools / wheel\n",
    "pip install --upgrade pip setuptools wheel"
   ]
  },
  {
   "cell_type": "code",
   "execution_count": 1,
   "id": "fc5b4dd9",
   "metadata": {},
   "outputs": [
    {
     "name": "stdout",
     "output_type": "stream",
     "text": [
      "Requirement already satisfied: ipykernel in ./venv_spacy/lib/python3.9/site-packages (6.29.5)\n",
      "Requirement already satisfied: comm>=0.1.1 in ./venv_spacy/lib/python3.9/site-packages (from ipykernel) (0.2.2)\n",
      "Requirement already satisfied: debugpy>=1.6.5 in ./venv_spacy/lib/python3.9/site-packages (from ipykernel) (1.8.14)\n",
      "Requirement already satisfied: ipython>=7.23.1 in ./venv_spacy/lib/python3.9/site-packages (from ipykernel) (8.18.1)\n",
      "Requirement already satisfied: jupyter-client>=6.1.12 in ./venv_spacy/lib/python3.9/site-packages (from ipykernel) (8.6.3)\n",
      "Requirement already satisfied: jupyter-core!=5.0.*,>=4.12 in ./venv_spacy/lib/python3.9/site-packages (from ipykernel) (5.8.1)\n",
      "Requirement already satisfied: matplotlib-inline>=0.1 in ./venv_spacy/lib/python3.9/site-packages (from ipykernel) (0.1.7)\n",
      "Requirement already satisfied: nest-asyncio in ./venv_spacy/lib/python3.9/site-packages (from ipykernel) (1.6.0)\n",
      "Requirement already satisfied: packaging in ./venv_spacy/lib/python3.9/site-packages (from ipykernel) (25.0)\n",
      "Requirement already satisfied: psutil in ./venv_spacy/lib/python3.9/site-packages (from ipykernel) (7.0.0)\n",
      "Requirement already satisfied: pyzmq>=24 in ./venv_spacy/lib/python3.9/site-packages (from ipykernel) (26.4.0)\n",
      "Requirement already satisfied: tornado>=6.1 in ./venv_spacy/lib/python3.9/site-packages (from ipykernel) (6.5.1)\n",
      "Requirement already satisfied: traitlets>=5.4.0 in ./venv_spacy/lib/python3.9/site-packages (from ipykernel) (5.14.3)\n",
      "Requirement already satisfied: decorator in ./venv_spacy/lib/python3.9/site-packages (from ipython>=7.23.1->ipykernel) (5.2.1)\n",
      "Requirement already satisfied: jedi>=0.16 in ./venv_spacy/lib/python3.9/site-packages (from ipython>=7.23.1->ipykernel) (0.19.2)\n",
      "Requirement already satisfied: prompt-toolkit<3.1.0,>=3.0.41 in ./venv_spacy/lib/python3.9/site-packages (from ipython>=7.23.1->ipykernel) (3.0.51)\n",
      "Requirement already satisfied: pygments>=2.4.0 in ./venv_spacy/lib/python3.9/site-packages (from ipython>=7.23.1->ipykernel) (2.19.1)\n",
      "Requirement already satisfied: stack-data in ./venv_spacy/lib/python3.9/site-packages (from ipython>=7.23.1->ipykernel) (0.6.3)\n",
      "Requirement already satisfied: typing-extensions in ./venv_spacy/lib/python3.9/site-packages (from ipython>=7.23.1->ipykernel) (4.14.0)\n",
      "Requirement already satisfied: exceptiongroup in ./venv_spacy/lib/python3.9/site-packages (from ipython>=7.23.1->ipykernel) (1.3.0)\n",
      "Requirement already satisfied: pexpect>4.3 in ./venv_spacy/lib/python3.9/site-packages (from ipython>=7.23.1->ipykernel) (4.9.0)\n",
      "Requirement already satisfied: wcwidth in ./venv_spacy/lib/python3.9/site-packages (from prompt-toolkit<3.1.0,>=3.0.41->ipython>=7.23.1->ipykernel) (0.2.13)\n",
      "Requirement already satisfied: parso<0.9.0,>=0.8.4 in ./venv_spacy/lib/python3.9/site-packages (from jedi>=0.16->ipython>=7.23.1->ipykernel) (0.8.4)\n",
      "Requirement already satisfied: importlib-metadata>=4.8.3 in ./venv_spacy/lib/python3.9/site-packages (from jupyter-client>=6.1.12->ipykernel) (8.7.0)\n",
      "Requirement already satisfied: python-dateutil>=2.8.2 in ./venv_spacy/lib/python3.9/site-packages (from jupyter-client>=6.1.12->ipykernel) (2.9.0.post0)\n",
      "Requirement already satisfied: zipp>=3.20 in ./venv_spacy/lib/python3.9/site-packages (from importlib-metadata>=4.8.3->jupyter-client>=6.1.12->ipykernel) (3.22.0)\n",
      "Requirement already satisfied: platformdirs>=2.5 in ./venv_spacy/lib/python3.9/site-packages (from jupyter-core!=5.0.*,>=4.12->ipykernel) (4.3.8)\n",
      "Requirement already satisfied: ptyprocess>=0.5 in ./venv_spacy/lib/python3.9/site-packages (from pexpect>4.3->ipython>=7.23.1->ipykernel) (0.7.0)\n",
      "Requirement already satisfied: six>=1.5 in ./venv_spacy/lib/python3.9/site-packages (from python-dateutil>=2.8.2->jupyter-client>=6.1.12->ipykernel) (1.17.0)\n",
      "Requirement already satisfied: executing>=1.2.0 in ./venv_spacy/lib/python3.9/site-packages (from stack-data->ipython>=7.23.1->ipykernel) (2.2.0)\n",
      "Requirement already satisfied: asttokens>=2.1.0 in ./venv_spacy/lib/python3.9/site-packages (from stack-data->ipython>=7.23.1->ipykernel) (3.0.0)\n",
      "Requirement already satisfied: pure-eval in ./venv_spacy/lib/python3.9/site-packages (from stack-data->ipython>=7.23.1->ipykernel) (0.2.3)\n",
      "Installed kernelspec spacy-env in /home/jovyan/.local/share/jupyter/kernels/spacy-env\n"
     ]
    }
   ],
   "source": [
    "%%bash\n",
    "# Activamos el venv\n",
    "source ~/venv_spacy/bin/activate\n",
    "\n",
    "# Instalar ipykernel en el venv (si no lo tienes aún)\n",
    "pip install ipykernel --only-binary=:all:\n",
    "\n",
    "# Registrar el kernel para Jupyter\n",
    "python -m ipykernel install --user --name spacy-env --display-name \"Python (spaCy venv)\""
   ]
  },
  {
   "cell_type": "code",
   "execution_count": 2,
   "id": "51f9c7ab",
   "metadata": {},
   "outputs": [
    {
     "name": "stdout",
     "output_type": "stream",
     "text": [
      "Requirement already satisfied: spacy==3.8.7 in ./venv_spacy/lib/python3.9/site-packages (3.8.7)\n",
      "Requirement already satisfied: spacy-legacy<3.1.0,>=3.0.11 in ./venv_spacy/lib/python3.9/site-packages (from spacy==3.8.7) (3.0.12)\n",
      "Requirement already satisfied: spacy-loggers<2.0.0,>=1.0.0 in ./venv_spacy/lib/python3.9/site-packages (from spacy==3.8.7) (1.0.5)\n",
      "Requirement already satisfied: murmurhash<1.1.0,>=0.28.0 in ./venv_spacy/lib/python3.9/site-packages (from spacy==3.8.7) (1.0.13)\n",
      "Requirement already satisfied: cymem<2.1.0,>=2.0.2 in ./venv_spacy/lib/python3.9/site-packages (from spacy==3.8.7) (2.0.11)\n",
      "Requirement already satisfied: preshed<3.1.0,>=3.0.2 in ./venv_spacy/lib/python3.9/site-packages (from spacy==3.8.7) (3.0.10)\n",
      "Requirement already satisfied: thinc<8.4.0,>=8.3.4 in ./venv_spacy/lib/python3.9/site-packages (from spacy==3.8.7) (8.3.4)\n",
      "Requirement already satisfied: wasabi<1.2.0,>=0.9.1 in ./venv_spacy/lib/python3.9/site-packages (from spacy==3.8.7) (1.1.3)\n",
      "Requirement already satisfied: srsly<3.0.0,>=2.4.3 in ./venv_spacy/lib/python3.9/site-packages (from spacy==3.8.7) (2.5.1)\n",
      "Requirement already satisfied: catalogue<2.1.0,>=2.0.6 in ./venv_spacy/lib/python3.9/site-packages (from spacy==3.8.7) (2.0.10)\n",
      "Requirement already satisfied: weasel<0.5.0,>=0.1.0 in ./venv_spacy/lib/python3.9/site-packages (from spacy==3.8.7) (0.4.1)\n",
      "Requirement already satisfied: typer<1.0.0,>=0.3.0 in ./venv_spacy/lib/python3.9/site-packages (from spacy==3.8.7) (0.16.0)\n",
      "Requirement already satisfied: tqdm<5.0.0,>=4.38.0 in ./venv_spacy/lib/python3.9/site-packages (from spacy==3.8.7) (4.67.1)\n",
      "Requirement already satisfied: numpy>=1.19.0 in ./venv_spacy/lib/python3.9/site-packages (from spacy==3.8.7) (2.0.2)\n",
      "Requirement already satisfied: requests<3.0.0,>=2.13.0 in ./venv_spacy/lib/python3.9/site-packages (from spacy==3.8.7) (2.32.3)\n",
      "Requirement already satisfied: pydantic!=1.8,!=1.8.1,<3.0.0,>=1.7.4 in ./venv_spacy/lib/python3.9/site-packages (from spacy==3.8.7) (2.11.5)\n",
      "Requirement already satisfied: jinja2 in ./venv_spacy/lib/python3.9/site-packages (from spacy==3.8.7) (3.1.6)\n",
      "Requirement already satisfied: setuptools in ./venv_spacy/lib/python3.9/site-packages (from spacy==3.8.7) (80.9.0)\n",
      "Requirement already satisfied: packaging>=20.0 in ./venv_spacy/lib/python3.9/site-packages (from spacy==3.8.7) (25.0)\n",
      "Requirement already satisfied: langcodes<4.0.0,>=3.2.0 in ./venv_spacy/lib/python3.9/site-packages (from spacy==3.8.7) (3.5.0)\n",
      "Requirement already satisfied: language-data>=1.2 in ./venv_spacy/lib/python3.9/site-packages (from langcodes<4.0.0,>=3.2.0->spacy==3.8.7) (1.3.0)\n",
      "Requirement already satisfied: annotated-types>=0.6.0 in ./venv_spacy/lib/python3.9/site-packages (from pydantic!=1.8,!=1.8.1,<3.0.0,>=1.7.4->spacy==3.8.7) (0.7.0)\n",
      "Requirement already satisfied: pydantic-core==2.33.2 in ./venv_spacy/lib/python3.9/site-packages (from pydantic!=1.8,!=1.8.1,<3.0.0,>=1.7.4->spacy==3.8.7) (2.33.2)\n",
      "Requirement already satisfied: typing-extensions>=4.12.2 in ./venv_spacy/lib/python3.9/site-packages (from pydantic!=1.8,!=1.8.1,<3.0.0,>=1.7.4->spacy==3.8.7) (4.14.0)\n",
      "Requirement already satisfied: typing-inspection>=0.4.0 in ./venv_spacy/lib/python3.9/site-packages (from pydantic!=1.8,!=1.8.1,<3.0.0,>=1.7.4->spacy==3.8.7) (0.4.1)\n",
      "Requirement already satisfied: charset-normalizer<4,>=2 in ./venv_spacy/lib/python3.9/site-packages (from requests<3.0.0,>=2.13.0->spacy==3.8.7) (3.4.2)\n",
      "Requirement already satisfied: idna<4,>=2.5 in ./venv_spacy/lib/python3.9/site-packages (from requests<3.0.0,>=2.13.0->spacy==3.8.7) (3.10)\n",
      "Requirement already satisfied: urllib3<3,>=1.21.1 in ./venv_spacy/lib/python3.9/site-packages (from requests<3.0.0,>=2.13.0->spacy==3.8.7) (2.4.0)\n",
      "Requirement already satisfied: certifi>=2017.4.17 in ./venv_spacy/lib/python3.9/site-packages (from requests<3.0.0,>=2.13.0->spacy==3.8.7) (2025.4.26)\n",
      "Requirement already satisfied: blis<1.3.0,>=1.2.0 in ./venv_spacy/lib/python3.9/site-packages (from thinc<8.4.0,>=8.3.4->spacy==3.8.7) (1.2.0)\n",
      "Requirement already satisfied: confection<1.0.0,>=0.0.1 in ./venv_spacy/lib/python3.9/site-packages (from thinc<8.4.0,>=8.3.4->spacy==3.8.7) (0.1.5)\n",
      "Requirement already satisfied: click>=8.0.0 in ./venv_spacy/lib/python3.9/site-packages (from typer<1.0.0,>=0.3.0->spacy==3.8.7) (8.1.8)\n",
      "Requirement already satisfied: shellingham>=1.3.0 in ./venv_spacy/lib/python3.9/site-packages (from typer<1.0.0,>=0.3.0->spacy==3.8.7) (1.5.4)\n",
      "Requirement already satisfied: rich>=10.11.0 in ./venv_spacy/lib/python3.9/site-packages (from typer<1.0.0,>=0.3.0->spacy==3.8.7) (14.0.0)\n",
      "Requirement already satisfied: cloudpathlib<1.0.0,>=0.7.0 in ./venv_spacy/lib/python3.9/site-packages (from weasel<0.5.0,>=0.1.0->spacy==3.8.7) (0.21.1)\n",
      "Requirement already satisfied: smart-open<8.0.0,>=5.2.1 in ./venv_spacy/lib/python3.9/site-packages (from weasel<0.5.0,>=0.1.0->spacy==3.8.7) (7.1.0)\n",
      "Requirement already satisfied: wrapt in ./venv_spacy/lib/python3.9/site-packages (from smart-open<8.0.0,>=5.2.1->weasel<0.5.0,>=0.1.0->spacy==3.8.7) (1.17.2)\n",
      "Requirement already satisfied: marisa-trie>=1.1.0 in ./venv_spacy/lib/python3.9/site-packages (from language-data>=1.2->langcodes<4.0.0,>=3.2.0->spacy==3.8.7) (1.2.1)\n",
      "Requirement already satisfied: markdown-it-py>=2.2.0 in ./venv_spacy/lib/python3.9/site-packages (from rich>=10.11.0->typer<1.0.0,>=0.3.0->spacy==3.8.7) (3.0.0)\n",
      "Requirement already satisfied: pygments<3.0.0,>=2.13.0 in ./venv_spacy/lib/python3.9/site-packages (from rich>=10.11.0->typer<1.0.0,>=0.3.0->spacy==3.8.7) (2.19.1)\n",
      "Requirement already satisfied: mdurl~=0.1 in ./venv_spacy/lib/python3.9/site-packages (from markdown-it-py>=2.2.0->rich>=10.11.0->typer<1.0.0,>=0.3.0->spacy==3.8.7) (0.1.2)\n",
      "Requirement already satisfied: MarkupSafe>=2.0 in ./venv_spacy/lib/python3.9/site-packages (from jinja2->spacy==3.8.7) (3.0.2)\n"
     ]
    }
   ],
   "source": [
    "%%bash\n",
    "# 1. Activamos el venv\n",
    "source ~/venv_spacy/bin/activate\n",
    "\n",
    "# 2. Instalamos spaCy 3.8.7 usando exclusivamente ruedas binarias\n",
    "pip install spacy==3.8.7 --only-binary=:all:\n"
   ]
  },
  {
   "cell_type": "code",
   "execution_count": 3,
   "id": "6fe6fe7b",
   "metadata": {},
   "outputs": [
    {
     "name": "stdout",
     "output_type": "stream",
     "text": [
      "Collecting es-core-news-md==3.8.0\n",
      "  Using cached https://github.com/explosion/spacy-models/releases/download/es_core_news_md-3.8.0/es_core_news_md-3.8.0-py3-none-any.whl (42.3 MB)\n"
     ]
    }
   ],
   "source": [
    "%%bash\n",
    "# 1. Activamos el venv\n",
    "source ~/venv_spacy/bin/activate\n",
    "\n",
    "# 2. Instalamos el modelo medium 3.8.0 usando únicamente ruedas binarias\n",
    "pip install \\\n",
    "  \"https://github.com/explosion/spacy-models/releases/download/es_core_news_md-3.8.0/es_core_news_md-3.8.0-py3-none-any.whl\" \\\n",
    "  --only-binary=:all:\n"
   ]
  },
  {
   "cell_type": "code",
   "execution_count": 4,
   "id": "a04cf8ad",
   "metadata": {
    "scrolled": true
   },
   "outputs": [
    {
     "name": "stdout",
     "output_type": "stream",
     "text": [
      "Requirement already satisfied: pip in ./venv_spacy/lib/python3.9/site-packages (25.1.1)\n",
      "Requirement already satisfied: setuptools in ./venv_spacy/lib/python3.9/site-packages (80.9.0)\n",
      "Requirement already satisfied: wheel in ./venv_spacy/lib/python3.9/site-packages (0.45.1)\n",
      "Requirement already satisfied: pandas in ./venv_spacy/lib/python3.9/site-packages (2.2.3)\n",
      "Requirement already satisfied: numpy in ./venv_spacy/lib/python3.9/site-packages (2.0.2)\n",
      "Requirement already satisfied: scipy in ./venv_spacy/lib/python3.9/site-packages (1.13.1)\n",
      "Requirement already satisfied: scikit-learn in ./venv_spacy/lib/python3.9/site-packages (1.6.1)\n",
      "Requirement already satisfied: python-Levenshtein in ./venv_spacy/lib/python3.9/site-packages (0.27.1)\n",
      "Requirement already satisfied: python-dateutil>=2.8.2 in ./venv_spacy/lib/python3.9/site-packages (from pandas) (2.9.0.post0)\n",
      "Requirement already satisfied: pytz>=2020.1 in ./venv_spacy/lib/python3.9/site-packages (from pandas) (2025.2)\n",
      "Requirement already satisfied: tzdata>=2022.7 in ./venv_spacy/lib/python3.9/site-packages (from pandas) (2025.2)\n",
      "Requirement already satisfied: joblib>=1.2.0 in ./venv_spacy/lib/python3.9/site-packages (from scikit-learn) (1.5.1)\n",
      "Requirement already satisfied: threadpoolctl>=3.1.0 in ./venv_spacy/lib/python3.9/site-packages (from scikit-learn) (3.6.0)\n",
      "Requirement already satisfied: Levenshtein==0.27.1 in ./venv_spacy/lib/python3.9/site-packages (from python-Levenshtein) (0.27.1)\n",
      "Requirement already satisfied: rapidfuzz<4.0.0,>=3.9.0 in ./venv_spacy/lib/python3.9/site-packages (from Levenshtein==0.27.1->python-Levenshtein) (3.13.0)\n",
      "Requirement already satisfied: six>=1.5 in ./venv_spacy/lib/python3.9/site-packages (from python-dateutil>=2.8.2->pandas) (1.17.0)\n",
      "Requirement already satisfied: spacy==3.8.7 in ./venv_spacy/lib/python3.9/site-packages (3.8.7)\n",
      "Requirement already satisfied: spacy-legacy<3.1.0,>=3.0.11 in ./venv_spacy/lib/python3.9/site-packages (from spacy==3.8.7) (3.0.12)\n",
      "Requirement already satisfied: spacy-loggers<2.0.0,>=1.0.0 in ./venv_spacy/lib/python3.9/site-packages (from spacy==3.8.7) (1.0.5)\n",
      "Requirement already satisfied: murmurhash<1.1.0,>=0.28.0 in ./venv_spacy/lib/python3.9/site-packages (from spacy==3.8.7) (1.0.13)\n",
      "Requirement already satisfied: cymem<2.1.0,>=2.0.2 in ./venv_spacy/lib/python3.9/site-packages (from spacy==3.8.7) (2.0.11)\n",
      "Requirement already satisfied: preshed<3.1.0,>=3.0.2 in ./venv_spacy/lib/python3.9/site-packages (from spacy==3.8.7) (3.0.10)\n",
      "Requirement already satisfied: thinc<8.4.0,>=8.3.4 in ./venv_spacy/lib/python3.9/site-packages (from spacy==3.8.7) (8.3.4)\n",
      "Requirement already satisfied: wasabi<1.2.0,>=0.9.1 in ./venv_spacy/lib/python3.9/site-packages (from spacy==3.8.7) (1.1.3)\n",
      "Requirement already satisfied: srsly<3.0.0,>=2.4.3 in ./venv_spacy/lib/python3.9/site-packages (from spacy==3.8.7) (2.5.1)\n",
      "Requirement already satisfied: catalogue<2.1.0,>=2.0.6 in ./venv_spacy/lib/python3.9/site-packages (from spacy==3.8.7) (2.0.10)\n",
      "Requirement already satisfied: weasel<0.5.0,>=0.1.0 in ./venv_spacy/lib/python3.9/site-packages (from spacy==3.8.7) (0.4.1)\n",
      "Requirement already satisfied: typer<1.0.0,>=0.3.0 in ./venv_spacy/lib/python3.9/site-packages (from spacy==3.8.7) (0.16.0)\n",
      "Requirement already satisfied: tqdm<5.0.0,>=4.38.0 in ./venv_spacy/lib/python3.9/site-packages (from spacy==3.8.7) (4.67.1)\n",
      "Requirement already satisfied: numpy>=1.19.0 in ./venv_spacy/lib/python3.9/site-packages (from spacy==3.8.7) (2.0.2)\n",
      "Requirement already satisfied: requests<3.0.0,>=2.13.0 in ./venv_spacy/lib/python3.9/site-packages (from spacy==3.8.7) (2.32.3)\n",
      "Requirement already satisfied: pydantic!=1.8,!=1.8.1,<3.0.0,>=1.7.4 in ./venv_spacy/lib/python3.9/site-packages (from spacy==3.8.7) (2.11.5)\n",
      "Requirement already satisfied: jinja2 in ./venv_spacy/lib/python3.9/site-packages (from spacy==3.8.7) (3.1.6)\n",
      "Requirement already satisfied: setuptools in ./venv_spacy/lib/python3.9/site-packages (from spacy==3.8.7) (80.9.0)\n",
      "Requirement already satisfied: packaging>=20.0 in ./venv_spacy/lib/python3.9/site-packages (from spacy==3.8.7) (25.0)\n",
      "Requirement already satisfied: langcodes<4.0.0,>=3.2.0 in ./venv_spacy/lib/python3.9/site-packages (from spacy==3.8.7) (3.5.0)\n",
      "Requirement already satisfied: language-data>=1.2 in ./venv_spacy/lib/python3.9/site-packages (from langcodes<4.0.0,>=3.2.0->spacy==3.8.7) (1.3.0)\n",
      "Requirement already satisfied: annotated-types>=0.6.0 in ./venv_spacy/lib/python3.9/site-packages (from pydantic!=1.8,!=1.8.1,<3.0.0,>=1.7.4->spacy==3.8.7) (0.7.0)\n",
      "Requirement already satisfied: pydantic-core==2.33.2 in ./venv_spacy/lib/python3.9/site-packages (from pydantic!=1.8,!=1.8.1,<3.0.0,>=1.7.4->spacy==3.8.7) (2.33.2)\n",
      "Requirement already satisfied: typing-extensions>=4.12.2 in ./venv_spacy/lib/python3.9/site-packages (from pydantic!=1.8,!=1.8.1,<3.0.0,>=1.7.4->spacy==3.8.7) (4.14.0)\n",
      "Requirement already satisfied: typing-inspection>=0.4.0 in ./venv_spacy/lib/python3.9/site-packages (from pydantic!=1.8,!=1.8.1,<3.0.0,>=1.7.4->spacy==3.8.7) (0.4.1)\n",
      "Requirement already satisfied: charset-normalizer<4,>=2 in ./venv_spacy/lib/python3.9/site-packages (from requests<3.0.0,>=2.13.0->spacy==3.8.7) (3.4.2)\n",
      "Requirement already satisfied: idna<4,>=2.5 in ./venv_spacy/lib/python3.9/site-packages (from requests<3.0.0,>=2.13.0->spacy==3.8.7) (3.10)\n",
      "Requirement already satisfied: urllib3<3,>=1.21.1 in ./venv_spacy/lib/python3.9/site-packages (from requests<3.0.0,>=2.13.0->spacy==3.8.7) (2.4.0)\n",
      "Requirement already satisfied: certifi>=2017.4.17 in ./venv_spacy/lib/python3.9/site-packages (from requests<3.0.0,>=2.13.0->spacy==3.8.7) (2025.4.26)\n",
      "Requirement already satisfied: blis<1.3.0,>=1.2.0 in ./venv_spacy/lib/python3.9/site-packages (from thinc<8.4.0,>=8.3.4->spacy==3.8.7) (1.2.0)\n",
      "Requirement already satisfied: confection<1.0.0,>=0.0.1 in ./venv_spacy/lib/python3.9/site-packages (from thinc<8.4.0,>=8.3.4->spacy==3.8.7) (0.1.5)\n",
      "Requirement already satisfied: click>=8.0.0 in ./venv_spacy/lib/python3.9/site-packages (from typer<1.0.0,>=0.3.0->spacy==3.8.7) (8.1.8)\n",
      "Requirement already satisfied: shellingham>=1.3.0 in ./venv_spacy/lib/python3.9/site-packages (from typer<1.0.0,>=0.3.0->spacy==3.8.7) (1.5.4)\n",
      "Requirement already satisfied: rich>=10.11.0 in ./venv_spacy/lib/python3.9/site-packages (from typer<1.0.0,>=0.3.0->spacy==3.8.7) (14.0.0)\n",
      "Requirement already satisfied: cloudpathlib<1.0.0,>=0.7.0 in ./venv_spacy/lib/python3.9/site-packages (from weasel<0.5.0,>=0.1.0->spacy==3.8.7) (0.21.1)\n",
      "Requirement already satisfied: smart-open<8.0.0,>=5.2.1 in ./venv_spacy/lib/python3.9/site-packages (from weasel<0.5.0,>=0.1.0->spacy==3.8.7) (7.1.0)\n",
      "Requirement already satisfied: wrapt in ./venv_spacy/lib/python3.9/site-packages (from smart-open<8.0.0,>=5.2.1->weasel<0.5.0,>=0.1.0->spacy==3.8.7) (1.17.2)\n",
      "Requirement already satisfied: marisa-trie>=1.1.0 in ./venv_spacy/lib/python3.9/site-packages (from language-data>=1.2->langcodes<4.0.0,>=3.2.0->spacy==3.8.7) (1.2.1)\n",
      "Requirement already satisfied: markdown-it-py>=2.2.0 in ./venv_spacy/lib/python3.9/site-packages (from rich>=10.11.0->typer<1.0.0,>=0.3.0->spacy==3.8.7) (3.0.0)\n",
      "Requirement already satisfied: pygments<3.0.0,>=2.13.0 in ./venv_spacy/lib/python3.9/site-packages (from rich>=10.11.0->typer<1.0.0,>=0.3.0->spacy==3.8.7) (2.19.1)\n",
      "Requirement already satisfied: mdurl~=0.1 in ./venv_spacy/lib/python3.9/site-packages (from markdown-it-py>=2.2.0->rich>=10.11.0->typer<1.0.0,>=0.3.0->spacy==3.8.7) (0.1.2)\n",
      "Requirement already satisfied: MarkupSafe>=2.0 in ./venv_spacy/lib/python3.9/site-packages (from jinja2->spacy==3.8.7) (3.0.2)\n",
      "Collecting es-core-news-md==3.8.0\n",
      "  Downloading https://github.com/explosion/spacy-models/releases/download/es_core_news_md-3.8.0/es_core_news_md-3.8.0-py3-none-any.whl (42.3 MB)\n",
      "\u001b[2K     \u001b[90m━━━━━━━━━━━━━━━━━━━━━━━━━━━━━━━━━━━━━━━\u001b[0m \u001b[32m42.3/42.3 MB\u001b[0m \u001b[31m249.9 MB/s\u001b[0m eta \u001b[36m0:00:00\u001b[0m\n",
      "\u001b[?25hCollecting es-core-news-sm==3.8.0\n",
      "  Downloading https://github.com/explosion/spacy-models/releases/download/es_core_news_sm-3.8.0/es_core_news_sm-3.8.0-py3-none-any.whl (12.9 MB)\n",
      "\u001b[2K     \u001b[90m━━━━━━━━━━━━━━━━━━━━━━━━━━━━━━━━━━━━━━━\u001b[0m \u001b[32m12.9/12.9 MB\u001b[0m \u001b[31m224.1 MB/s\u001b[0m eta \u001b[36m0:00:00\u001b[0m\n",
      "\u001b[?25h"
     ]
    }
   ],
   "source": [
    "%%bash\n",
    "# 1. Activamos el venv\n",
    "source ~/venv_spacy/bin/activate\n",
    "\n",
    "# 2. Instalamos las librerías de datos y procesamiento estadístico/textual\n",
    "pip install --upgrade pip setuptools wheel\n",
    "\n",
    "# Librerías principales:\n",
    "pip install \\\n",
    "    pandas \\\n",
    "    numpy \\\n",
    "    scipy \\\n",
    "    scikit-learn \\\n",
    "    python-Levenshtein\n",
    "\n",
    "# spaCy y modelos en español (si aún no los tienes):\n",
    "pip install spacy==3.8.7 --only-binary=:all:\n",
    "pip install \\\n",
    "  \"https://github.com/explosion/spacy-models/releases/download/es_core_news_md-3.8.0/es_core_news_md-3.8.0-py3-none-any.whl\" \\\n",
    "  --only-binary=:all:\n",
    "pip install \\\n",
    "  \"https://github.com/explosion/spacy-models/releases/download/es_core_news_sm-3.8.0/es_core_news_sm-3.8.0-py3-none-any.whl\" \\\n",
    "  --only-binary=:all:\n"
   ]
  },
  {
   "cell_type": "code",
   "execution_count": 5,
   "id": "3BPm3KYT5mnp",
   "metadata": {
    "executionInfo": {
     "elapsed": 18,
     "status": "ok",
     "timestamp": 1748884752922,
     "user": {
      "displayName": "Jose Bedoya",
      "userId": "09602594722892594158"
     },
     "user_tz": 300
    },
    "id": "3BPm3KYT5mnp"
   },
   "outputs": [],
   "source": [
    "import pandas as pd\n",
    "import numpy as np\n",
    "import re\n",
    "from pandas import ExcelWriter\n",
    "from collections import Counter\n",
    "import datetime\n",
    "\n",
    "\n",
    "from sklearn.preprocessing import StandardScaler\n",
    "from scipy.stats import chi2_contingency, fisher_exact\n",
    "from sklearn.feature_selection import mutual_info_classif\n",
    "\n",
    "from Levenshtein import distance as levenshtein\n",
    "\n",
    "from sklearn.feature_extraction.text import CountVectorizer\n",
    "from sklearn.feature_extraction.text import TfidfVectorizer\n",
    "\n",
    "import spacy\n",
    "import es_core_news_sm\n",
    "import es_core_news_md"
   ]
  },
  {
   "cell_type": "code",
   "execution_count": 6,
   "id": "FAo4VnuV6ne8",
   "metadata": {
    "executionInfo": {
     "elapsed": 3500,
     "status": "ok",
     "timestamp": 1748884756424,
     "user": {
      "displayName": "Jose Bedoya",
      "userId": "09602594722892594158"
     },
     "user_tz": 300
    },
    "id": "FAo4VnuV6ne8"
   },
   "outputs": [],
   "source": [
    "nlp = spacy.load('es_core_news_md')\n",
    "nlp2 = spacy.load('es_core_news_sm')"
   ]
  },
  {
   "cell_type": "code",
   "execution_count": 7,
   "id": "b004de1e",
   "metadata": {
    "executionInfo": {
     "elapsed": 24,
     "status": "ok",
     "timestamp": 1748884756425,
     "user": {
      "displayName": "Jose Bedoya",
      "userId": "09602594722892594158"
     },
     "user_tz": 300
    },
    "id": "b004de1e"
   },
   "outputs": [],
   "source": [
    "\n",
    "\n",
    "# Definición de tipos según esquema proporcionado\n",
    "dtype = {\n",
    "    'ID_ORDEM_SERVICO': str,\n",
    "    'ID_UC': str,\n",
    "    'Estado Instalacion': str,\n",
    "    'Uso': str,\n",
    "    'Actividad Economica': str,\n",
    "    'Estado OT': str,\n",
    "    'Observacion': str,\n",
    "    'Efectividad': str,\n",
    "    'Causa Efectividad': str,\n",
    "    'Causa Evento': str,\n",
    "    'Analisis Lectura': str,\n",
    "    'Menor a Promedio': str,\n",
    "    'ID_Accion': str,\n",
    "    'Nombre Accion': str,\n",
    "    'Consumo promedio': float,\n",
    "    'Lectura en Visita': float,\n",
    "    'Ultimo Valor Leido': float,\n",
    "    'Oportunidad Ejecucion': float,\n",
    "    'Oportunidad Descargue': float,\n",
    "    'Diferencia Lectura': float,\n",
    "    'Dias entre lecturas': float,\n",
    "    'Promedio Consumo dia': float,\n",
    "    'Promedio Dia Historico': float,\n",
    "    'Score Lectura': float,\n",
    "    'Score Promedio': float,\n",
    "    'Total Puntaje': float\n",
    "}\n",
    "parse_dates = ['Fecha Generacion', 'Fecha Ejecucion', 'FechaDescargue', 'Fecha Ultima Lectura']\n",
    "\n",
    "# Carga del archivo Excel\n",
    "path = \"s3://proyectointegradorfinal/raw/Base_Entrenamiento.csv\"\n"
   ]
  },
  {
   "cell_type": "code",
   "execution_count": 8,
   "id": "41676851",
   "metadata": {},
   "outputs": [
    {
     "name": "stdout",
     "output_type": "stream",
     "text": [
      "Collecting fsspec\n",
      "  Downloading fsspec-2025.5.1-py3-none-any.whl.metadata (11 kB)\n",
      "Collecting s3fs\n",
      "  Downloading s3fs-2025.5.1-py3-none-any.whl.metadata (1.9 kB)\n",
      "Collecting aiobotocore<3.0.0,>=2.5.4 (from s3fs)\n",
      "  Downloading aiobotocore-2.22.0-py3-none-any.whl.metadata (24 kB)\n",
      "Collecting aiohttp!=4.0.0a0,!=4.0.0a1 (from s3fs)\n",
      "  Downloading aiohttp-3.12.7-cp39-cp39-manylinux_2_17_x86_64.manylinux2014_x86_64.whl.metadata (7.6 kB)\n",
      "Collecting aioitertools<1.0.0,>=0.5.1 (from aiobotocore<3.0.0,>=2.5.4->s3fs)\n",
      "  Downloading aioitertools-0.12.0-py3-none-any.whl.metadata (3.8 kB)\n",
      "Collecting botocore<1.37.4,>=1.37.2 (from aiobotocore<3.0.0,>=2.5.4->s3fs)\n",
      "  Downloading botocore-1.37.3-py3-none-any.whl.metadata (5.7 kB)\n",
      "Requirement already satisfied: python-dateutil<3.0.0,>=2.1 in ./venv_spacy/lib/python3.9/site-packages (from aiobotocore<3.0.0,>=2.5.4->s3fs) (2.9.0.post0)\n",
      "Collecting jmespath<2.0.0,>=0.7.1 (from aiobotocore<3.0.0,>=2.5.4->s3fs)\n",
      "  Downloading jmespath-1.0.1-py3-none-any.whl.metadata (7.6 kB)\n",
      "Collecting multidict<7.0.0,>=6.0.0 (from aiobotocore<3.0.0,>=2.5.4->s3fs)\n",
      "  Downloading multidict-6.4.4-cp39-cp39-manylinux_2_17_x86_64.manylinux2014_x86_64.whl.metadata (5.3 kB)\n",
      "Requirement already satisfied: wrapt<2.0.0,>=1.10.10 in ./venv_spacy/lib/python3.9/site-packages (from aiobotocore<3.0.0,>=2.5.4->s3fs) (1.17.2)\n",
      "Collecting aiohappyeyeballs>=2.5.0 (from aiohttp!=4.0.0a0,!=4.0.0a1->s3fs)\n",
      "  Downloading aiohappyeyeballs-2.6.1-py3-none-any.whl.metadata (5.9 kB)\n",
      "Collecting aiosignal>=1.1.2 (from aiohttp!=4.0.0a0,!=4.0.0a1->s3fs)\n",
      "  Downloading aiosignal-1.3.2-py2.py3-none-any.whl.metadata (3.8 kB)\n",
      "Collecting async-timeout<6.0,>=4.0 (from aiohttp!=4.0.0a0,!=4.0.0a1->s3fs)\n",
      "  Downloading async_timeout-5.0.1-py3-none-any.whl.metadata (5.1 kB)\n",
      "Collecting attrs>=17.3.0 (from aiohttp!=4.0.0a0,!=4.0.0a1->s3fs)\n",
      "  Downloading attrs-25.3.0-py3-none-any.whl.metadata (10 kB)\n",
      "Collecting frozenlist>=1.1.1 (from aiohttp!=4.0.0a0,!=4.0.0a1->s3fs)\n",
      "  Downloading frozenlist-1.6.0-cp39-cp39-manylinux_2_5_x86_64.manylinux1_x86_64.manylinux_2_17_x86_64.manylinux2014_x86_64.whl.metadata (16 kB)\n",
      "Collecting propcache>=0.2.0 (from aiohttp!=4.0.0a0,!=4.0.0a1->s3fs)\n",
      "  Downloading propcache-0.3.1-cp39-cp39-manylinux_2_17_x86_64.manylinux2014_x86_64.whl.metadata (10 kB)\n",
      "Collecting yarl<2.0,>=1.17.0 (from aiohttp!=4.0.0a0,!=4.0.0a1->s3fs)\n",
      "  Downloading yarl-1.20.0-cp39-cp39-manylinux_2_17_x86_64.manylinux2014_x86_64.whl.metadata (72 kB)\n",
      "Requirement already satisfied: typing_extensions>=4.0 in ./venv_spacy/lib/python3.9/site-packages (from aioitertools<1.0.0,>=0.5.1->aiobotocore<3.0.0,>=2.5.4->s3fs) (4.14.0)\n",
      "Collecting urllib3<1.27,>=1.25.4 (from botocore<1.37.4,>=1.37.2->aiobotocore<3.0.0,>=2.5.4->s3fs)\n",
      "  Downloading urllib3-1.26.20-py2.py3-none-any.whl.metadata (50 kB)\n",
      "Requirement already satisfied: six>=1.5 in ./venv_spacy/lib/python3.9/site-packages (from python-dateutil<3.0.0,>=2.1->aiobotocore<3.0.0,>=2.5.4->s3fs) (1.17.0)\n",
      "Requirement already satisfied: idna>=2.0 in ./venv_spacy/lib/python3.9/site-packages (from yarl<2.0,>=1.17.0->aiohttp!=4.0.0a0,!=4.0.0a1->s3fs) (3.10)\n",
      "Downloading fsspec-2025.5.1-py3-none-any.whl (199 kB)\n",
      "Downloading s3fs-2025.5.1-py3-none-any.whl (30 kB)\n",
      "Downloading aiobotocore-2.22.0-py3-none-any.whl (78 kB)\n",
      "Downloading aiohttp-3.12.7-cp39-cp39-manylinux_2_17_x86_64.manylinux2014_x86_64.whl (1.6 MB)\n",
      "\u001b[2K   \u001b[90m━━━━━━━━━━━━━━━━━━━━━━━━━━━━━━━━━━━━━━━━\u001b[0m \u001b[32m1.6/1.6 MB\u001b[0m \u001b[31m124.5 MB/s\u001b[0m eta \u001b[36m0:00:00\u001b[0m\n",
      "\u001b[?25hDownloading aioitertools-0.12.0-py3-none-any.whl (24 kB)\n",
      "Downloading async_timeout-5.0.1-py3-none-any.whl (6.2 kB)\n",
      "Downloading botocore-1.37.3-py3-none-any.whl (13.3 MB)\n",
      "\u001b[2K   \u001b[90m━━━━━━━━━━━━━━━━━━━━━━━━━━━━━━━━━━━━━━━━\u001b[0m \u001b[32m13.3/13.3 MB\u001b[0m \u001b[31m222.6 MB/s\u001b[0m eta \u001b[36m0:00:00\u001b[0m\n",
      "\u001b[?25hDownloading jmespath-1.0.1-py3-none-any.whl (20 kB)\n",
      "Downloading multidict-6.4.4-cp39-cp39-manylinux_2_17_x86_64.manylinux2014_x86_64.whl (216 kB)\n",
      "Downloading urllib3-1.26.20-py2.py3-none-any.whl (144 kB)\n",
      "Downloading yarl-1.20.0-cp39-cp39-manylinux_2_17_x86_64.manylinux2014_x86_64.whl (335 kB)\n",
      "Downloading aiohappyeyeballs-2.6.1-py3-none-any.whl (15 kB)\n",
      "Downloading aiosignal-1.3.2-py2.py3-none-any.whl (7.6 kB)\n",
      "Downloading attrs-25.3.0-py3-none-any.whl (63 kB)\n",
      "Downloading frozenlist-1.6.0-cp39-cp39-manylinux_2_5_x86_64.manylinux1_x86_64.manylinux_2_17_x86_64.manylinux2014_x86_64.whl (288 kB)\n",
      "Downloading propcache-0.3.1-cp39-cp39-manylinux_2_17_x86_64.manylinux2014_x86_64.whl (209 kB)\n",
      "Installing collected packages: urllib3, propcache, multidict, jmespath, fsspec, frozenlist, attrs, async-timeout, aioitertools, aiohappyeyeballs, yarl, botocore, aiosignal, aiohttp, aiobotocore, s3fs\n",
      "\u001b[2K  Attempting uninstall: urllib3\n",
      "\u001b[2K    Found existing installation: urllib3 2.4.0\n",
      "\u001b[2K    Uninstalling urllib3-2.4.0:\n",
      "\u001b[2K      Successfully uninstalled urllib3-2.4.0\n",
      "\u001b[2K   \u001b[90m━━━━━━━━━━━━━━━━━━━━━━━━━━━━━━━━━━━━━━━━\u001b[0m \u001b[32m16/16\u001b[0m [s3fs]2m13/16\u001b[0m [aiohttp]]ols]\n",
      "\u001b[1A\u001b[2KSuccessfully installed aiobotocore-2.22.0 aiohappyeyeballs-2.6.1 aiohttp-3.12.7 aioitertools-0.12.0 aiosignal-1.3.2 async-timeout-5.0.1 attrs-25.3.0 botocore-1.37.3 frozenlist-1.6.0 fsspec-2025.5.1 jmespath-1.0.1 multidict-6.4.4 propcache-0.3.1 s3fs-2025.5.1 urllib3-1.26.20 yarl-1.20.0\n"
     ]
    }
   ],
   "source": [
    "%%bash\n",
    "# 1. Activamos el venv\n",
    "source ~/venv_spacy/bin/activate\n",
    "\n",
    "# 2. Instalamos los paquetes necesarios para leer de S3\n",
    "pip install fsspec s3fs --only-binary=:all:\n"
   ]
  },
  {
   "cell_type": "code",
   "execution_count": null,
   "id": "utGbS7Ex1ZyM",
   "metadata": {
    "executionInfo": {
     "elapsed": 2319,
     "status": "ok",
     "timestamp": 1748884758740,
     "user": {
      "displayName": "Jose Bedoya",
      "userId": "09602594722892594158"
     },
     "user_tz": 300
    },
    "id": "utGbS7Ex1ZyM"
   },
   "outputs": [],
   "source": [
    "df = pd.read_csv(path, dtype=dtype, parse_dates=parse_dates, na_values=['#VALUE!', '#DIV/0!'])"
   ]
  },
  {
   "cell_type": "code",
   "execution_count": 11,
   "id": "lwuZkg-6Fk22",
   "metadata": {
    "executionInfo": {
     "elapsed": 27,
     "status": "ok",
     "timestamp": 1748884758741,
     "user": {
      "displayName": "Jose Bedoya",
      "userId": "09602594722892594158"
     },
     "user_tz": 300
    },
    "id": "lwuZkg-6Fk22"
   },
   "outputs": [],
   "source": [
    "df_diccionario = pd.read_csv('s3://proyectointegradorfinal/raw/DiccionarioInicial.csv')\n",
    "# Specify the encoding to 'latin-1' or 'ISO-8859-1' to correctly read the file\n",
    "df_Stop_words = pd.read_csv('s3://proyectointegradorfinal/raw/Stopwords.csv', sep=';', encoding='latin-1')\n",
    "\n",
    "\n",
    "\n",
    "# Cargar el archivo\n",
    "stopwords= pd.read_csv(\n",
    "    's3://proyectointegradorfinal/raw/Stopwords.csv',\n",
    "    sep=';',\n",
    "    encoding='latin-1'\n",
    ")\n",
    "\n",
    "# Obtener la primera columna por posición (independiente del nombre)\n",
    "df_Stop_words = df_Stop_words.iloc[:, 0].dropna()\n"
   ]
  },
  {
   "cell_type": "code",
   "execution_count": 12,
   "id": "CuO1yTSh17Ok",
   "metadata": {
    "colab": {
     "base_uri": "https://localhost:8080/",
     "height": 397
    },
    "executionInfo": {
     "elapsed": 33,
     "status": "ok",
     "timestamp": 1748884758771,
     "user": {
      "displayName": "Jose Bedoya",
      "userId": "09602594722892594158"
     },
     "user_tz": 300
    },
    "id": "CuO1yTSh17Ok",
    "outputId": "d32b4310-e831-4cb7-b7fc-4d205daee449"
   },
   "outputs": [
    {
     "data": {
      "text/plain": [
       "0             1\n",
       "1             3\n",
       "2            ?1\n",
       "3           aal\n",
       "4           abb\n",
       "5         acaso\n",
       "6         accon\n",
       "7         acion\n",
       "8    actualidad\n",
       "9         adeas\n",
       "Name: Stopword, dtype: object"
      ]
     },
     "execution_count": 12,
     "metadata": {},
     "output_type": "execute_result"
    }
   ],
   "source": [
    "df_Stop_words.head(10)"
   ]
  },
  {
   "cell_type": "markdown",
   "id": "9ad83124",
   "metadata": {
    "id": "9ad83124"
   },
   "source": [
    "se cuentan nulos"
   ]
  },
  {
   "cell_type": "code",
   "execution_count": 13,
   "id": "86431cd0",
   "metadata": {
    "colab": {
     "base_uri": "https://localhost:8080/",
     "height": 397
    },
    "executionInfo": {
     "elapsed": 7,
     "status": "ok",
     "timestamp": 1748884758779,
     "user": {
      "displayName": "Jose Bedoya",
      "userId": "09602594722892594158"
     },
     "user_tz": 300
    },
    "id": "86431cd0",
    "outputId": "378d8320-8343-4261-f7b5-81715ed0778e"
   },
   "outputs": [
    {
     "data": {
      "text/plain": [
       "Causa Efectividad       1032\n",
       "Promedio Consumo dia     272\n",
       "Menor a Promedio         272\n",
       "Score Promedio           272\n",
       "Total Puntaje            272\n",
       "Analisis Lectura         262\n",
       "Score Lectura            262\n",
       "Observacion              255\n",
       "Causa Evento             255\n",
       "Fecha Generacion         255\n",
       "dtype: int64"
      ]
     },
     "execution_count": 13,
     "metadata": {},
     "output_type": "execute_result"
    }
   ],
   "source": [
    "# Conteo de valores faltantes por columna\n",
    "missing = df.isnull().sum().sort_values(ascending=False)\n",
    "missing.head(10)\n"
   ]
  },
  {
   "cell_type": "markdown",
   "id": "6e37c9d1",
   "metadata": {
    "id": "6e37c9d1"
   },
   "source": [
    "Un 35% de datos perdidos en Causa Efectividad sugiere revisar el proceso de ingreso de información o formularios para capturar esta causa.\n",
    "\n",
    "El faltante de ~8–9% en variables numéricas y de texto es manejable, pero podría introducir sesgos si no se imputa adecuadamente."
   ]
  },
  {
   "cell_type": "code",
   "execution_count": 14,
   "id": "6c427259",
   "metadata": {
    "colab": {
     "base_uri": "https://localhost:8080/"
    },
    "executionInfo": {
     "elapsed": 17,
     "status": "ok",
     "timestamp": 1748884758798,
     "user": {
      "displayName": "Jose Bedoya",
      "userId": "09602594722892594158"
     },
     "user_tz": 300
    },
    "id": "6c427259",
    "outputId": "c113fbfa-d74d-479f-f733-ae5d1202b474"
   },
   "outputs": [
    {
     "data": {
      "text/plain": [
       "(2895, 30)"
      ]
     },
     "execution_count": 14,
     "metadata": {},
     "output_type": "execute_result"
    }
   ],
   "source": [
    "# Eliminación de registros sin fechas\n",
    "df_clean = df.dropna(subset=parse_dates)\n",
    "df_clean.shape"
   ]
  },
  {
   "cell_type": "markdown",
   "id": "bcc04783",
   "metadata": {
    "id": "bcc04783"
   },
   "source": [
    "Filas originales: (3150, 30)\n",
    "\n",
    "Tras limpieza: (2895, 30)\n",
    "\n",
    "Análisis:\n",
    "\n",
    "Se descartan 255 registros con datos temporales incompletos para mantener integridad en análisis cronológicos."
   ]
  },
  {
   "cell_type": "markdown",
   "id": "87c27c32",
   "metadata": {
    "id": "87c27c32"
   },
   "source": [
    "se eliminan ceros donde todas las variables sean 0 o todas las categoricas 0, no nos aportan informacion al modelo"
   ]
  },
  {
   "cell_type": "code",
   "execution_count": 15,
   "id": "59d39d30",
   "metadata": {
    "colab": {
     "base_uri": "https://localhost:8080/"
    },
    "executionInfo": {
     "elapsed": 30,
     "status": "ok",
     "timestamp": 1748884758856,
     "user": {
      "displayName": "Jose Bedoya",
      "userId": "09602594722892594158"
     },
     "user_tz": 300
    },
    "id": "59d39d30",
    "outputId": "1f96de88-21f3-4e82-e7d2-ceefd8802c68"
   },
   "outputs": [
    {
     "data": {
      "text/plain": [
       "(2895, 30)"
      ]
     },
     "execution_count": 15,
     "metadata": {},
     "output_type": "execute_result"
    }
   ],
   "source": [
    "# Listado de columnas categóricas y numéricas\n",
    "categorical_cols = ['Estado Instalacion','Uso','Actividad Economica','Estado OT',\n",
    "                    'Causa Efectividad','Analisis Lectura','Observacion',\n",
    "                    'Causa Evento','Menor a Promedio']\n",
    "numeric_cols = df_clean.select_dtypes(include='float').columns.tolist()\n",
    "\n",
    "# Eliminar filas donde todas las categóricas están vacías\n",
    "df = df_clean.dropna(how='all', subset=categorical_cols)\n",
    "# Eliminar filas donde todas las numéricas están vacías\n",
    "df = df_clean.dropna(how='all', subset=numeric_cols)\n",
    "\n",
    "df.shape"
   ]
  },
  {
   "cell_type": "markdown",
   "id": "87dbeeba",
   "metadata": {
    "id": "87dbeeba"
   },
   "source": [
    "Se eliminan registros que no contienen información en ninguna columna categórica, asegurando relevancia en atributos cualitativos.\n",
    "\n",
    "Se eliminan registros que no aportan valores numéricos, preservando la calidad de los análisis cuantitativos."
   ]
  },
  {
   "cell_type": "code",
   "execution_count": 16,
   "id": "d36fdf63",
   "metadata": {
    "colab": {
     "base_uri": "https://localhost:8080/",
     "height": 397
    },
    "executionInfo": {
     "elapsed": 4,
     "status": "ok",
     "timestamp": 1748884758861,
     "user": {
      "displayName": "Jose Bedoya",
      "userId": "09602594722892594158"
     },
     "user_tz": 300
    },
    "id": "d36fdf63",
    "outputId": "2b06029c-0d77-438c-e5a5-e31f9dd7feef"
   },
   "outputs": [
    {
     "data": {
      "text/plain": [
       "Causa Efectividad       777\n",
       "Promedio Consumo dia     17\n",
       "Menor a Promedio         17\n",
       "Score Promedio           17\n",
       "Total Puntaje            17\n",
       "Analisis Lectura          7\n",
       "Score Lectura             7\n",
       "Fecha Ejecucion           0\n",
       "Fecha Generacion          0\n",
       "ID_ORDEM_SERVICO          0\n",
       "dtype: int64"
      ]
     },
     "execution_count": 16,
     "metadata": {},
     "output_type": "execute_result"
    }
   ],
   "source": [
    "# Conteo de valores faltantes por columna\n",
    "missing = df.isnull().sum().sort_values(ascending=False)\n",
    "missing.head(10)"
   ]
  },
  {
   "cell_type": "markdown",
   "id": "37be1ad2",
   "metadata": {
    "id": "37be1ad2"
   },
   "source": [
    "se  etiqueta a causa efectiva como desocnocido, asegurando relevante ade atirbutos cualitativos"
   ]
  },
  {
   "cell_type": "code",
   "execution_count": 17,
   "id": "7d44b785",
   "metadata": {
    "colab": {
     "base_uri": "https://localhost:8080/",
     "height": 523
    },
    "executionInfo": {
     "elapsed": 40,
     "status": "ok",
     "timestamp": 1748884758903,
     "user": {
      "displayName": "Jose Bedoya",
      "userId": "09602594722892594158"
     },
     "user_tz": 300
    },
    "id": "7d44b785",
    "outputId": "ec30940b-9cd2-475b-c8df-4e11ec67c329"
   },
   "outputs": [
    {
     "data": {
      "text/plain": [
       "Causa Efectividad\n",
       "No fraude                                            1922\n",
       "No Aplica                                             777\n",
       "Agua Propia                                            39\n",
       "Requiere investigación por otro equipo de trabajo      37\n",
       "Otras Fuentes                                          28\n",
       "No autorizan trabajo                                   26\n",
       "Inspeccion No Realizada                                23\n",
       "Atendido con otra orden de trabajo o solicitud         18\n",
       "No asistencia dueño o representante                    16\n",
       "No hay quien informe                                    4\n",
       "Información errada                                      2\n",
       "No se localiza elemento de red                          2\n",
       "No se contacta cliente                                  1\n",
       "Name: count, dtype: int64"
      ]
     },
     "execution_count": 17,
     "metadata": {},
     "output_type": "execute_result"
    }
   ],
   "source": [
    "# Imputación de 'Desconocido' en Causa Efectividad\n",
    "df.fillna({'Causa Efectividad': 'No Aplica'}, inplace=True)\n",
    "df['Causa Efectividad'].value_counts()"
   ]
  },
  {
   "cell_type": "code",
   "execution_count": 18,
   "id": "3d323b03",
   "metadata": {
    "colab": {
     "base_uri": "https://localhost:8080/",
     "height": 397
    },
    "executionInfo": {
     "elapsed": 5,
     "status": "ok",
     "timestamp": 1748884758909,
     "user": {
      "displayName": "Jose Bedoya",
      "userId": "09602594722892594158"
     },
     "user_tz": 300
    },
    "id": "3d323b03",
    "outputId": "dab2ec00-f8fc-49df-f76a-6edb926a4413"
   },
   "outputs": [
    {
     "data": {
      "text/plain": [
       "Total Puntaje           17\n",
       "Promedio Consumo dia    17\n",
       "Menor a Promedio        17\n",
       "Score Promedio          17\n",
       "Score Lectura            7\n",
       "Analisis Lectura         7\n",
       "Fecha Ejecucion          0\n",
       "FechaDescargue           0\n",
       "ID_ORDEM_SERVICO         0\n",
       "ID_UC                    0\n",
       "dtype: int64"
      ]
     },
     "execution_count": 18,
     "metadata": {},
     "output_type": "execute_result"
    }
   ],
   "source": [
    "# Conteo de valores faltantes por columna\n",
    "missing = df.isnull().sum().sort_values(ascending=False)\n",
    "missing.head(10)"
   ]
  },
  {
   "cell_type": "markdown",
   "id": "58b5da97",
   "metadata": {
    "id": "58b5da97"
   },
   "source": [
    "etiquetamos como desconocido a analisis de lectura para asegurar lo mismo"
   ]
  },
  {
   "cell_type": "code",
   "execution_count": 19,
   "id": "c35d884b",
   "metadata": {
    "executionInfo": {
     "elapsed": 3,
     "status": "ok",
     "timestamp": 1748884758914,
     "user": {
      "displayName": "Jose Bedoya",
      "userId": "09602594722892594158"
     },
     "user_tz": 300
    },
    "id": "c35d884b"
   },
   "outputs": [],
   "source": [
    "# Etiquetado de texto faltante como 'Desconocido'\n",
    "for col in [ 'Analisis Lectura', 'Observacion', 'Causa Evento']:\n",
    "    df.loc[df[col].isna(), col] = 'Desconocido'\n",
    "\n",
    "# Etiquetado de texto faltante como 'Desconocido'\n",
    "for col in ['Causa Efectividad', 'Analisis Lectura', 'Observacion', 'Causa Evento']:\n",
    "    df[col] = df[col].fillna('Desconocido')"
   ]
  },
  {
   "cell_type": "code",
   "execution_count": 20,
   "id": "e1ddb01a",
   "metadata": {
    "colab": {
     "base_uri": "https://localhost:8080/",
     "height": 397
    },
    "executionInfo": {
     "elapsed": 35,
     "status": "ok",
     "timestamp": 1748884758952,
     "user": {
      "displayName": "Jose Bedoya",
      "userId": "09602594722892594158"
     },
     "user_tz": 300
    },
    "id": "e1ddb01a",
    "outputId": "6fee0b16-c089-4213-bf8e-464b72cbfac4"
   },
   "outputs": [
    {
     "data": {
      "text/plain": [
       "Total Puntaje           17\n",
       "Promedio Consumo dia    17\n",
       "Menor a Promedio        17\n",
       "Score Promedio          17\n",
       "Score Lectura            7\n",
       "ID_ORDEM_SERVICO         0\n",
       "Fecha Ejecucion          0\n",
       "FechaDescargue           0\n",
       "Fecha Ultima Lectura     0\n",
       "ID_UC                    0\n",
       "dtype: int64"
      ]
     },
     "execution_count": 20,
     "metadata": {},
     "output_type": "execute_result"
    }
   ],
   "source": [
    "# Conteo de valores faltantes por columna\n",
    "missing = df.isnull().sum().sort_values(ascending=False)\n",
    "missing.head(10)"
   ]
  },
  {
   "cell_type": "markdown",
   "id": "31dffbbe",
   "metadata": {
    "id": "31dffbbe"
   },
   "source": [
    "el conteo de nulos por  variable diminuyo notablemente, vamos a trabajr con estos datos"
   ]
  },
  {
   "cell_type": "code",
   "execution_count": 21,
   "id": "15613dc7",
   "metadata": {
    "colab": {
     "base_uri": "https://localhost:8080/"
    },
    "executionInfo": {
     "elapsed": 13,
     "status": "ok",
     "timestamp": 1748884758967,
     "user": {
      "displayName": "Jose Bedoya",
      "userId": "09602594722892594158"
     },
     "user_tz": 300
    },
    "id": "15613dc7",
    "outputId": "63344f54-3c87-4814-b8ef-8ec135656ae6"
   },
   "outputs": [
    {
     "name": "stdout",
     "output_type": "stream",
     "text": [
      "                                mean           std       skew     kurtosis\n",
      "Consumo promedio        2.363661e+01  1.109682e+02  16.389880   366.281519\n",
      "Lectura en Visita       1.622364e+08  5.286552e+09  37.692934  1427.208960\n",
      "Ultimo Valor Leido      7.607300e+03  4.321606e+04  16.271223   324.555013\n",
      "Oportunidad Ejecucion   7.981693e+00  3.747933e+00   0.683611     1.170656\n",
      "Oportunidad Descargue   6.272884e-01  1.170775e+00   3.223469    27.483806\n",
      "Diferencia Lectura      1.622329e+08  5.286552e+09  37.692934  1427.208946\n",
      "Dias entre lecturas     4.208359e+01  8.247468e+02  53.749066  2890.970631\n",
      "Promedio Consumo dia    7.778794e+07  3.739241e+09  53.577514  2872.999923\n",
      "Promedio Dia Historico  7.878872e-01  3.698939e+00  16.389880   366.281519\n",
      "Score Lectura           5.202216e+00  2.989643e+00   0.881143    -1.053319\n",
      "Score Promedio          2.892981e+00  2.788765e+00   0.794465    -1.369777\n",
      "Total Puntaje           8.078527e+00  5.177632e+00   0.806390    -1.000955\n"
     ]
    }
   ],
   "source": [
    "# Cálculo de estadísticos básicos y sesgo\n",
    "stats = df.select_dtypes(include='float').agg(['mean','std','skew','kurtosis']).T\n",
    "print(stats)"
   ]
  },
  {
   "cell_type": "markdown",
   "id": "7b225490",
   "metadata": {
    "id": "7b225490"
   },
   "source": [
    "Interpretación de resultados:\n",
    "\n",
    "Alta asimetría positiva (skew >> 1) en variables como Consumo promedio, Lectura en Visita, Diferencia Lectura y Días entre lecturas indica distribuciones muy sesgadas a la derecha, con pocos casos de valores extremadamente altos.\n",
    "\n",
    "Curtosis elevada (kurtosis >> 3) en estas mismas variables refleja colas pesadas y presencia de outliers extremos que pueden distorsionar análisis basados en varianza.\n",
    "\n",
    "Variables como Score Lectura, Score Promedio y Total Puntaje muestran asimetrías moderadas y curtosis cerca o por debajo de 0, sugiriendo distribuciones más cercanas a la normal.\n",
    "\n"
   ]
  },
  {
   "cell_type": "code",
   "execution_count": 22,
   "id": "315dad13",
   "metadata": {
    "colab": {
     "base_uri": "https://localhost:8080/",
     "height": 1000
    },
    "executionInfo": {
     "elapsed": 65,
     "status": "ok",
     "timestamp": 1748884759034,
     "user": {
      "displayName": "Jose Bedoya",
      "userId": "09602594722892594158"
     },
     "user_tz": 300
    },
    "id": "315dad13",
    "outputId": "d1e48a18-a2cb-499c-e21c-267e3c6b8945"
   },
   "outputs": [
    {
     "data": {
      "text/html": [
       "<div>\n",
       "<style scoped>\n",
       "    .dataframe tbody tr th:only-of-type {\n",
       "        vertical-align: middle;\n",
       "    }\n",
       "\n",
       "    .dataframe tbody tr th {\n",
       "        vertical-align: top;\n",
       "    }\n",
       "\n",
       "    .dataframe thead th {\n",
       "        text-align: right;\n",
       "    }\n",
       "</style>\n",
       "<table border=\"1\" class=\"dataframe\">\n",
       "  <thead>\n",
       "    <tr style=\"text-align: right;\">\n",
       "      <th></th>\n",
       "      <th>count</th>\n",
       "    </tr>\n",
       "    <tr>\n",
       "      <th>Estado Instalacion</th>\n",
       "      <th></th>\n",
       "    </tr>\n",
       "  </thead>\n",
       "  <tbody>\n",
       "    <tr>\n",
       "      <th>ActivoCon suministro</th>\n",
       "      <td>2850</td>\n",
       "    </tr>\n",
       "    <tr>\n",
       "      <th>RetiradoPara suspensión</th>\n",
       "      <td>12</td>\n",
       "    </tr>\n",
       "    <tr>\n",
       "      <th>RetiradoSuspendida</th>\n",
       "      <td>10</td>\n",
       "    </tr>\n",
       "    <tr>\n",
       "      <th>RetiradoRetirado por falta de pago</th>\n",
       "      <td>2</td>\n",
       "    </tr>\n",
       "    <tr>\n",
       "      <th>InactivoRetirado</th>\n",
       "      <td>2</td>\n",
       "    </tr>\n",
       "    <tr>\n",
       "      <th>053820006000430000-SUAGPO</th>\n",
       "      <td>1</td>\n",
       "    </tr>\n",
       "    <tr>\n",
       "      <th>061410003000300201-SUAGPO</th>\n",
       "      <td>1</td>\n",
       "    </tr>\n",
       "    <tr>\n",
       "      <th>074427005000710000-SUAGPO</th>\n",
       "      <td>1</td>\n",
       "    </tr>\n",
       "    <tr>\n",
       "      <th>077522403100300000-SUAGPO</th>\n",
       "      <td>1</td>\n",
       "    </tr>\n",
       "    <tr>\n",
       "      <th>055610008000180000-SUAGPO</th>\n",
       "      <td>1</td>\n",
       "    </tr>\n",
       "    <tr>\n",
       "      <th>056521102000420000-SUAGPO</th>\n",
       "      <td>1</td>\n",
       "    </tr>\n",
       "    <tr>\n",
       "      <th>024419003100850000-SUAGPO</th>\n",
       "      <td>1</td>\n",
       "    </tr>\n",
       "    <tr>\n",
       "      <th>055110004200040000-SUAGPO</th>\n",
       "      <td>1</td>\n",
       "    </tr>\n",
       "    <tr>\n",
       "      <th>086013239200710220-SUAGPO</th>\n",
       "      <td>1</td>\n",
       "    </tr>\n",
       "    <tr>\n",
       "      <th>060329105100090201-SUAGPO</th>\n",
       "      <td>1</td>\n",
       "    </tr>\n",
       "    <tr>\n",
       "      <th>057329001000340000-SUAGPO</th>\n",
       "      <td>1</td>\n",
       "    </tr>\n",
       "    <tr>\n",
       "      <th>084017500100561403-SUAGPO</th>\n",
       "      <td>1</td>\n",
       "    </tr>\n",
       "    <tr>\n",
       "      <th>Retirado#1#0</th>\n",
       "      <td>1</td>\n",
       "    </tr>\n",
       "    <tr>\n",
       "      <th>023329007000480000-SUAGPO</th>\n",
       "      <td>1</td>\n",
       "    </tr>\n",
       "    <tr>\n",
       "      <th>057624205100400000-SUAGPO</th>\n",
       "      <td>1</td>\n",
       "    </tr>\n",
       "    <tr>\n",
       "      <th>055220303001090000-SUAGPO</th>\n",
       "      <td>1</td>\n",
       "    </tr>\n",
       "    <tr>\n",
       "      <th>056523000000510000-SUAGPO</th>\n",
       "      <td>1</td>\n",
       "    </tr>\n",
       "    <tr>\n",
       "      <th>061410003100220301-SUAGPO</th>\n",
       "      <td>1</td>\n",
       "    </tr>\n",
       "    <tr>\n",
       "      <th>086012306000050000-SUAGPO</th>\n",
       "      <td>1</td>\n",
       "    </tr>\n",
       "  </tbody>\n",
       "</table>\n",
       "</div>"
      ],
      "text/plain": [
       "                                             count\n",
       "Estado Instalacion                                \n",
       "ActivoCon suministro                          2850\n",
       "RetiradoPara suspensión                         12\n",
       "RetiradoSuspendida                              10\n",
       "RetiradoRetirado por falta de pago               2\n",
       "InactivoRetirado                                 2\n",
       "053820006000430000-SUAGPO                        1\n",
       "061410003000300201-SUAGPO                        1\n",
       "074427005000710000-SUAGPO                        1\n",
       "077522403100300000-SUAGPO                        1\n",
       "055610008000180000-SUAGPO                        1\n",
       "056521102000420000-SUAGPO                        1\n",
       "024419003100850000-SUAGPO                        1\n",
       "055110004200040000-SUAGPO                        1\n",
       "086013239200710220-SUAGPO                        1\n",
       "060329105100090201-SUAGPO                        1\n",
       "057329001000340000-SUAGPO                        1\n",
       "084017500100561403-SUAGPO                        1\n",
       "Retirado#1#0                                     1\n",
       "023329007000480000-SUAGPO                        1\n",
       "057624205100400000-SUAGPO                        1\n",
       "055220303001090000-SUAGPO                        1\n",
       "056523000000510000-SUAGPO                        1\n",
       "061410003100220301-SUAGPO                        1\n",
       "086012306000050000-SUAGPO                        1"
      ]
     },
     "metadata": {},
     "output_type": "display_data"
    },
    {
     "data": {
      "text/html": [
       "<div>\n",
       "<style scoped>\n",
       "    .dataframe tbody tr th:only-of-type {\n",
       "        vertical-align: middle;\n",
       "    }\n",
       "\n",
       "    .dataframe tbody tr th {\n",
       "        vertical-align: top;\n",
       "    }\n",
       "\n",
       "    .dataframe thead th {\n",
       "        text-align: right;\n",
       "    }\n",
       "</style>\n",
       "<table border=\"1\" class=\"dataframe\">\n",
       "  <thead>\n",
       "    <tr style=\"text-align: right;\">\n",
       "      <th></th>\n",
       "      <th>count</th>\n",
       "    </tr>\n",
       "    <tr>\n",
       "      <th>Uso</th>\n",
       "      <th></th>\n",
       "    </tr>\n",
       "  </thead>\n",
       "  <tbody>\n",
       "    <tr>\n",
       "      <th>Residencial</th>\n",
       "      <td>1562</td>\n",
       "    </tr>\n",
       "    <tr>\n",
       "      <th>Comercial</th>\n",
       "      <td>718</td>\n",
       "    </tr>\n",
       "    <tr>\n",
       "      <th>Industrial</th>\n",
       "      <td>314</td>\n",
       "    </tr>\n",
       "    <tr>\n",
       "      <th>Oficial</th>\n",
       "      <td>166</td>\n",
       "    </tr>\n",
       "    <tr>\n",
       "      <th>Exenta</th>\n",
       "      <td>110</td>\n",
       "    </tr>\n",
       "    <tr>\n",
       "      <th>Calibre: 1/2</th>\n",
       "      <td>17</td>\n",
       "    </tr>\n",
       "    <tr>\n",
       "      <th>Autoconsumo</th>\n",
       "      <td>4</td>\n",
       "    </tr>\n",
       "    <tr>\n",
       "      <th>Area Comun</th>\n",
       "      <td>3</td>\n",
       "    </tr>\n",
       "    <tr>\n",
       "      <th>Calibre: 2</th>\n",
       "      <td>1</td>\n",
       "    </tr>\n",
       "  </tbody>\n",
       "</table>\n",
       "</div>"
      ],
      "text/plain": [
       "                      count\n",
       "Uso                        \n",
       "Residencial            1562\n",
       "Comercial               718\n",
       "Industrial              314\n",
       "Oficial                 166\n",
       "Exenta                  110\n",
       "Calibre: 1/2             17\n",
       "Autoconsumo               4\n",
       "Area Comun                3\n",
       "Calibre: 2                1"
      ]
     },
     "metadata": {},
     "output_type": "display_data"
    },
    {
     "data": {
      "text/html": [
       "<div>\n",
       "<style scoped>\n",
       "    .dataframe tbody tr th:only-of-type {\n",
       "        vertical-align: middle;\n",
       "    }\n",
       "\n",
       "    .dataframe tbody tr th {\n",
       "        vertical-align: top;\n",
       "    }\n",
       "\n",
       "    .dataframe thead th {\n",
       "        text-align: right;\n",
       "    }\n",
       "</style>\n",
       "<table border=\"1\" class=\"dataframe\">\n",
       "  <thead>\n",
       "    <tr style=\"text-align: right;\">\n",
       "      <th></th>\n",
       "      <th>count</th>\n",
       "    </tr>\n",
       "    <tr>\n",
       "      <th>Actividad Economica</th>\n",
       "      <th></th>\n",
       "    </tr>\n",
       "  </thead>\n",
       "  <tbody>\n",
       "    <tr>\n",
       "      <th>Residencial estrato 1</th>\n",
       "      <td>493</td>\n",
       "    </tr>\n",
       "    <tr>\n",
       "      <th>Residencial estrato 2</th>\n",
       "      <td>491</td>\n",
       "    </tr>\n",
       "    <tr>\n",
       "      <th>Residencial estrato 3</th>\n",
       "      <td>304</td>\n",
       "    </tr>\n",
       "    <tr>\n",
       "      <th>Comercial</th>\n",
       "      <td>265</td>\n",
       "    </tr>\n",
       "    <tr>\n",
       "      <th>Industrial</th>\n",
       "      <td>105</td>\n",
       "    </tr>\n",
       "    <tr>\n",
       "      <th>...</th>\n",
       "      <td>...</td>\n",
       "    </tr>\n",
       "    <tr>\n",
       "      <th>Actividades de impresion</th>\n",
       "      <td>1</td>\n",
       "    </tr>\n",
       "    <tr>\n",
       "      <th>Gestión de instalaciones deportivas</th>\n",
       "      <td>1</td>\n",
       "    </tr>\n",
       "    <tr>\n",
       "      <th>Actividades relacionadas con la promocion y produccion de espectaculos deportivos por cuenta propia, o por escuelas de deporte</th>\n",
       "      <td>1</td>\n",
       "    </tr>\n",
       "    <tr>\n",
       "      <th>Elaboracion de productos lacteos</th>\n",
       "      <td>1</td>\n",
       "    </tr>\n",
       "    <tr>\n",
       "      <th>Fabricación de otros tipos de maquinaria y equipo de uso especial n.c.p.</th>\n",
       "      <td>1</td>\n",
       "    </tr>\n",
       "  </tbody>\n",
       "</table>\n",
       "<p>192 rows × 1 columns</p>\n",
       "</div>"
      ],
      "text/plain": [
       "                                                    count\n",
       "Actividad Economica                                      \n",
       "Residencial estrato 1                          ...    493\n",
       "Residencial estrato 2                          ...    491\n",
       "Residencial estrato 3                          ...    304\n",
       "Comercial                                      ...    265\n",
       "Industrial                                     ...    105\n",
       "...                                                   ...\n",
       "Actividades de impresion                       ...      1\n",
       "Gestión de instalaciones deportivas            ...      1\n",
       "Actividades relacionadas con la promocion y pro...      1\n",
       "Elaboracion de productos lacteos               ...      1\n",
       "Fabricación de otros tipos de maquinaria y equi...      1\n",
       "\n",
       "[192 rows x 1 columns]"
      ]
     },
     "metadata": {},
     "output_type": "display_data"
    },
    {
     "data": {
      "text/html": [
       "<div>\n",
       "<style scoped>\n",
       "    .dataframe tbody tr th:only-of-type {\n",
       "        vertical-align: middle;\n",
       "    }\n",
       "\n",
       "    .dataframe tbody tr th {\n",
       "        vertical-align: top;\n",
       "    }\n",
       "\n",
       "    .dataframe thead th {\n",
       "        text-align: right;\n",
       "    }\n",
       "</style>\n",
       "<table border=\"1\" class=\"dataframe\">\n",
       "  <thead>\n",
       "    <tr style=\"text-align: right;\">\n",
       "      <th></th>\n",
       "      <th>count</th>\n",
       "    </tr>\n",
       "    <tr>\n",
       "      <th>Estado OT</th>\n",
       "      <th></th>\n",
       "    </tr>\n",
       "  </thead>\n",
       "  <tbody>\n",
       "    <tr>\n",
       "      <th>Cerrada</th>\n",
       "      <td>2435</td>\n",
       "    </tr>\n",
       "    <tr>\n",
       "      <th>DescargadaParcial</th>\n",
       "      <td>460</td>\n",
       "    </tr>\n",
       "  </tbody>\n",
       "</table>\n",
       "</div>"
      ],
      "text/plain": [
       "                   count\n",
       "Estado OT               \n",
       "Cerrada             2435\n",
       "DescargadaParcial    460"
      ]
     },
     "metadata": {},
     "output_type": "display_data"
    },
    {
     "data": {
      "text/html": [
       "<div>\n",
       "<style scoped>\n",
       "    .dataframe tbody tr th:only-of-type {\n",
       "        vertical-align: middle;\n",
       "    }\n",
       "\n",
       "    .dataframe tbody tr th {\n",
       "        vertical-align: top;\n",
       "    }\n",
       "\n",
       "    .dataframe thead th {\n",
       "        text-align: right;\n",
       "    }\n",
       "</style>\n",
       "<table border=\"1\" class=\"dataframe\">\n",
       "  <thead>\n",
       "    <tr style=\"text-align: right;\">\n",
       "      <th></th>\n",
       "      <th>count</th>\n",
       "    </tr>\n",
       "    <tr>\n",
       "      <th>Menor a Promedio</th>\n",
       "      <th></th>\n",
       "    </tr>\n",
       "  </thead>\n",
       "  <tbody>\n",
       "    <tr>\n",
       "      <th>Igual o mayor a Promedio</th>\n",
       "      <td>1970</td>\n",
       "    </tr>\n",
       "    <tr>\n",
       "      <th>Menor a Promedio</th>\n",
       "      <td>908</td>\n",
       "    </tr>\n",
       "  </tbody>\n",
       "</table>\n",
       "</div>"
      ],
      "text/plain": [
       "                          count\n",
       "Menor a Promedio               \n",
       "Igual o mayor a Promedio   1970\n",
       "Menor a Promedio            908"
      ]
     },
     "metadata": {},
     "output_type": "display_data"
    }
   ],
   "source": [
    "from IPython.display import display\n",
    "# Frecuencia de categorías principales\n",
    "for col in ['Estado Instalacion','Uso','Actividad Economica','Estado OT','Menor a Promedio']:\n",
    "    vc = df[col].value_counts()\n",
    "    df_vc = vc.to_frame(name='count')\n",
    "    display(df_vc)\n",
    "\n"
   ]
  },
  {
   "cell_type": "markdown",
   "id": "8896ef21",
   "metadata": {
    "id": "8896ef21"
   },
   "source": [
    "Estado Instalacion: “ActivoCon suministro” representa el 98% de los casos; los estados de retiro y suspensión son minoritarios (<1%). Se agrupan bajo la categoría \"Inactivo/Retiros\" para simplificar la variable.\n",
    "\n",
    "Uso: “Residencial” (54%) y “Comercial” (25%) dominan; “Industrial” (11%), “Oficial” y “Exenta” (<10% combinadas) pueden consolidarse en \"Otros Usos\" para reducir niveles.\n",
    "\n",
    "Actividad Economica: Los tres estratos residenciales suman alrededor del 85% del total, mientras que “Comercial” e “Industrial” aportan menos del 12%. Se crea una categoría \"Otros Sectores\" para actividades de baja frecuencia.\n",
    "\n",
    "Estado OT: “Cerrada” (84%) y “DescargadaParcial” (16%) muestran un balance aceptable y no requieren agrupación.\n",
    "\n",
    "Menor a Promedio: La clase “Igual o mayor a Promedio” (68%) es mayoritaria frente a “Menor a Promedio” (32%); este desequilibrio moderado es manejable en modelado."
   ]
  },
  {
   "cell_type": "code",
   "execution_count": 23,
   "id": "e6d6de4b",
   "metadata": {
    "executionInfo": {
     "elapsed": 4,
     "status": "ok",
     "timestamp": 1748884759036,
     "user": {
      "displayName": "Jose Bedoya",
      "userId": "09602594722892594158"
     },
     "user_tz": 300
    },
    "id": "e6d6de4b"
   },
   "outputs": [],
   "source": [
    "\n",
    "# Estado Instalacion → “Inactivo/Retiros” para todo lo que no sea “ActivoCon suministro”\n",
    "df['Estado Instalacion'] = df['Estado Instalacion'].apply(\n",
    "    lambda x: x if 'ActivoCon' in str(x) else 'Inactivo/Retiros'\n",
    ")\n",
    "\n",
    "# Uso → conservar “Residencial” y “Comercial”, el resto pasa a “Otros Usos”\n",
    "df['Uso'] = df['Uso'].where(\n",
    "    df['Uso'].isin(['Residencial', 'Comercial','Industrial']),\n",
    "    'Otros Usos'\n",
    ")\n",
    "\n",
    "# Actividad Economica → conservar solo los tres estratos residenciales, el resto a “Otros Sectores”\n",
    "df['Actividad Economica'] = df['Actividad Economica'].where(\n",
    "    df['Actividad Economica'].isin([\n",
    "        'Residencial estrato 1',\n",
    "        'Residencial estrato 2',\n",
    "        'Residencial estrato 3',\n",
    "        'Comercial',\n",
    "        'Industrial'\n",
    "    ]),\n",
    "    'Otros Sectores'\n",
    ")\n"
   ]
  },
  {
   "cell_type": "code",
   "execution_count": 24,
   "id": "NszsxDaRhiYb",
   "metadata": {
    "colab": {
     "base_uri": "https://localhost:8080/",
     "height": 178
    },
    "executionInfo": {
     "elapsed": 5,
     "status": "ok",
     "timestamp": 1748884759040,
     "user": {
      "displayName": "Jose Bedoya",
      "userId": "09602594722892594158"
     },
     "user_tz": 300
    },
    "id": "NszsxDaRhiYb",
    "outputId": "60d1d77e-5db7-4d8c-9604-e0322d2f8976"
   },
   "outputs": [
    {
     "data": {
      "text/plain": [
       "Estado Instalacion\n",
       "ActivoCon suministro                           2850\n",
       "Inactivo/Retiros                                 45\n",
       "Name: count, dtype: int64"
      ]
     },
     "execution_count": 24,
     "metadata": {},
     "output_type": "execute_result"
    }
   ],
   "source": [
    "df['Estado Instalacion'].value_counts()"
   ]
  },
  {
   "cell_type": "code",
   "execution_count": 25,
   "id": "Tycr_wwPo7rv",
   "metadata": {
    "colab": {
     "base_uri": "https://localhost:8080/",
     "height": 1000
    },
    "executionInfo": {
     "elapsed": 37,
     "status": "ok",
     "timestamp": 1748884759078,
     "user": {
      "displayName": "Jose Bedoya",
      "userId": "09602594722892594158"
     },
     "user_tz": 300
    },
    "id": "Tycr_wwPo7rv",
    "outputId": "aa942dd4-2c1d-4d47-89cb-118ccd4d20c9"
   },
   "outputs": [
    {
     "data": {
      "text/plain": [
       "Causa Evento\n",
       "No fraude                                             1770\n",
       "Anomalia - Se surte de otra instalacion                180\n",
       "Anomalia - Medidor parado/funcionando mal              179\n",
       "Anomalía - Medidor en contraflujo                      129\n",
       "No Aplica                                              125\n",
       "Anomalia - Instalacion directa (Cliente EPM)           105\n",
       "Predio solo o desocupado                                64\n",
       "Anomalia - Medidor destruido                            60\n",
       "Fraude - Manipulacion del medidor                       60\n",
       "Agua Propia                                             49\n",
       "Fraude - Instalacion clandestina (Con/sin medidor)      31\n",
       "Anomalia - No se ubica medidor                          25\n",
       "Anomalia - Agua Propia combinada con agua EPM           22\n",
       "Anomalía - Posible anomalía del medidor                 21\n",
       "No autorizan trabajo                                    18\n",
       "Anomalía - Medidor Comunitario                          11\n",
       "Anomalía - Medidor obsoleto                              9\n",
       "Anomalia - Desactualizacion de informacion               8\n",
       "Fraude - Adulteracion del medidor                        7\n",
       "Anomalia - Medidor tapado                                6\n",
       "Anomalia - Surte a otra instalacion                      3\n",
       "Fraude - Derivacion antes del medidor (By-Pass)          3\n",
       "Otras Fuentes                                            3\n",
       "Fraude - En estado de corte y consumiendo                1\n",
       "Anomalía - Caja de medidor con candado                   1\n",
       "Anomalía - Medidor prepago                               1\n",
       "Anomalia - Medidor profundo                              1\n",
       "Anomalia - Medidor mal ubicado                           1\n",
       "Información errada                                       1\n",
       "Anomalia - Lectura Erronea                               1\n",
       "Name: count, dtype: int64"
      ]
     },
     "execution_count": 25,
     "metadata": {},
     "output_type": "execute_result"
    }
   ],
   "source": [
    "df['Causa Evento'].value_counts()"
   ]
  },
  {
   "cell_type": "code",
   "execution_count": 26,
   "id": "78e75252",
   "metadata": {},
   "outputs": [
    {
     "name": "stdout",
     "output_type": "stream",
     "text": [
      "Collecting matplotlib\n",
      "  Downloading matplotlib-3.9.4-cp39-cp39-manylinux_2_17_x86_64.manylinux2014_x86_64.whl.metadata (11 kB)\n",
      "Collecting seaborn\n",
      "  Downloading seaborn-0.13.2-py3-none-any.whl.metadata (5.4 kB)\n",
      "Collecting contourpy>=1.0.1 (from matplotlib)\n",
      "  Downloading contourpy-1.3.0-cp39-cp39-manylinux_2_17_x86_64.manylinux2014_x86_64.whl.metadata (5.4 kB)\n",
      "Collecting cycler>=0.10 (from matplotlib)\n",
      "  Downloading cycler-0.12.1-py3-none-any.whl.metadata (3.8 kB)\n",
      "Collecting fonttools>=4.22.0 (from matplotlib)\n",
      "  Downloading fonttools-4.58.1-cp39-cp39-manylinux_2_17_x86_64.manylinux2014_x86_64.whl.metadata (106 kB)\n",
      "Collecting kiwisolver>=1.3.1 (from matplotlib)\n",
      "  Downloading kiwisolver-1.4.7-cp39-cp39-manylinux_2_12_x86_64.manylinux2010_x86_64.whl.metadata (6.3 kB)\n",
      "Requirement already satisfied: numpy>=1.23 in ./venv_spacy/lib/python3.9/site-packages (from matplotlib) (2.0.2)\n",
      "Requirement already satisfied: packaging>=20.0 in ./venv_spacy/lib/python3.9/site-packages (from matplotlib) (25.0)\n",
      "Collecting pillow>=8 (from matplotlib)\n",
      "  Downloading pillow-11.2.1-cp39-cp39-manylinux_2_28_x86_64.whl.metadata (8.9 kB)\n",
      "Collecting pyparsing>=2.3.1 (from matplotlib)\n",
      "  Downloading pyparsing-3.2.3-py3-none-any.whl.metadata (5.0 kB)\n",
      "Requirement already satisfied: python-dateutil>=2.7 in ./venv_spacy/lib/python3.9/site-packages (from matplotlib) (2.9.0.post0)\n",
      "Collecting importlib-resources>=3.2.0 (from matplotlib)\n",
      "  Downloading importlib_resources-6.5.2-py3-none-any.whl.metadata (3.9 kB)\n",
      "Requirement already satisfied: pandas>=1.2 in ./venv_spacy/lib/python3.9/site-packages (from seaborn) (2.2.3)\n",
      "Requirement already satisfied: zipp>=3.1.0 in ./venv_spacy/lib/python3.9/site-packages (from importlib-resources>=3.2.0->matplotlib) (3.22.0)\n",
      "Requirement already satisfied: pytz>=2020.1 in ./venv_spacy/lib/python3.9/site-packages (from pandas>=1.2->seaborn) (2025.2)\n",
      "Requirement already satisfied: tzdata>=2022.7 in ./venv_spacy/lib/python3.9/site-packages (from pandas>=1.2->seaborn) (2025.2)\n",
      "Requirement already satisfied: six>=1.5 in ./venv_spacy/lib/python3.9/site-packages (from python-dateutil>=2.7->matplotlib) (1.17.0)\n",
      "Downloading matplotlib-3.9.4-cp39-cp39-manylinux_2_17_x86_64.manylinux2014_x86_64.whl (8.3 MB)\n",
      "\u001b[2K   \u001b[90m━━━━━━━━━━━━━━━━━━━━━━━━━━━━━━━━━━━━━━━━\u001b[0m \u001b[32m8.3/8.3 MB\u001b[0m \u001b[31m164.6 MB/s\u001b[0m eta \u001b[36m0:00:00\u001b[0m\n",
      "\u001b[?25hDownloading seaborn-0.13.2-py3-none-any.whl (294 kB)\n",
      "Downloading contourpy-1.3.0-cp39-cp39-manylinux_2_17_x86_64.manylinux2014_x86_64.whl (321 kB)\n",
      "Downloading cycler-0.12.1-py3-none-any.whl (8.3 kB)\n",
      "Downloading fonttools-4.58.1-cp39-cp39-manylinux_2_17_x86_64.manylinux2014_x86_64.whl (4.7 MB)\n",
      "\u001b[2K   \u001b[90m━━━━━━━━━━━━━━━━━━━━━━━━━━━━━━━━━━━━━━━━\u001b[0m \u001b[32m4.7/4.7 MB\u001b[0m \u001b[31m147.6 MB/s\u001b[0m eta \u001b[36m0:00:00\u001b[0m\n",
      "\u001b[?25hDownloading importlib_resources-6.5.2-py3-none-any.whl (37 kB)\n",
      "Downloading kiwisolver-1.4.7-cp39-cp39-manylinux_2_12_x86_64.manylinux2010_x86_64.whl (1.6 MB)\n",
      "\u001b[2K   \u001b[90m━━━━━━━━━━━━━━━━━━━━━━━━━━━━━━━━━━━━━━━━\u001b[0m \u001b[32m1.6/1.6 MB\u001b[0m \u001b[31m123.6 MB/s\u001b[0m eta \u001b[36m0:00:00\u001b[0m\n",
      "\u001b[?25hDownloading pillow-11.2.1-cp39-cp39-manylinux_2_28_x86_64.whl (4.6 MB)\n",
      "\u001b[2K   \u001b[90m━━━━━━━━━━━━━━━━━━━━━━━━━━━━━━━━━━━━━━━━\u001b[0m \u001b[32m4.6/4.6 MB\u001b[0m \u001b[31m208.5 MB/s\u001b[0m eta \u001b[36m0:00:00\u001b[0m\n",
      "\u001b[?25hDownloading pyparsing-3.2.3-py3-none-any.whl (111 kB)\n",
      "Installing collected packages: pyparsing, pillow, kiwisolver, importlib-resources, fonttools, cycler, contourpy, matplotlib, seaborn\n",
      "\u001b[2K   \u001b[90m━━━━━━━━━━━━━━━━━━━━━━━━━━━━━━━━━━━━━━━━\u001b[0m \u001b[32m9/9\u001b[0m [seaborn]m8/9\u001b[0m [seaborn]ib]\n",
      "\u001b[1A\u001b[2KSuccessfully installed contourpy-1.3.0 cycler-0.12.1 fonttools-4.58.1 importlib-resources-6.5.2 kiwisolver-1.4.7 matplotlib-3.9.4 pillow-11.2.1 pyparsing-3.2.3 seaborn-0.13.2\n"
     ]
    }
   ],
   "source": [
    "%%bash\n",
    "source ~/venv_spacy/bin/activate\n",
    "\n",
    "pip install matplotlib seaborn --only-binary=:all:\n"
   ]
  },
  {
   "cell_type": "code",
   "execution_count": 27,
   "id": "fae11ff1",
   "metadata": {
    "colab": {
     "base_uri": "https://localhost:8080/",
     "height": 590
    },
    "executionInfo": {
     "elapsed": 381,
     "status": "ok",
     "timestamp": 1748884759462,
     "user": {
      "displayName": "Jose Bedoya",
      "userId": "09602594722892594158"
     },
     "user_tz": 300
    },
    "id": "fae11ff1",
    "outputId": "f6d886f2-43b6-41a5-a3a1-8e60ccff237b"
   },
   "outputs": [
    {
     "data": {
      "image/png": "[encoded data removed]",
      "text/plain": [
       "<Figure size 1000x800 with 2 Axes>"
      ]
     },
     "metadata": {},
     "output_type": "display_data"
    }
   ],
   "source": [
    "# Celda X: Mapa de correlaciones de variables numéricas\n",
    "\n",
    "import matplotlib.pyplot as plt\n",
    "\n",
    "# Calcula la matriz de correlación\n",
    "corr = df.select_dtypes(include='float').corr()\n",
    "\n",
    "# Dibuja el heatmap\n",
    "plt.figure(figsize=(10, 8))\n",
    "plt.imshow(corr, interpolation='none')\n",
    "plt.xticks(range(len(corr)), corr.columns, rotation=90)\n",
    "plt.yticks(range(len(corr)), corr.columns)\n",
    "plt.colorbar()\n",
    "plt.title('Heatmap de correlaciones de variables numéricas')\n",
    "plt.tight_layout()\n",
    "plt.show()\n"
   ]
  },
  {
   "cell_type": "markdown",
   "id": "00ca2033",
   "metadata": {
    "id": "00ca2033"
   },
   "source": [
    "Consumo promedio y Promedio Día Histórico tienen correlación ~1. Miden esencialmente lo mismo (consumo promedio calculado vs histórico), por lo que podemos dejar sólo una de ellas.\n",
    "\n",
    "Lectura en Visita, Diferencia Lectura y Días entre lecturas también muestran correlaciones muy altas (>0.9) entre sí, pues a mayor tiempo transcurrido, la diferencia entre lecturas y la lectura actual crecen de manera casi lineal.\n",
    "\n",
    "Score Lectura, Score Promedio y Total Puntaje se agrupan en la esquina inferior derecha con correlaciones entre 0.8 y 0.9. Como suenan solaparse (métricas compuestas de puntajes), conviene elegir una sola o combinarlas vía PCA.\n",
    "\n",
    "Oportunidad Ejecucion y Oportunidad Descargue mantienen correlaciones moderadas (<0.3) con el resto; aportan información propia y deberían conservarse.\n",
    "\n",
    "Cualquier par con correlación cercana a 0 indica ausencia de relación lineal; esas variables pueden mantenerse porque añaden diversidad al modelo."
   ]
  },
  {
   "cell_type": "code",
   "execution_count": 28,
   "id": "7ff8975c",
   "metadata": {},
   "outputs": [
    {
     "name": "stdout",
     "output_type": "stream",
     "text": [
      "¿Está df_diccionario definido? True\n",
      "Columnas de df_diccionario: ['Palabra', 'Sinonimo']\n",
      "       Palabra   Sinonimo\n",
      "0    abandonar  abandonar\n",
      "1     avandono  abandonar\n",
      "2      abarcar    abarcar\n",
      "3     abarrote   abarrote\n",
      "4  abastecenla  abastecer\n"
     ]
    }
   ],
   "source": [
    "# 1. ¿Existe df_diccionario?\n",
    "print(\"¿Está df_diccionario definido?\", 'df_diccionario' in globals())\n",
    "\n",
    "# 2. ¿Qué columnas tiene?\n",
    "print(\"Columnas de df_diccionario:\", df_diccionario.columns.tolist())\n",
    "\n",
    "# 3. Muestra las primeras filas para ver estructura\n",
    "print(df_diccionario.head())\n"
   ]
  },
  {
   "cell_type": "code",
   "execution_count": 29,
   "id": "FPEmiGL2JE3U",
   "metadata": {
    "colab": {
     "base_uri": "https://localhost:8080/"
    },
    "executionInfo": {
     "elapsed": 28,
     "status": "ok",
     "timestamp": 1748884759490,
     "user": {
      "displayName": "Jose Bedoya",
      "userId": "09602594722892594158"
     },
     "user_tz": 300
    },
    "id": "FPEmiGL2JE3U",
    "outputId": "8c2a574e-f333-4a47-eab0-b2e17b0ccfa8"
   },
   "outputs": [],
   "source": [
    "variables = []\n",
    "dict_final = {}\n",
    "\n",
    "palabras_nuevas = ['.']\n",
    "remplazos = {'.': '.'}\n",
    "\n",
    "# Agrupamos por “Palabra” para que cada clave quede con su lista completa de sinónimos\n",
    "dict_sinonimos = (\n",
    "    df_diccionario\n",
    "    .groupby(\"Palabra\")[\"Sinonimo\"]\n",
    "    .apply(list)\n",
    "    .to_dict()\n",
    ")\n",
    "\n",
    "# Si df_Stop_words es un DataFrame con una columna “StopWord”, primero sacamos esa Serie:\n",
    "if isinstance(df_Stop_words, pd.DataFrame):\n",
    "    df_Stop_words = df_Stop_words[\"StopWord\"]\n",
    "\n",
    "dict_stopword = set(df_Stop_words.tolist())\n"
   ]
  },
  {
   "cell_type": "markdown",
   "id": "mj9zEG4PEPgL",
   "metadata": {
    "id": "mj9zEG4PEPgL"
   },
   "source": [
    "Se definen las funciones necesarias para la limpieza de texto"
   ]
  },
  {
   "cell_type": "code",
   "execution_count": 30,
   "id": "6c68c3c0",
   "metadata": {
    "executionInfo": {
     "elapsed": 661,
     "status": "ok",
     "timestamp": 1748884760152,
     "user": {
      "displayName": "Jose Bedoya",
      "userId": "09602594722892594158"
     },
     "user_tz": 300
    },
    "id": "6c68c3c0"
   },
   "outputs": [],
   "source": [
    "\n",
    "\n",
    "# Cargar modelo de spaCy\n",
    "nlp = spacy.load(\"es_core_news_sm\")\n",
    "\n",
    "# Funciones de limpieza\n",
    "def depurar_Observacion(obs):\n",
    "    if \"FECHA VIS\" not in obs or \"RAZON\" not in obs:\n",
    "        return obs\n",
    "    try:\n",
    "        pos_ini = obs.find(\"FECHA VIS\") + 20\n",
    "        sub = obs[pos_ini:]\n",
    "        pos_fin = sub.find(\"RAZON\")\n",
    "        return sub[:pos_fin - 2].strip()\n",
    "    except:\n",
    "        return obs\n",
    "\n",
    "def depurar_marca_causa_evento(obs):\n",
    "    return obs.split(\"*CausaEvento\")[0].strip() if \"*CausaEvento\" in obs else obs\n",
    "\n",
    "def quitar_informacion_sello(texto):\n",
    "    return re.sub(r'#\\w+\\d+', '', texto)\n",
    "\n",
    "def quitar_numericos(texto):\n",
    "    return re.sub(r'[0-9]+', '', texto)\n",
    "\n",
    "def limpiar_caracteres(texto):\n",
    "    return re.sub(r'[^A-Za-z0-9áéíóúñÁÉÍÓÚÑ ]+', ' ', texto).strip()\n",
    "\n",
    "def escoger_palabras(texto):\n",
    "    if not texto or not isinstance(texto, str):\n",
    "        return ''\n",
    "    doc = nlp(texto)\n",
    "    interes = ['NOUN', 'ADJ', 'VERB', 'ADP']\n",
    "    frase = []\n",
    "    for token in doc:\n",
    "        if token.text.lower() in ['no', 'si']:\n",
    "            frase.append(token.text.lower())\n",
    "        elif token.pos_ in interes and len(token.text) > 2:\n",
    "            frase.append(token.lemma_.lower())\n",
    "    return \" \".join(frase)\n"
   ]
  },
  {
   "cell_type": "code",
   "execution_count": 31,
   "id": "JEH7l7gZIuIg",
   "metadata": {
    "executionInfo": {
     "elapsed": 65,
     "status": "ok",
     "timestamp": 1748884760219,
     "user": {
      "displayName": "Jose Bedoya",
      "userId": "09602594722892594158"
     },
     "user_tz": 300
    },
    "id": "JEH7l7gZIuIg"
   },
   "outputs": [],
   "source": [
    "def diccionario(frase):\n",
    "    f = []\n",
    "    doc = nlp(frase)\n",
    "    for token in doc:\n",
    "        palabra = token.text.lower()\n",
    "        if palabra in dict_stopword:\n",
    "            continue\n",
    "        elif palabra in palabras_nuevas:\n",
    "            f.append('imputada')\n",
    "        elif palabra in remplazos:\n",
    "            f.append(remplazos[palabra])\n",
    "        elif palabra in dict_sinonimos:\n",
    "            # Append the first synonym from the list\n",
    "            f.append(dict_sinonimos[palabra][0])\n",
    "        # Check if the word itself is a synonym in the dictionary values\n",
    "        elif any(palabra in syn_list for syn_list in dict_sinonimos.values()):\n",
    "            f.append(palabra)\n",
    "        else:\n",
    "            mejor = ''\n",
    "            porcentaje = 0\n",
    "            for key in dict_sinonimos:\n",
    "                dist = levenshtein(palabra, key)\n",
    "                max_len = max(len(palabra), len(key))\n",
    "                sim = 1 - (dist / max_len)\n",
    "                if sim > porcentaje:\n",
    "                    porcentaje = sim\n",
    "                    # Store the first synonym from the list\n",
    "                    mejor = dict_sinonimos[key][0]\n",
    "            if porcentaje >= 0.7:\n",
    "                remplazos[palabra] = mejor\n",
    "                f.append(mejor)\n",
    "            else:\n",
    "                palabras_nuevas.append(palabra)\n",
    "                f.append('imputada')\n",
    "    return \" \".join(f)\n"
   ]
  },
  {
   "cell_type": "code",
   "execution_count": 32,
   "id": "f3dEADE-JuIR",
   "metadata": {
    "executionInfo": {
     "elapsed": 15,
     "status": "ok",
     "timestamp": 1748884760220,
     "user": {
      "displayName": "Jose Bedoya",
      "userId": "09602594722892594158"
     },
     "user_tz": 300
    },
    "id": "f3dEADE-JuIR"
   },
   "outputs": [],
   "source": [
    "def pipeline_texto(texto):\n",
    "    if not isinstance(texto, str) or texto.strip() == \"\":\n",
    "        return \"\"\n",
    "    texto = depurar_Observacion(texto)\n",
    "    texto = depurar_marca_causa_evento(texto)\n",
    "    texto = quitar_informacion_sello(texto)\n",
    "    texto = quitar_numericos(texto)\n",
    "    texto = limpiar_caracteres(texto)\n",
    "    texto = escoger_palabras(texto)\n",
    "    texto = diccionario(texto)\n",
    "    return texto"
   ]
  },
  {
   "cell_type": "code",
   "execution_count": 33,
   "id": "9LbH0kZfKw0x",
   "metadata": {
    "colab": {
     "base_uri": "https://localhost:8080/"
    },
    "executionInfo": {
     "elapsed": 14,
     "status": "ok",
     "timestamp": 1748884760221,
     "user": {
      "displayName": "Jose Bedoya",
      "userId": "09602594722892594158"
     },
     "user_tz": 300
    },
    "id": "9LbH0kZfKw0x",
    "outputId": "e8fb767b-899f-455f-80cd-e5cb7bd063a2"
   },
   "outputs": [
    {
     "data": {
      "text/plain": [
       "Index(['ID_ORDEM_SERVICO', 'ID_UC', 'Estado Instalacion', 'Uso',\n",
       "       'Actividad Economica', 'Fecha Generacion', 'Fecha Ejecucion',\n",
       "       'FechaDescargue', 'Fecha Ultima Lectura', 'Estado OT', 'Observacion',\n",
       "       'Efectividad', 'Causa Efectividad', 'Causa Evento', 'Consumo promedio',\n",
       "       'Lectura en Visita', 'Ultimo Valor Leido', 'Oportunidad Ejecucion',\n",
       "       'Oportunidad Descargue', 'Diferencia Lectura', 'Dias entre lecturas',\n",
       "       'Promedio Consumo dia', 'Analisis Lectura', 'Promedio Dia Historico',\n",
       "       'Menor a Promedio', 'Score Lectura', 'Score Promedio', 'Total Puntaje',\n",
       "       'ID_Accion', 'Nombre Accion'],\n",
       "      dtype='object')"
      ]
     },
     "execution_count": 33,
     "metadata": {},
     "output_type": "execute_result"
    }
   ],
   "source": [
    "df.columns"
   ]
  },
  {
   "cell_type": "code",
   "execution_count": 34,
   "id": "bikP6GRNJ_cX",
   "metadata": {
    "executionInfo": {
     "elapsed": 78359,
     "status": "ok",
     "timestamp": 1748884838576,
     "user": {
      "displayName": "Jose Bedoya",
      "userId": "09602594722892594158"
     },
     "user_tz": 300
    },
    "id": "bikP6GRNJ_cX"
   },
   "outputs": [],
   "source": [
    "df['Observaciones_Limpias'] = df['Observacion'].apply(pipeline_texto)"
   ]
  },
  {
   "cell_type": "code",
   "execution_count": 35,
   "id": "npDEu4luLg4c",
   "metadata": {
    "colab": {
     "base_uri": "https://localhost:8080/",
     "height": 597
    },
    "executionInfo": {
     "elapsed": 10,
     "status": "ok",
     "timestamp": 1748884838583,
     "user": {
      "displayName": "Jose Bedoya",
      "userId": "09602594722892594158"
     },
     "user_tz": 300
    },
    "id": "npDEu4luLg4c",
    "outputId": "a9b78002-b8bf-415c-c3c7-1802180047cb"
   },
   "outputs": [
    {
     "data": {
      "text/html": [
       "<div>\n",
       "<style scoped>\n",
       "    .dataframe tbody tr th:only-of-type {\n",
       "        vertical-align: middle;\n",
       "    }\n",
       "\n",
       "    .dataframe tbody tr th {\n",
       "        vertical-align: top;\n",
       "    }\n",
       "\n",
       "    .dataframe thead th {\n",
       "        text-align: right;\n",
       "    }\n",
       "</style>\n",
       "<table border=\"1\" class=\"dataframe\">\n",
       "  <thead>\n",
       "    <tr style=\"text-align: right;\">\n",
       "      <th></th>\n",
       "      <th>Observacion</th>\n",
       "      <th>Observaciones_Limpias</th>\n",
       "    </tr>\n",
       "  </thead>\n",
       "  <tbody>\n",
       "    <tr>\n",
       "      <th>0</th>\n",
       "      <td>Se encuentra vivienda sin medidor, con servici...</td>\n",
       "      <td>encontrar vivienda sin medidor servicio direct...</td>\n",
       "    </tr>\n",
       "    <tr>\n",
       "      <th>1</th>\n",
       "      <td>Carlos Jaramillo \\nMedidor Water tech de ½ ser...</td>\n",
       "      <td>serie lectura posicion correcta sin signo mani...</td>\n",
       "    </tr>\n",
       "    <tr>\n",
       "      <th>2</th>\n",
       "      <td>Yonatan Giraldo predio solo no hay quien sumin...</td>\n",
       "      <td>predio no suministrar informacion medidor inst...</td>\n",
       "    </tr>\n",
       "    <tr>\n",
       "      <th>3</th>\n",
       "      <td>SEBASTIAN BUILES FECHA VISITA :24/07/2021 PAP ...</td>\n",
       "      <td>no no personal mantenimiento disponible parar ...</td>\n",
       "    </tr>\n",
       "    <tr>\n",
       "      <th>4</th>\n",
       "      <td>Jorge grueso clase de uso no residencial activ...</td>\n",
       "      <td>clase imputada no residencial actividad econom...</td>\n",
       "    </tr>\n",
       "    <tr>\n",
       "      <th>...</th>\n",
       "      <td>...</td>\n",
       "      <td>...</td>\n",
       "    </tr>\n",
       "    <tr>\n",
       "      <th>3145</th>\n",
       "      <td>Medidor serie#2020576875 con lectura 00024 con...</td>\n",
       "      <td>serie lectura sello bueno ilegible registra pr...</td>\n",
       "    </tr>\n",
       "    <tr>\n",
       "      <th>3146</th>\n",
       "      <td>Carlos Jaramillo... medidor Water tech de 1/2 ...</td>\n",
       "      <td>medidor serie lectura sello bueno posicion cor...</td>\n",
       "    </tr>\n",
       "    <tr>\n",
       "      <th>3147</th>\n",
       "      <td>Medidor serie#2020575691 con lectura 00017 con...</td>\n",
       "      <td>serie lectura llave contencion cerrado sello b...</td>\n",
       "    </tr>\n",
       "    <tr>\n",
       "      <th>3148</th>\n",
       "      <td>SEBASTIAN BUILES\\nSe visita dirección en insta...</td>\n",
       "      <td>visita direccion residencial predio serie lect...</td>\n",
       "    </tr>\n",
       "    <tr>\n",
       "      <th>3149</th>\n",
       "      <td>Clase de uso no residencial actividad económic...</td>\n",
       "      <td>imputada no residencial actividad economica of...</td>\n",
       "    </tr>\n",
       "  </tbody>\n",
       "</table>\n",
       "<p>2895 rows × 2 columns</p>\n",
       "</div>"
      ],
      "text/plain": [
       "                                            Observacion  \\\n",
       "0     Se encuentra vivienda sin medidor, con servici...   \n",
       "1     Carlos Jaramillo \\nMedidor Water tech de ½ ser...   \n",
       "2     Yonatan Giraldo predio solo no hay quien sumin...   \n",
       "3     SEBASTIAN BUILES FECHA VISITA :24/07/2021 PAP ...   \n",
       "4     Jorge grueso clase de uso no residencial activ...   \n",
       "...                                                 ...   \n",
       "3145  Medidor serie#2020576875 con lectura 00024 con...   \n",
       "3146  Carlos Jaramillo... medidor Water tech de 1/2 ...   \n",
       "3147  Medidor serie#2020575691 con lectura 00017 con...   \n",
       "3148  SEBASTIAN BUILES\\nSe visita dirección en insta...   \n",
       "3149  Clase de uso no residencial actividad económic...   \n",
       "\n",
       "                                  Observaciones_Limpias  \n",
       "0     encontrar vivienda sin medidor servicio direct...  \n",
       "1     serie lectura posicion correcta sin signo mani...  \n",
       "2     predio no suministrar informacion medidor inst...  \n",
       "3     no no personal mantenimiento disponible parar ...  \n",
       "4     clase imputada no residencial actividad econom...  \n",
       "...                                                 ...  \n",
       "3145  serie lectura sello bueno ilegible registra pr...  \n",
       "3146  medidor serie lectura sello bueno posicion cor...  \n",
       "3147  serie lectura llave contencion cerrado sello b...  \n",
       "3148  visita direccion residencial predio serie lect...  \n",
       "3149  imputada no residencial actividad economica of...  \n",
       "\n",
       "[2895 rows x 2 columns]"
      ]
     },
     "execution_count": 35,
     "metadata": {},
     "output_type": "execute_result"
    }
   ],
   "source": [
    "df[['Observacion', 'Observaciones_Limpias']]"
   ]
  },
  {
   "cell_type": "code",
   "execution_count": 36,
   "id": "PXr9zptHNT4x",
   "metadata": {
    "executionInfo": {
     "elapsed": 38,
     "status": "ok",
     "timestamp": 1748884838622,
     "user": {
      "displayName": "Jose Bedoya",
      "userId": "09602594722892594158"
     },
     "user_tz": 300
    },
    "id": "PXr9zptHNT4x"
   },
   "outputs": [],
   "source": [
    "def agrupar_causaevento(causa):\n",
    "    no_revisado = ['No Aplica', 'No autorizan trabajo', 'Otras Fuentes', 'Información errada']\n",
    "    if causa in no_revisado:\n",
    "        return 'No revisado'\n",
    "    elif causa == 'No fraude':\n",
    "        return 'Normal'\n",
    "    else:\n",
    "        return 'Anomalia'\n",
    "\n"
   ]
  },
  {
   "cell_type": "code",
   "execution_count": 37,
   "id": "s_tX4lOjUpzP",
   "metadata": {
    "executionInfo": {
     "elapsed": 33,
     "status": "ok",
     "timestamp": 1748884838660,
     "user": {
      "displayName": "Jose Bedoya",
      "userId": "09602594722892594158"
     },
     "user_tz": 300
    },
    "id": "s_tX4lOjUpzP"
   },
   "outputs": [],
   "source": [
    "df['Grupo Evento'] = df['Causa Evento'].apply(agrupar_causaevento)"
   ]
  },
  {
   "cell_type": "code",
   "execution_count": 38,
   "id": "2LtbN9tBpKz8",
   "metadata": {
    "colab": {
     "base_uri": "https://localhost:8080/",
     "height": 209
    },
    "executionInfo": {
     "elapsed": 24,
     "status": "ok",
     "timestamp": 1748884838692,
     "user": {
      "displayName": "Jose Bedoya",
      "userId": "09602594722892594158"
     },
     "user_tz": 300
    },
    "id": "2LtbN9tBpKz8",
    "outputId": "4032f4d4-6db4-453f-84eb-9d0a0806c98e"
   },
   "outputs": [
    {
     "data": {
      "text/plain": [
       "Grupo Evento\n",
       "Normal         1770\n",
       "Anomalia        978\n",
       "No revisado     147\n",
       "Name: count, dtype: int64"
      ]
     },
     "execution_count": 38,
     "metadata": {},
     "output_type": "execute_result"
    }
   ],
   "source": [
    "df['Grupo Evento'].value_counts()"
   ]
  },
  {
   "cell_type": "code",
   "execution_count": 39,
   "id": "W5sp3DQCUvXV",
   "metadata": {
    "colab": {
     "base_uri": "https://localhost:8080/",
     "height": 463
    },
    "executionInfo": {
     "elapsed": 31,
     "status": "ok",
     "timestamp": 1748884838720,
     "user": {
      "displayName": "Jose Bedoya",
      "userId": "09602594722892594158"
     },
     "user_tz": 300
    },
    "id": "W5sp3DQCUvXV",
    "outputId": "7946b23a-f645-4665-9d5d-1403f4d8f31f"
   },
   "outputs": [
    {
     "data": {
      "text/html": [
       "<div>\n",
       "<style scoped>\n",
       "    .dataframe tbody tr th:only-of-type {\n",
       "        vertical-align: middle;\n",
       "    }\n",
       "\n",
       "    .dataframe tbody tr th {\n",
       "        vertical-align: top;\n",
       "    }\n",
       "\n",
       "    .dataframe thead th {\n",
       "        text-align: right;\n",
       "    }\n",
       "</style>\n",
       "<table border=\"1\" class=\"dataframe\">\n",
       "  <thead>\n",
       "    <tr style=\"text-align: right;\">\n",
       "      <th></th>\n",
       "      <th>ID_ORDEM_SERVICO</th>\n",
       "      <th>ID_UC</th>\n",
       "      <th>Estado Instalacion</th>\n",
       "      <th>Uso</th>\n",
       "      <th>Actividad Economica</th>\n",
       "      <th>Fecha Generacion</th>\n",
       "      <th>Fecha Ejecucion</th>\n",
       "      <th>FechaDescargue</th>\n",
       "      <th>Fecha Ultima Lectura</th>\n",
       "      <th>Estado OT</th>\n",
       "      <th>...</th>\n",
       "      <th>Analisis Lectura</th>\n",
       "      <th>Promedio Dia Historico</th>\n",
       "      <th>Menor a Promedio</th>\n",
       "      <th>Score Lectura</th>\n",
       "      <th>Score Promedio</th>\n",
       "      <th>Total Puntaje</th>\n",
       "      <th>ID_Accion</th>\n",
       "      <th>Nombre Accion</th>\n",
       "      <th>Observaciones_Limpias</th>\n",
       "      <th>Grupo Evento</th>\n",
       "    </tr>\n",
       "  </thead>\n",
       "  <tbody>\n",
       "    <tr>\n",
       "      <th>0</th>\n",
       "      <td>EPMA3935989-1</td>\n",
       "      <td>12285549</td>\n",
       "      <td>ActivoCon suministro</td>\n",
       "      <td>Residencial</td>\n",
       "      <td>Otros Sectores</td>\n",
       "      <td>2021-09-10</td>\n",
       "      <td>2021-09-13</td>\n",
       "      <td>2021-09-13</td>\n",
       "      <td>2021-08-25 00:00:00</td>\n",
       "      <td>DescargadaParcial</td>\n",
       "      <td>...</td>\n",
       "      <td>Parado</td>\n",
       "      <td>0.066667</td>\n",
       "      <td>Menor a Promedio</td>\n",
       "      <td>10.0</td>\n",
       "      <td>7.0</td>\n",
       "      <td>17.0</td>\n",
       "      <td>35.389</td>\n",
       "      <td>1053_C_Otro_Canal_200820212</td>\n",
       "      <td>encontrar vivienda sin medidor servicio direct...</td>\n",
       "      <td>Anomalia</td>\n",
       "    </tr>\n",
       "    <tr>\n",
       "      <th>1</th>\n",
       "      <td>EPMA3877311-1</td>\n",
       "      <td>12285712</td>\n",
       "      <td>ActivoCon suministro</td>\n",
       "      <td>Otros Usos</td>\n",
       "      <td>Otros Sectores</td>\n",
       "      <td>2021-07-23</td>\n",
       "      <td>2021-08-05</td>\n",
       "      <td>2021-08-05</td>\n",
       "      <td>2021-08-25 00:00:00</td>\n",
       "      <td>Cerrada</td>\n",
       "      <td>...</td>\n",
       "      <td>Lectura Normal</td>\n",
       "      <td>0.400000</td>\n",
       "      <td>Igual o mayor a Promedio</td>\n",
       "      <td>3.0</td>\n",
       "      <td>1.0</td>\n",
       "      <td>4.0</td>\n",
       "      <td>34.791</td>\n",
       "      <td>2528_C_CaidaConsumo_220720210</td>\n",
       "      <td>serie lectura posicion correcta sin signo mani...</td>\n",
       "      <td>Normal</td>\n",
       "    </tr>\n",
       "    <tr>\n",
       "      <th>2</th>\n",
       "      <td>EPMA3894208-1</td>\n",
       "      <td>12285932</td>\n",
       "      <td>ActivoCon suministro</td>\n",
       "      <td>Residencial</td>\n",
       "      <td>Otros Sectores</td>\n",
       "      <td>2021-08-06</td>\n",
       "      <td>2021-08-19</td>\n",
       "      <td>2021-08-19</td>\n",
       "      <td>2021-09-01 00:00:00</td>\n",
       "      <td>Cerrada</td>\n",
       "      <td>...</td>\n",
       "      <td>Lectura Normal</td>\n",
       "      <td>0.200000</td>\n",
       "      <td>Igual o mayor a Promedio</td>\n",
       "      <td>3.0</td>\n",
       "      <td>1.0</td>\n",
       "      <td>4.0</td>\n",
       "      <td>35.096</td>\n",
       "      <td>1053_C_Otro_Canal_050820211</td>\n",
       "      <td>predio no suministrar informacion medidor inst...</td>\n",
       "      <td>Anomalia</td>\n",
       "    </tr>\n",
       "    <tr>\n",
       "      <th>3</th>\n",
       "      <td>EPMA3860292-1</td>\n",
       "      <td>12286097</td>\n",
       "      <td>ActivoCon suministro</td>\n",
       "      <td>Otros Usos</td>\n",
       "      <td>Otros Sectores</td>\n",
       "      <td>2021-07-09</td>\n",
       "      <td>2021-07-24</td>\n",
       "      <td>2021-07-27</td>\n",
       "      <td>2021-08-12 00:00:00</td>\n",
       "      <td>Cerrada</td>\n",
       "      <td>...</td>\n",
       "      <td>Lectura Normal</td>\n",
       "      <td>0.400000</td>\n",
       "      <td>Igual o mayor a Promedio</td>\n",
       "      <td>3.0</td>\n",
       "      <td>1.0</td>\n",
       "      <td>4.0</td>\n",
       "      <td>34.568</td>\n",
       "      <td>2528_C_CaidaConsumo_080720210\\t</td>\n",
       "      <td>no no personal mantenimiento disponible parar ...</td>\n",
       "      <td>No revisado</td>\n",
       "    </tr>\n",
       "    <tr>\n",
       "      <th>4</th>\n",
       "      <td>EPMA3901950-1</td>\n",
       "      <td>12286401</td>\n",
       "      <td>ActivoCon suministro</td>\n",
       "      <td>Otros Usos</td>\n",
       "      <td>Otros Sectores</td>\n",
       "      <td>2021-08-14</td>\n",
       "      <td>2021-08-31</td>\n",
       "      <td>2021-08-31</td>\n",
       "      <td>2021-08-21 00:00:00</td>\n",
       "      <td>Cerrada</td>\n",
       "      <td>...</td>\n",
       "      <td>Lectura Normal</td>\n",
       "      <td>3.133333</td>\n",
       "      <td>Igual o mayor a Promedio</td>\n",
       "      <td>3.0</td>\n",
       "      <td>1.0</td>\n",
       "      <td>4.0</td>\n",
       "      <td>35.262</td>\n",
       "      <td>3050_C_CaidaConsumo_130820210\\t</td>\n",
       "      <td>clase imputada no residencial actividad econom...</td>\n",
       "      <td>Normal</td>\n",
       "    </tr>\n",
       "  </tbody>\n",
       "</table>\n",
       "<p>5 rows × 32 columns</p>\n",
       "</div>"
      ],
      "text/plain": [
       "  ID_ORDEM_SERVICO     ID_UC                           Estado Instalacion  \\\n",
       "0    EPMA3935989-1  12285549  ActivoCon suministro                          \n",
       "1    EPMA3877311-1  12285712  ActivoCon suministro                          \n",
       "2    EPMA3894208-1  12285932  ActivoCon suministro                          \n",
       "3    EPMA3860292-1  12286097  ActivoCon suministro                          \n",
       "4    EPMA3901950-1  12286401  ActivoCon suministro                          \n",
       "\n",
       "           Uso Actividad Economica Fecha Generacion Fecha Ejecucion  \\\n",
       "0  Residencial      Otros Sectores       2021-09-10      2021-09-13   \n",
       "1   Otros Usos      Otros Sectores       2021-07-23      2021-08-05   \n",
       "2  Residencial      Otros Sectores       2021-08-06      2021-08-19   \n",
       "3   Otros Usos      Otros Sectores       2021-07-09      2021-07-24   \n",
       "4   Otros Usos      Otros Sectores       2021-08-14      2021-08-31   \n",
       "\n",
       "  FechaDescargue Fecha Ultima Lectura          Estado OT  ...  \\\n",
       "0     2021-09-13  2021-08-25 00:00:00  DescargadaParcial  ...   \n",
       "1     2021-08-05  2021-08-25 00:00:00            Cerrada  ...   \n",
       "2     2021-08-19  2021-09-01 00:00:00            Cerrada  ...   \n",
       "3     2021-07-27  2021-08-12 00:00:00            Cerrada  ...   \n",
       "4     2021-08-31  2021-08-21 00:00:00            Cerrada  ...   \n",
       "\n",
       "  Analisis Lectura Promedio Dia Historico          Menor a Promedio  \\\n",
       "0           Parado               0.066667          Menor a Promedio   \n",
       "1   Lectura Normal               0.400000  Igual o mayor a Promedio   \n",
       "2   Lectura Normal               0.200000  Igual o mayor a Promedio   \n",
       "3   Lectura Normal               0.400000  Igual o mayor a Promedio   \n",
       "4   Lectura Normal               3.133333  Igual o mayor a Promedio   \n",
       "\n",
       "  Score Lectura  Score Promedio  Total Puntaje  ID_Accion  \\\n",
       "0          10.0             7.0           17.0    35.389    \n",
       "1           3.0             1.0            4.0    34.791    \n",
       "2           3.0             1.0            4.0    35.096    \n",
       "3           3.0             1.0            4.0    34.568    \n",
       "4           3.0             1.0            4.0    35.262    \n",
       "\n",
       "                                 Nombre Accion  \\\n",
       "0   1053_C_Otro_Canal_200820212                  \n",
       "1   2528_C_CaidaConsumo_220720210                \n",
       "2   1053_C_Otro_Canal_050820211                  \n",
       "3  2528_C_CaidaConsumo_080720210\\t               \n",
       "4  3050_C_CaidaConsumo_130820210\\t               \n",
       "\n",
       "                               Observaciones_Limpias  Grupo Evento  \n",
       "0  encontrar vivienda sin medidor servicio direct...      Anomalia  \n",
       "1  serie lectura posicion correcta sin signo mani...        Normal  \n",
       "2  predio no suministrar informacion medidor inst...      Anomalia  \n",
       "3  no no personal mantenimiento disponible parar ...   No revisado  \n",
       "4  clase imputada no residencial actividad econom...        Normal  \n",
       "\n",
       "[5 rows x 32 columns]"
      ]
     },
     "execution_count": 39,
     "metadata": {},
     "output_type": "execute_result"
    }
   ],
   "source": [
    "df.head(5)"
   ]
  },
  {
   "cell_type": "code",
   "execution_count": 40,
   "id": "Nbkv3w7-YrKT",
   "metadata": {
    "colab": {
     "base_uri": "https://localhost:8080/"
    },
    "executionInfo": {
     "elapsed": 37,
     "status": "ok",
     "timestamp": 1748884838757,
     "user": {
      "displayName": "Jose Bedoya",
      "userId": "09602594722892594158"
     },
     "user_tz": 300
    },
    "id": "Nbkv3w7-YrKT",
    "outputId": "4e54fc69-578a-4295-cfc2-8d970efb4e93"
   },
   "outputs": [
    {
     "name": "stdout",
     "output_type": "stream",
     "text": [
      "<class 'pandas.core.frame.DataFrame'>\n",
      "Index: 2895 entries, 0 to 3149\n",
      "Data columns (total 32 columns):\n",
      " #   Column                  Non-Null Count  Dtype         \n",
      "---  ------                  --------------  -----         \n",
      " 0   ID_ORDEM_SERVICO        2895 non-null   object        \n",
      " 1   ID_UC                   2895 non-null   object        \n",
      " 2   Estado Instalacion      2895 non-null   object        \n",
      " 3   Uso                     2895 non-null   object        \n",
      " 4   Actividad Economica     2895 non-null   object        \n",
      " 5   Fecha Generacion        2895 non-null   datetime64[ns]\n",
      " 6   Fecha Ejecucion         2895 non-null   datetime64[ns]\n",
      " 7   FechaDescargue          2895 non-null   datetime64[ns]\n",
      " 8   Fecha Ultima Lectura    2895 non-null   object        \n",
      " 9   Estado OT               2895 non-null   object        \n",
      " 10  Observacion             2895 non-null   object        \n",
      " 11  Efectividad             2895 non-null   object        \n",
      " 12  Causa Efectividad       2895 non-null   object        \n",
      " 13  Causa Evento            2895 non-null   object        \n",
      " 14  Consumo promedio        2895 non-null   float64       \n",
      " 15  Lectura en Visita       2895 non-null   float64       \n",
      " 16  Ultimo Valor Leido      2895 non-null   float64       \n",
      " 17  Oportunidad Ejecucion   2895 non-null   float64       \n",
      " 18  Oportunidad Descargue   2895 non-null   float64       \n",
      " 19  Diferencia Lectura      2895 non-null   float64       \n",
      " 20  Dias entre lecturas     2895 non-null   float64       \n",
      " 21  Promedio Consumo dia    2878 non-null   float64       \n",
      " 22  Analisis Lectura        2895 non-null   object        \n",
      " 23  Promedio Dia Historico  2895 non-null   float64       \n",
      " 24  Menor a Promedio        2878 non-null   object        \n",
      " 25  Score Lectura           2888 non-null   float64       \n",
      " 26  Score Promedio          2878 non-null   float64       \n",
      " 27  Total Puntaje           2878 non-null   float64       \n",
      " 28  ID_Accion               2895 non-null   object        \n",
      " 29  Nombre Accion           2895 non-null   object        \n",
      " 30  Observaciones_Limpias   2895 non-null   object        \n",
      " 31  Grupo Evento            2895 non-null   object        \n",
      "dtypes: datetime64[ns](3), float64(12), object(17)\n",
      "memory usage: 746.4+ KB\n"
     ]
    }
   ],
   "source": [
    "df.info()"
   ]
  },
  {
   "cell_type": "code",
   "execution_count": 41,
   "id": "-Q_si4cuXdk_",
   "metadata": {
    "executionInfo": {
     "elapsed": 2,
     "status": "ok",
     "timestamp": 1748884838761,
     "user": {
      "displayName": "Jose Bedoya",
      "userId": "09602594722892594158"
     },
     "user_tz": 300
    },
    "id": "-Q_si4cuXdk_"
   },
   "outputs": [],
   "source": [
    "\n",
    "\n",
    "def chi_sq_fisher(d):\n",
    "    datos=d.copy()\n",
    "    lista_categoricos=['Estado Instalacion','Uso','Actividad Economica','Analisis Lectura']\n",
    "    y=datos['Grupo Evento']\n",
    "    categoricos_datos = datos[lista_categoricos]\n",
    "\n",
    "\n",
    "    # Calcular mutual information para cada variable categórica con el target\n",
    "    mi = mutual_info_classif(categoricos_datos.apply(lambda x: x.astype('category').cat.codes), y.loc[categoricos_datos.index], discrete_features=True)\n",
    "    mi_dict = dict(zip(lista_categoricos, mi))\n",
    "\n",
    "    i = 0\n",
    "    while i < len(lista_categoricos) - 1:\n",
    "        col1 = lista_categoricos[i]\n",
    "        col2 = lista_categoricos[i+1]\n",
    "\n",
    "        at1 = categoricos_datos[col1].astype('category')\n",
    "        at2 = categoricos_datos[col2].astype('category')\n",
    "\n",
    "        tabla = pd.crosstab(at1, at2)\n",
    "        matriz = tabla.values\n",
    "\n",
    "        # Chi2 test\n",
    "        stat, p, dof, esperada = chi2_contingency(matriz)\n",
    "        nf, nc = esperada.shape\n",
    "        menor_a_cinco = (esperada < 5).sum()\n",
    "        porcentaje = menor_a_cinco / (nf * nc)\n",
    "\n",
    "        if porcentaje > 0.20:\n",
    "            # Usar test de Fisher solo para tablas 2x2 (o pequeñas)\n",
    "            if matriz.shape == (2, 2):\n",
    "                _, p_value = fisher_exact(matriz)\n",
    "                test_p = p_value\n",
    "                test_name = \"Fisher\"\n",
    "            else:\n",
    "                # Si tabla no es 2x2, saltamos Fisher\n",
    "                test_p = p\n",
    "                test_name = \"Chi2 (sin Fisher)\"\n",
    "        else:\n",
    "            test_p = p\n",
    "            test_name = \"Chi2\"\n",
    "\n",
    "        # Dependencia fuerte si p < 0.05\n",
    "        if test_p < 0.05:\n",
    "            # Redundancia detectada\n",
    "            # Escoger cuál columna eliminar según mutual info con y\n",
    "            mi_col1 = mi_dict[col1]\n",
    "            mi_col2 = mi_dict[col2]\n",
    "\n",
    "            if mi_col1 < mi_col2:\n",
    "                eliminar = col1\n",
    "                lista_categoricos.pop(i)\n",
    "                # También eliminar de dict mi\n",
    "                mi_dict.pop(col1)\n",
    "                # No incrementar i, para revisar nuevo elemento en posición i\n",
    "            else:\n",
    "                eliminar = col2\n",
    "                lista_categoricos.pop(i+1)\n",
    "                mi_dict.pop(col2)\n",
    "                # i sigue igual para la siguiente comparación\n",
    "\n",
    "            print(f\"Eliminada columna redundante: {eliminar} (test: {test_name}, p={test_p:.4f})\")\n",
    "        else:\n",
    "            i += 1\n",
    "\n",
    "    return lista_categoricos\n"
   ]
  },
  {
   "cell_type": "code",
   "execution_count": 42,
   "id": "JFBV74xzYRtD",
   "metadata": {
    "colab": {
     "base_uri": "https://localhost:8080/"
    },
    "executionInfo": {
     "elapsed": 83,
     "status": "ok",
     "timestamp": 1748884838846,
     "user": {
      "displayName": "Jose Bedoya",
      "userId": "09602594722892594158"
     },
     "user_tz": 300
    },
    "id": "JFBV74xzYRtD",
    "outputId": "776c46f8-2a21-4689-f816-3cf796a60a9f"
   },
   "outputs": [
    {
     "name": "stdout",
     "output_type": "stream",
     "text": [
      "Eliminada columna redundante: Estado Instalacion (test: Chi2, p=0.0000)\n"
     ]
    }
   ],
   "source": [
    "col_categoricas=chi_sq_fisher(df)"
   ]
  },
  {
   "cell_type": "code",
   "execution_count": 43,
   "id": "A8avqzDZZQbk",
   "metadata": {
    "colab": {
     "base_uri": "https://localhost:8080/"
    },
    "executionInfo": {
     "elapsed": 10,
     "status": "ok",
     "timestamp": 1748884838880,
     "user": {
      "displayName": "Jose Bedoya",
      "userId": "09602594722892594158"
     },
     "user_tz": 300
    },
    "id": "A8avqzDZZQbk",
    "outputId": "047e6b82-6c8c-4a38-834a-00a8350deaa2"
   },
   "outputs": [
    {
     "data": {
      "text/plain": [
       "['Uso', 'Actividad Economica', 'Analisis Lectura']"
      ]
     },
     "execution_count": 43,
     "metadata": {},
     "output_type": "execute_result"
    }
   ],
   "source": [
    "col_categoricas"
   ]
  },
  {
   "cell_type": "code",
   "execution_count": 44,
   "id": "CFJSdx2KZsvm",
   "metadata": {
    "executionInfo": {
     "elapsed": 1,
     "status": "ok",
     "timestamp": 1748884838883,
     "user": {
      "displayName": "Jose Bedoya",
      "userId": "09602594722892594158"
     },
     "user_tz": 300
    },
    "id": "CFJSdx2KZsvm"
   },
   "outputs": [],
   "source": [
    "def categorizar_y(x):\n",
    "  if x=='Normal':\n",
    "    return 0\n",
    "  elif x=='Anomalia':\n",
    "    return 1\n",
    "  else:\n",
    "    return 2"
   ]
  },
  {
   "cell_type": "code",
   "execution_count": 45,
   "id": "6Ggqj0dvZ66l",
   "metadata": {
    "executionInfo": {
     "elapsed": 1,
     "status": "ok",
     "timestamp": 1748884838906,
     "user": {
      "displayName": "Jose Bedoya",
      "userId": "09602594722892594158"
     },
     "user_tz": 300
    },
    "id": "6Ggqj0dvZ66l"
   },
   "outputs": [],
   "source": [
    "df['CausaClasificada']=df['Grupo Evento'].apply(categorizar_y)"
   ]
  },
  {
   "cell_type": "code",
   "execution_count": 46,
   "id": "wbPyaH67aM4v",
   "metadata": {
    "colab": {
     "base_uri": "https://localhost:8080/",
     "height": 463
    },
    "executionInfo": {
     "elapsed": 25,
     "status": "ok",
     "timestamp": 1748884838935,
     "user": {
      "displayName": "Jose Bedoya",
      "userId": "09602594722892594158"
     },
     "user_tz": 300
    },
    "id": "wbPyaH67aM4v",
    "outputId": "72b50e94-d69e-4be0-c35f-afc5aca441bf"
   },
   "outputs": [
    {
     "data": {
      "text/html": [
       "<div>\n",
       "<style scoped>\n",
       "    .dataframe tbody tr th:only-of-type {\n",
       "        vertical-align: middle;\n",
       "    }\n",
       "\n",
       "    .dataframe tbody tr th {\n",
       "        vertical-align: top;\n",
       "    }\n",
       "\n",
       "    .dataframe thead th {\n",
       "        text-align: right;\n",
       "    }\n",
       "</style>\n",
       "<table border=\"1\" class=\"dataframe\">\n",
       "  <thead>\n",
       "    <tr style=\"text-align: right;\">\n",
       "      <th></th>\n",
       "      <th>ID_ORDEM_SERVICO</th>\n",
       "      <th>ID_UC</th>\n",
       "      <th>Estado Instalacion</th>\n",
       "      <th>Uso</th>\n",
       "      <th>Actividad Economica</th>\n",
       "      <th>Fecha Generacion</th>\n",
       "      <th>Fecha Ejecucion</th>\n",
       "      <th>FechaDescargue</th>\n",
       "      <th>Fecha Ultima Lectura</th>\n",
       "      <th>Estado OT</th>\n",
       "      <th>...</th>\n",
       "      <th>Promedio Dia Historico</th>\n",
       "      <th>Menor a Promedio</th>\n",
       "      <th>Score Lectura</th>\n",
       "      <th>Score Promedio</th>\n",
       "      <th>Total Puntaje</th>\n",
       "      <th>ID_Accion</th>\n",
       "      <th>Nombre Accion</th>\n",
       "      <th>Observaciones_Limpias</th>\n",
       "      <th>Grupo Evento</th>\n",
       "      <th>CausaClasificada</th>\n",
       "    </tr>\n",
       "  </thead>\n",
       "  <tbody>\n",
       "    <tr>\n",
       "      <th>0</th>\n",
       "      <td>EPMA3935989-1</td>\n",
       "      <td>12285549</td>\n",
       "      <td>ActivoCon suministro</td>\n",
       "      <td>Residencial</td>\n",
       "      <td>Otros Sectores</td>\n",
       "      <td>2021-09-10</td>\n",
       "      <td>2021-09-13</td>\n",
       "      <td>2021-09-13</td>\n",
       "      <td>2021-08-25 00:00:00</td>\n",
       "      <td>DescargadaParcial</td>\n",
       "      <td>...</td>\n",
       "      <td>0.066667</td>\n",
       "      <td>Menor a Promedio</td>\n",
       "      <td>10.0</td>\n",
       "      <td>7.0</td>\n",
       "      <td>17.0</td>\n",
       "      <td>35.389</td>\n",
       "      <td>1053_C_Otro_Canal_200820212</td>\n",
       "      <td>encontrar vivienda sin medidor servicio direct...</td>\n",
       "      <td>Anomalia</td>\n",
       "      <td>1</td>\n",
       "    </tr>\n",
       "    <tr>\n",
       "      <th>1</th>\n",
       "      <td>EPMA3877311-1</td>\n",
       "      <td>12285712</td>\n",
       "      <td>ActivoCon suministro</td>\n",
       "      <td>Otros Usos</td>\n",
       "      <td>Otros Sectores</td>\n",
       "      <td>2021-07-23</td>\n",
       "      <td>2021-08-05</td>\n",
       "      <td>2021-08-05</td>\n",
       "      <td>2021-08-25 00:00:00</td>\n",
       "      <td>Cerrada</td>\n",
       "      <td>...</td>\n",
       "      <td>0.400000</td>\n",
       "      <td>Igual o mayor a Promedio</td>\n",
       "      <td>3.0</td>\n",
       "      <td>1.0</td>\n",
       "      <td>4.0</td>\n",
       "      <td>34.791</td>\n",
       "      <td>2528_C_CaidaConsumo_220720210</td>\n",
       "      <td>serie lectura posicion correcta sin signo mani...</td>\n",
       "      <td>Normal</td>\n",
       "      <td>0</td>\n",
       "    </tr>\n",
       "    <tr>\n",
       "      <th>2</th>\n",
       "      <td>EPMA3894208-1</td>\n",
       "      <td>12285932</td>\n",
       "      <td>ActivoCon suministro</td>\n",
       "      <td>Residencial</td>\n",
       "      <td>Otros Sectores</td>\n",
       "      <td>2021-08-06</td>\n",
       "      <td>2021-08-19</td>\n",
       "      <td>2021-08-19</td>\n",
       "      <td>2021-09-01 00:00:00</td>\n",
       "      <td>Cerrada</td>\n",
       "      <td>...</td>\n",
       "      <td>0.200000</td>\n",
       "      <td>Igual o mayor a Promedio</td>\n",
       "      <td>3.0</td>\n",
       "      <td>1.0</td>\n",
       "      <td>4.0</td>\n",
       "      <td>35.096</td>\n",
       "      <td>1053_C_Otro_Canal_050820211</td>\n",
       "      <td>predio no suministrar informacion medidor inst...</td>\n",
       "      <td>Anomalia</td>\n",
       "      <td>1</td>\n",
       "    </tr>\n",
       "    <tr>\n",
       "      <th>3</th>\n",
       "      <td>EPMA3860292-1</td>\n",
       "      <td>12286097</td>\n",
       "      <td>ActivoCon suministro</td>\n",
       "      <td>Otros Usos</td>\n",
       "      <td>Otros Sectores</td>\n",
       "      <td>2021-07-09</td>\n",
       "      <td>2021-07-24</td>\n",
       "      <td>2021-07-27</td>\n",
       "      <td>2021-08-12 00:00:00</td>\n",
       "      <td>Cerrada</td>\n",
       "      <td>...</td>\n",
       "      <td>0.400000</td>\n",
       "      <td>Igual o mayor a Promedio</td>\n",
       "      <td>3.0</td>\n",
       "      <td>1.0</td>\n",
       "      <td>4.0</td>\n",
       "      <td>34.568</td>\n",
       "      <td>2528_C_CaidaConsumo_080720210\\t</td>\n",
       "      <td>no no personal mantenimiento disponible parar ...</td>\n",
       "      <td>No revisado</td>\n",
       "      <td>2</td>\n",
       "    </tr>\n",
       "    <tr>\n",
       "      <th>4</th>\n",
       "      <td>EPMA3901950-1</td>\n",
       "      <td>12286401</td>\n",
       "      <td>ActivoCon suministro</td>\n",
       "      <td>Otros Usos</td>\n",
       "      <td>Otros Sectores</td>\n",
       "      <td>2021-08-14</td>\n",
       "      <td>2021-08-31</td>\n",
       "      <td>2021-08-31</td>\n",
       "      <td>2021-08-21 00:00:00</td>\n",
       "      <td>Cerrada</td>\n",
       "      <td>...</td>\n",
       "      <td>3.133333</td>\n",
       "      <td>Igual o mayor a Promedio</td>\n",
       "      <td>3.0</td>\n",
       "      <td>1.0</td>\n",
       "      <td>4.0</td>\n",
       "      <td>35.262</td>\n",
       "      <td>3050_C_CaidaConsumo_130820210\\t</td>\n",
       "      <td>clase imputada no residencial actividad econom...</td>\n",
       "      <td>Normal</td>\n",
       "      <td>0</td>\n",
       "    </tr>\n",
       "  </tbody>\n",
       "</table>\n",
       "<p>5 rows × 33 columns</p>\n",
       "</div>"
      ],
      "text/plain": [
       "  ID_ORDEM_SERVICO     ID_UC                           Estado Instalacion  \\\n",
       "0    EPMA3935989-1  12285549  ActivoCon suministro                          \n",
       "1    EPMA3877311-1  12285712  ActivoCon suministro                          \n",
       "2    EPMA3894208-1  12285932  ActivoCon suministro                          \n",
       "3    EPMA3860292-1  12286097  ActivoCon suministro                          \n",
       "4    EPMA3901950-1  12286401  ActivoCon suministro                          \n",
       "\n",
       "           Uso Actividad Economica Fecha Generacion Fecha Ejecucion  \\\n",
       "0  Residencial      Otros Sectores       2021-09-10      2021-09-13   \n",
       "1   Otros Usos      Otros Sectores       2021-07-23      2021-08-05   \n",
       "2  Residencial      Otros Sectores       2021-08-06      2021-08-19   \n",
       "3   Otros Usos      Otros Sectores       2021-07-09      2021-07-24   \n",
       "4   Otros Usos      Otros Sectores       2021-08-14      2021-08-31   \n",
       "\n",
       "  FechaDescargue Fecha Ultima Lectura          Estado OT  ...  \\\n",
       "0     2021-09-13  2021-08-25 00:00:00  DescargadaParcial  ...   \n",
       "1     2021-08-05  2021-08-25 00:00:00            Cerrada  ...   \n",
       "2     2021-08-19  2021-09-01 00:00:00            Cerrada  ...   \n",
       "3     2021-07-27  2021-08-12 00:00:00            Cerrada  ...   \n",
       "4     2021-08-31  2021-08-21 00:00:00            Cerrada  ...   \n",
       "\n",
       "  Promedio Dia Historico          Menor a Promedio Score Lectura  \\\n",
       "0               0.066667          Menor a Promedio          10.0   \n",
       "1               0.400000  Igual o mayor a Promedio           3.0   \n",
       "2               0.200000  Igual o mayor a Promedio           3.0   \n",
       "3               0.400000  Igual o mayor a Promedio           3.0   \n",
       "4               3.133333  Igual o mayor a Promedio           3.0   \n",
       "\n",
       "  Score Promedio  Total Puntaje  ID_Accion  \\\n",
       "0            7.0           17.0    35.389    \n",
       "1            1.0            4.0    34.791    \n",
       "2            1.0            4.0    35.096    \n",
       "3            1.0            4.0    34.568    \n",
       "4            1.0            4.0    35.262    \n",
       "\n",
       "                                 Nombre Accion  \\\n",
       "0   1053_C_Otro_Canal_200820212                  \n",
       "1   2528_C_CaidaConsumo_220720210                \n",
       "2   1053_C_Otro_Canal_050820211                  \n",
       "3  2528_C_CaidaConsumo_080720210\\t               \n",
       "4  3050_C_CaidaConsumo_130820210\\t               \n",
       "\n",
       "                               Observaciones_Limpias  Grupo Evento  \\\n",
       "0  encontrar vivienda sin medidor servicio direct...      Anomalia   \n",
       "1  serie lectura posicion correcta sin signo mani...        Normal   \n",
       "2  predio no suministrar informacion medidor inst...      Anomalia   \n",
       "3  no no personal mantenimiento disponible parar ...   No revisado   \n",
       "4  clase imputada no residencial actividad econom...        Normal   \n",
       "\n",
       "   CausaClasificada  \n",
       "0                 1  \n",
       "1                 0  \n",
       "2                 1  \n",
       "3                 2  \n",
       "4                 0  \n",
       "\n",
       "[5 rows x 33 columns]"
      ]
     },
     "execution_count": 46,
     "metadata": {},
     "output_type": "execute_result"
    }
   ],
   "source": [
    "df.head(5)"
   ]
  },
  {
   "cell_type": "code",
   "execution_count": 47,
   "id": "Bsq1aJz8bLTM",
   "metadata": {
    "executionInfo": {
     "elapsed": 39,
     "status": "ok",
     "timestamp": 1748884838979,
     "user": {
      "displayName": "Jose Bedoya",
      "userId": "09602594722892594158"
     },
     "user_tz": 300
    },
    "id": "Bsq1aJz8bLTM"
   },
   "outputs": [],
   "source": [
    "from sklearn.preprocessing import StandardScaler\n",
    "\n",
    "def correlacion_numericas(datos):\n",
    "    lista_num_final = list()\n",
    "    scaler = StandardScaler()\n",
    "    datos1 = datos.copy()\n",
    "    datos1.dropna(inplace=True)\n",
    "    y=datos1['CausaClasificada']\n",
    "    datos1.drop(columns=['CausaClasificada','Oportunidad Ejecucion','Oportunidad Descargue'], inplace=True)\n",
    "\n",
    "\n",
    "    numericos1 = datos1.select_dtypes(include=[np.number])\n",
    "\n",
    "    listacolumnas = list(numericos1.columns)\n",
    "    print(listacolumnas)\n",
    "\n",
    "    numericos_copia1 = numericos1.copy()\n",
    "    scaler.fit(numericos_copia1)\n",
    "    numericos_copia = pd.DataFrame(scaler.transform(numericos_copia1), columns=listacolumnas)\n",
    "\n",
    "    i = 0\n",
    "    cantcolumnas = len(listacolumnas)\n",
    "\n",
    "    while i < cantcolumnas - 1:\n",
    "        col_i = listacolumnas[i]\n",
    "        at1 = numericos_copia[col_i]\n",
    "\n",
    "        n = i + 1\n",
    "        while n < cantcolumnas:\n",
    "            col_n = listacolumnas[n]\n",
    "            at2 = numericos_copia[col_n]\n",
    "\n",
    "            correlacion = at1.corr(at2)\n",
    "\n",
    "            if np.isnan(correlacion):\n",
    "                # Eliminar columna i si correlacion no es válida\n",
    "                print(f\"Eliminada columna {col_i} (correlacion nan)\")\n",
    "                listacolumnas.pop(i)\n",
    "                cantcolumnas -= 1\n",
    "                i -= 1\n",
    "                break\n",
    "            elif abs(correlacion) > 0.7:\n",
    "                # Evaluar también correlación con target\n",
    "                corr_target_i = datos1[col_i].corr(y)\n",
    "                corr_target_n = datos1[col_n].corr(y)\n",
    "\n",
    "                # Si corr con target es nan, lo consideramos 0 para no favorecerlo\n",
    "                if np.isnan(corr_target_i):\n",
    "                    corr_target_i = 0\n",
    "                if np.isnan(corr_target_n):\n",
    "                    corr_target_n = 0\n",
    "\n",
    "                if corr_target_i < corr_target_n:\n",
    "                    # Eliminar columna i\n",
    "                    print(f\"Eliminada columna {col_i} (correlacion {correlacion:.2f})\")\n",
    "                    listacolumnas.pop(i)\n",
    "                    cantcolumnas -= 1\n",
    "                    i -= 1\n",
    "                    break\n",
    "                else:\n",
    "                    # Eliminar columna n\n",
    "                    print(f\"Eliminada columna {col_n} (correlacion {correlacion:.2f})\")\n",
    "                    listacolumnas.pop(n)\n",
    "                    cantcolumnas -= 1\n",
    "                    n -= 1\n",
    "            else:\n",
    "                n += 1\n",
    "\n",
    "        i += 1\n",
    "\n",
    "    lista_num_final = listacolumnas\n",
    "    return lista_num_final\n"
   ]
  },
  {
   "cell_type": "code",
   "execution_count": 48,
   "id": "Rxl-8hZjbqH3",
   "metadata": {
    "colab": {
     "base_uri": "https://localhost:8080/"
    },
    "executionInfo": {
     "elapsed": 8,
     "status": "ok",
     "timestamp": 1748884838988,
     "user": {
      "displayName": "Jose Bedoya",
      "userId": "09602594722892594158"
     },
     "user_tz": 300
    },
    "id": "Rxl-8hZjbqH3",
    "outputId": "4a7c4300-fef4-41b2-cdbe-19f016412786"
   },
   "outputs": [
    {
     "name": "stdout",
     "output_type": "stream",
     "text": [
      "['Consumo promedio', 'Lectura en Visita', 'Ultimo Valor Leido', 'Diferencia Lectura', 'Dias entre lecturas', 'Promedio Consumo dia', 'Promedio Dia Historico', 'Score Lectura', 'Score Promedio', 'Total Puntaje']\n",
      "Eliminada columna Consumo promedio (correlacion 1.00)\n",
      "Eliminada columna Lectura en Visita (correlacion 1.00)\n",
      "Eliminada columna Promedio Consumo dia (correlacion 0.71)\n",
      "Eliminada columna Total Puntaje (correlacion 0.90)\n"
     ]
    }
   ],
   "source": [
    "col_numericas=correlacion_numericas(df)"
   ]
  },
  {
   "cell_type": "code",
   "execution_count": 49,
   "id": "c-LNjpLvbzeM",
   "metadata": {
    "colab": {
     "base_uri": "https://localhost:8080/"
    },
    "executionInfo": {
     "elapsed": 17,
     "status": "ok",
     "timestamp": 1748884839006,
     "user": {
      "displayName": "Jose Bedoya",
      "userId": "09602594722892594158"
     },
     "user_tz": 300
    },
    "id": "c-LNjpLvbzeM",
    "outputId": "95a9a929-c0e5-4e6b-b5dc-88225d2c834e"
   },
   "outputs": [
    {
     "data": {
      "text/plain": [
       "['Ultimo Valor Leido',\n",
       " 'Diferencia Lectura',\n",
       " 'Dias entre lecturas',\n",
       " 'Promedio Dia Historico',\n",
       " 'Score Lectura',\n",
       " 'Score Promedio']"
      ]
     },
     "execution_count": 49,
     "metadata": {},
     "output_type": "execute_result"
    }
   ],
   "source": [
    "col_numericas"
   ]
  },
  {
   "cell_type": "code",
   "execution_count": 50,
   "id": "nwTn7Qpcc_Ag",
   "metadata": {
    "colab": {
     "base_uri": "https://localhost:8080/"
    },
    "executionInfo": {
     "elapsed": 32,
     "status": "ok",
     "timestamp": 1748884839040,
     "user": {
      "displayName": "Jose Bedoya",
      "userId": "09602594722892594158"
     },
     "user_tz": 300
    },
    "id": "nwTn7Qpcc_Ag",
    "outputId": "26e8fe9f-1ae8-403e-b774-ffb6e9e5ad96"
   },
   "outputs": [
    {
     "data": {
      "text/plain": [
       "Index(['ID_ORDEM_SERVICO', 'ID_UC', 'Estado Instalacion', 'Uso',\n",
       "       'Actividad Economica', 'Fecha Generacion', 'Fecha Ejecucion',\n",
       "       'FechaDescargue', 'Fecha Ultima Lectura', 'Estado OT', 'Observacion',\n",
       "       'Efectividad', 'Causa Efectividad', 'Causa Evento', 'Consumo promedio',\n",
       "       'Lectura en Visita', 'Ultimo Valor Leido', 'Oportunidad Ejecucion',\n",
       "       'Oportunidad Descargue', 'Diferencia Lectura', 'Dias entre lecturas',\n",
       "       'Promedio Consumo dia', 'Analisis Lectura', 'Promedio Dia Historico',\n",
       "       'Menor a Promedio', 'Score Lectura', 'Score Promedio', 'Total Puntaje',\n",
       "       'ID_Accion', 'Nombre Accion', 'Observaciones_Limpias', 'Grupo Evento',\n",
       "       'CausaClasificada'],\n",
       "      dtype='object')"
      ]
     },
     "execution_count": 50,
     "metadata": {},
     "output_type": "execute_result"
    }
   ],
   "source": [
    "df.columns"
   ]
  },
  {
   "cell_type": "code",
   "execution_count": 51,
   "id": "cnPbK5yKWzGb",
   "metadata": {
    "executionInfo": {
     "elapsed": 2,
     "status": "ok",
     "timestamp": 1748884839064,
     "user": {
      "displayName": "Jose Bedoya",
      "userId": "09602594722892594158"
     },
     "user_tz": 300
    },
    "id": "cnPbK5yKWzGb"
   },
   "outputs": [],
   "source": [
    "X_text = df['Observaciones_Limpias'].astype(str)"
   ]
  },
  {
   "cell_type": "code",
   "execution_count": 52,
   "id": "UNo2g9mmY06N",
   "metadata": {
    "colab": {
     "base_uri": "https://localhost:8080/",
     "height": 241
    },
    "executionInfo": {
     "elapsed": 5,
     "status": "ok",
     "timestamp": 1748884839071,
     "user": {
      "displayName": "Jose Bedoya",
      "userId": "09602594722892594158"
     },
     "user_tz": 300
    },
    "id": "UNo2g9mmY06N",
    "outputId": "2af90ebf-6ee7-409f-95e0-c591a8824188"
   },
   "outputs": [
    {
     "data": {
      "text/plain": [
       "0    encontrar vivienda sin medidor servicio direct...\n",
       "1    serie lectura posicion correcta sin signo mani...\n",
       "2    predio no suministrar informacion medidor inst...\n",
       "3    no no personal mantenimiento disponible parar ...\n",
       "4    clase imputada no residencial actividad econom...\n",
       "Name: Observaciones_Limpias, dtype: object"
      ]
     },
     "execution_count": 52,
     "metadata": {},
     "output_type": "execute_result"
    }
   ],
   "source": [
    "X_text.head()"
   ]
  },
  {
   "cell_type": "code",
   "execution_count": 53,
   "id": "CkXq7jwcVunK",
   "metadata": {
    "executionInfo": {
     "elapsed": 314,
     "status": "ok",
     "timestamp": 1748884839383,
     "user": {
      "displayName": "Jose Bedoya",
      "userId": "09602594722892594158"
     },
     "user_tz": 300
    },
    "id": "CkXq7jwcVunK"
   },
   "outputs": [],
   "source": [
    "\n",
    "\n",
    "vectorizer = TfidfVectorizer(ngram_range=(1,2), min_df=5, max_df=0.9)\n",
    "X_text_vec = vectorizer.fit_transform(df['Observaciones_Limpias'])\n",
    "\n",
    "#vectorizer = CountVectorizer(analyzer='word', ngram_range=(2, 2))\n",
    "\n",
    "# Use the X_text Series directly as it already contains the text data\n",
    "X_text_vec = vectorizer.fit_transform(X_text)\n",
    "\n",
    "# CountVectorizer returns a sparse matrix, convert to dense DataFrame if needed for concatenation\n",
    "# Ensure index is aligned with the original data, which is stored in X_text's index\n",
    "X_text_df = pd.DataFrame(X_text_vec.toarray(), columns=vectorizer.get_feature_names_out(), index=X_text.index)"
   ]
  },
  {
   "cell_type": "code",
   "execution_count": 54,
   "id": "QNnpGgDQg2L9",
   "metadata": {
    "colab": {
     "base_uri": "https://localhost:8080/",
     "height": 273
    },
    "executionInfo": {
     "elapsed": 5,
     "status": "ok",
     "timestamp": 1748884839407,
     "user": {
      "displayName": "Jose Bedoya",
      "userId": "09602594722892594158"
     },
     "user_tz": 300
    },
    "id": "QNnpGgDQg2L9",
    "outputId": "6be32a97-0e45-49ba-ba7d-9bb72c38b5b6"
   },
   "outputs": [
    {
     "data": {
      "text/html": [
       "<div>\n",
       "<style scoped>\n",
       "    .dataframe tbody tr th:only-of-type {\n",
       "        vertical-align: middle;\n",
       "    }\n",
       "\n",
       "    .dataframe tbody tr th {\n",
       "        vertical-align: top;\n",
       "    }\n",
       "\n",
       "    .dataframe thead th {\n",
       "        text-align: right;\n",
       "    }\n",
       "</style>\n",
       "<table border=\"1\" class=\"dataframe\">\n",
       "  <thead>\n",
       "    <tr style=\"text-align: right;\">\n",
       "      <th></th>\n",
       "      <th>abarrote</th>\n",
       "      <th>abastecer</th>\n",
       "      <th>abastecer acometida</th>\n",
       "      <th>abastecer agua</th>\n",
       "      <th>abastecer hacer</th>\n",
       "      <th>abastecer mayorca</th>\n",
       "      <th>abrir</th>\n",
       "      <th>abrir llave</th>\n",
       "      <th>accesorio</th>\n",
       "      <th>accion</th>\n",
       "      <th>...</th>\n",
       "      <th>vivienda no</th>\n",
       "      <th>vivienda sin</th>\n",
       "      <th>vivir</th>\n",
       "      <th>vivir persona</th>\n",
       "      <th>vivir predio</th>\n",
       "      <th>vivir solo</th>\n",
       "      <th>volver</th>\n",
       "      <th>zona</th>\n",
       "      <th>zona agua</th>\n",
       "      <th>zona comun</th>\n",
       "    </tr>\n",
       "  </thead>\n",
       "  <tbody>\n",
       "    <tr>\n",
       "      <th>0</th>\n",
       "      <td>0.0</td>\n",
       "      <td>0.0</td>\n",
       "      <td>0.0</td>\n",
       "      <td>0.0</td>\n",
       "      <td>0.0</td>\n",
       "      <td>0.0</td>\n",
       "      <td>0.0</td>\n",
       "      <td>0.0</td>\n",
       "      <td>0.0</td>\n",
       "      <td>0.0</td>\n",
       "      <td>...</td>\n",
       "      <td>0.0</td>\n",
       "      <td>0.336542</td>\n",
       "      <td>0.0</td>\n",
       "      <td>0.0</td>\n",
       "      <td>0.0</td>\n",
       "      <td>0.0</td>\n",
       "      <td>0.0</td>\n",
       "      <td>0.0</td>\n",
       "      <td>0.0</td>\n",
       "      <td>0.0</td>\n",
       "    </tr>\n",
       "    <tr>\n",
       "      <th>1</th>\n",
       "      <td>0.0</td>\n",
       "      <td>0.0</td>\n",
       "      <td>0.0</td>\n",
       "      <td>0.0</td>\n",
       "      <td>0.0</td>\n",
       "      <td>0.0</td>\n",
       "      <td>0.0</td>\n",
       "      <td>0.0</td>\n",
       "      <td>0.0</td>\n",
       "      <td>0.0</td>\n",
       "      <td>...</td>\n",
       "      <td>0.0</td>\n",
       "      <td>0.000000</td>\n",
       "      <td>0.0</td>\n",
       "      <td>0.0</td>\n",
       "      <td>0.0</td>\n",
       "      <td>0.0</td>\n",
       "      <td>0.0</td>\n",
       "      <td>0.0</td>\n",
       "      <td>0.0</td>\n",
       "      <td>0.0</td>\n",
       "    </tr>\n",
       "    <tr>\n",
       "      <th>2</th>\n",
       "      <td>0.0</td>\n",
       "      <td>0.0</td>\n",
       "      <td>0.0</td>\n",
       "      <td>0.0</td>\n",
       "      <td>0.0</td>\n",
       "      <td>0.0</td>\n",
       "      <td>0.0</td>\n",
       "      <td>0.0</td>\n",
       "      <td>0.0</td>\n",
       "      <td>0.0</td>\n",
       "      <td>...</td>\n",
       "      <td>0.0</td>\n",
       "      <td>0.000000</td>\n",
       "      <td>0.0</td>\n",
       "      <td>0.0</td>\n",
       "      <td>0.0</td>\n",
       "      <td>0.0</td>\n",
       "      <td>0.0</td>\n",
       "      <td>0.0</td>\n",
       "      <td>0.0</td>\n",
       "      <td>0.0</td>\n",
       "    </tr>\n",
       "    <tr>\n",
       "      <th>3</th>\n",
       "      <td>0.0</td>\n",
       "      <td>0.0</td>\n",
       "      <td>0.0</td>\n",
       "      <td>0.0</td>\n",
       "      <td>0.0</td>\n",
       "      <td>0.0</td>\n",
       "      <td>0.0</td>\n",
       "      <td>0.0</td>\n",
       "      <td>0.0</td>\n",
       "      <td>0.0</td>\n",
       "      <td>...</td>\n",
       "      <td>0.0</td>\n",
       "      <td>0.000000</td>\n",
       "      <td>0.0</td>\n",
       "      <td>0.0</td>\n",
       "      <td>0.0</td>\n",
       "      <td>0.0</td>\n",
       "      <td>0.0</td>\n",
       "      <td>0.0</td>\n",
       "      <td>0.0</td>\n",
       "      <td>0.0</td>\n",
       "    </tr>\n",
       "    <tr>\n",
       "      <th>4</th>\n",
       "      <td>0.0</td>\n",
       "      <td>0.0</td>\n",
       "      <td>0.0</td>\n",
       "      <td>0.0</td>\n",
       "      <td>0.0</td>\n",
       "      <td>0.0</td>\n",
       "      <td>0.0</td>\n",
       "      <td>0.0</td>\n",
       "      <td>0.0</td>\n",
       "      <td>0.0</td>\n",
       "      <td>...</td>\n",
       "      <td>0.0</td>\n",
       "      <td>0.000000</td>\n",
       "      <td>0.0</td>\n",
       "      <td>0.0</td>\n",
       "      <td>0.0</td>\n",
       "      <td>0.0</td>\n",
       "      <td>0.0</td>\n",
       "      <td>0.0</td>\n",
       "      <td>0.0</td>\n",
       "      <td>0.0</td>\n",
       "    </tr>\n",
       "  </tbody>\n",
       "</table>\n",
       "<p>5 rows × 1885 columns</p>\n",
       "</div>"
      ],
      "text/plain": [
       "   abarrote  abastecer  abastecer acometida  abastecer agua  abastecer hacer  \\\n",
       "0       0.0        0.0                  0.0             0.0              0.0   \n",
       "1       0.0        0.0                  0.0             0.0              0.0   \n",
       "2       0.0        0.0                  0.0             0.0              0.0   \n",
       "3       0.0        0.0                  0.0             0.0              0.0   \n",
       "4       0.0        0.0                  0.0             0.0              0.0   \n",
       "\n",
       "   abastecer mayorca  abrir  abrir llave  accesorio  accion  ...  vivienda no  \\\n",
       "0                0.0    0.0          0.0        0.0     0.0  ...          0.0   \n",
       "1                0.0    0.0          0.0        0.0     0.0  ...          0.0   \n",
       "2                0.0    0.0          0.0        0.0     0.0  ...          0.0   \n",
       "3                0.0    0.0          0.0        0.0     0.0  ...          0.0   \n",
       "4                0.0    0.0          0.0        0.0     0.0  ...          0.0   \n",
       "\n",
       "   vivienda sin  vivir  vivir persona  vivir predio  vivir solo  volver  zona  \\\n",
       "0      0.336542    0.0            0.0           0.0         0.0     0.0   0.0   \n",
       "1      0.000000    0.0            0.0           0.0         0.0     0.0   0.0   \n",
       "2      0.000000    0.0            0.0           0.0         0.0     0.0   0.0   \n",
       "3      0.000000    0.0            0.0           0.0         0.0     0.0   0.0   \n",
       "4      0.000000    0.0            0.0           0.0         0.0     0.0   0.0   \n",
       "\n",
       "   zona agua  zona comun  \n",
       "0        0.0         0.0  \n",
       "1        0.0         0.0  \n",
       "2        0.0         0.0  \n",
       "3        0.0         0.0  \n",
       "4        0.0         0.0  \n",
       "\n",
       "[5 rows x 1885 columns]"
      ]
     },
     "execution_count": 54,
     "metadata": {},
     "output_type": "execute_result"
    }
   ],
   "source": [
    "X_text_df.head()"
   ]
  },
  {
   "cell_type": "code",
   "execution_count": 55,
   "id": "XUxtBZvJgDGt",
   "metadata": {
    "executionInfo": {
     "elapsed": 1,
     "status": "ok",
     "timestamp": 1748884839410,
     "user": {
      "displayName": "Jose Bedoya",
      "userId": "09602594722892594158"
     },
     "user_tz": 300
    },
    "id": "XUxtBZvJgDGt"
   },
   "outputs": [],
   "source": [
    "# Suponiendo que tu DataFrame se llama df\n",
    "column_names = X_text_df.columns.tolist()\n",
    "\n",
    "# Crear un corpus uniendo los nombres (puedes separarlos con espacios)\n",
    "corpus = \" \".join(column_names)\n"
   ]
  },
  {
   "cell_type": "code",
   "execution_count": 56,
   "id": "6d06a5c2",
   "metadata": {},
   "outputs": [
    {
     "name": "stdout",
     "output_type": "stream",
     "text": [
      "Collecting wordcloud\n",
      "  Downloading wordcloud-1.9.4-cp39-cp39-manylinux_2_17_x86_64.manylinux2014_x86_64.whl.metadata (3.4 kB)\n",
      "Requirement already satisfied: numpy>=1.6.1 in ./venv_spacy/lib/python3.9/site-packages (from wordcloud) (2.0.2)\n",
      "Requirement already satisfied: pillow in ./venv_spacy/lib/python3.9/site-packages (from wordcloud) (11.2.1)\n",
      "Requirement already satisfied: matplotlib in ./venv_spacy/lib/python3.9/site-packages (from wordcloud) (3.9.4)\n",
      "Requirement already satisfied: contourpy>=1.0.1 in ./venv_spacy/lib/python3.9/site-packages (from matplotlib->wordcloud) (1.3.0)\n",
      "Requirement already satisfied: cycler>=0.10 in ./venv_spacy/lib/python3.9/site-packages (from matplotlib->wordcloud) (0.12.1)\n",
      "Requirement already satisfied: fonttools>=4.22.0 in ./venv_spacy/lib/python3.9/site-packages (from matplotlib->wordcloud) (4.58.1)\n",
      "Requirement already satisfied: kiwisolver>=1.3.1 in ./venv_spacy/lib/python3.9/site-packages (from matplotlib->wordcloud) (1.4.7)\n",
      "Requirement already satisfied: packaging>=20.0 in ./venv_spacy/lib/python3.9/site-packages (from matplotlib->wordcloud) (25.0)\n",
      "Requirement already satisfied: pyparsing>=2.3.1 in ./venv_spacy/lib/python3.9/site-packages (from matplotlib->wordcloud) (3.2.3)\n",
      "Requirement already satisfied: python-dateutil>=2.7 in ./venv_spacy/lib/python3.9/site-packages (from matplotlib->wordcloud) (2.9.0.post0)\n",
      "Requirement already satisfied: importlib-resources>=3.2.0 in ./venv_spacy/lib/python3.9/site-packages (from matplotlib->wordcloud) (6.5.2)\n",
      "Requirement already satisfied: zipp>=3.1.0 in ./venv_spacy/lib/python3.9/site-packages (from importlib-resources>=3.2.0->matplotlib->wordcloud) (3.22.0)\n",
      "Requirement already satisfied: six>=1.5 in ./venv_spacy/lib/python3.9/site-packages (from python-dateutil>=2.7->matplotlib->wordcloud) (1.17.0)\n",
      "Downloading wordcloud-1.9.4-cp39-cp39-manylinux_2_17_x86_64.manylinux2014_x86_64.whl (513 kB)\n",
      "Installing collected packages: wordcloud\n",
      "Successfully installed wordcloud-1.9.4\n"
     ]
    }
   ],
   "source": [
    "%%bash\n",
    "source ~/venv_spacy/bin/activate\n",
    "pip install wordcloud --only-binary=:all:\n"
   ]
  },
  {
   "cell_type": "code",
   "execution_count": 57,
   "id": "mKK5Jvptgtmi",
   "metadata": {
    "colab": {
     "base_uri": "https://localhost:8080/",
     "height": 339
    },
    "executionInfo": {
     "elapsed": 1283,
     "status": "ok",
     "timestamp": 1748884840695,
     "user": {
      "displayName": "Jose Bedoya",
      "userId": "09602594722892594158"
     },
     "user_tz": 300
    },
    "id": "mKK5Jvptgtmi",
    "outputId": "d991fe00-37ca-43a1-fd75-b862ed3eabd7"
   },
   "outputs": [
    {
     "data": {
      "image/png": "[encoded data removed]",
      "text/plain": [
       "<Figure size 1000x500 with 1 Axes>"
      ]
     },
     "metadata": {},
     "output_type": "display_data"
    }
   ],
   "source": [
    "from wordcloud import WordCloud\n",
    "import matplotlib.pyplot as plt\n",
    "\n",
    "# Crear la wordcloud\n",
    "wordcloud = WordCloud(width=800, height=400, background_color='white').generate(corpus)\n",
    "\n",
    "# Mostrar la imagen\n",
    "plt.figure(figsize=(10, 5))\n",
    "plt.imshow(wordcloud, interpolation='bilinear')\n",
    "plt.axis('off')  # Quita los ejes\n",
    "plt.show()"
   ]
  },
  {
   "cell_type": "code",
   "execution_count": 58,
   "id": "PqMw66WRyvce",
   "metadata": {
    "colab": {
     "base_uri": "https://localhost:8080/"
    },
    "executionInfo": {
     "elapsed": 14,
     "status": "ok",
     "timestamp": 1748884840712,
     "user": {
      "displayName": "Jose Bedoya",
      "userId": "09602594722892594158"
     },
     "user_tz": 300
    },
    "id": "PqMw66WRyvce",
    "outputId": "a06c6e85-df5f-44a8-9f09-0ecaeb5982e4"
   },
   "outputs": [
    {
     "name": "stdout",
     "output_type": "stream",
     "text": [
      "                    columna        suma\n",
      "0                        no  228.927724\n",
      "1                   medidor  186.306912\n",
      "2                  imputada  181.002725\n",
      "3                    predio  156.847994\n",
      "4                   lectura  139.516513\n",
      "...                     ...         ...\n",
      "1880      desmontar revisar    0.962135\n",
      "1881  seguridad desempotrar    0.945640\n",
      "1882       lectura proceder    0.915108\n",
      "1883       encontrar objeto    0.897749\n",
      "1884      servicio pericial    0.897156\n",
      "\n",
      "[1885 rows x 2 columns]\n"
     ]
    }
   ],
   "source": [
    "suma_columnas = X_text_df.sum(numeric_only=True)\n",
    "\n",
    "# 2. Convertir en DataFrame y ordenar\n",
    "suma_ordenada = (\n",
    "    suma_columnas\n",
    "    .reset_index()\n",
    "    .rename(columns={'index': 'columna', 0: 'suma'})\n",
    "    .sort_values(by='suma', ascending=False)\n",
    "    .reset_index(drop=True)\n",
    ")\n",
    "\n",
    "# Mostrar el resultado\n",
    "print(suma_ordenada)"
   ]
  },
  {
   "cell_type": "code",
   "execution_count": 59,
   "id": "oaLHZFln1AQL",
   "metadata": {
    "colab": {
     "base_uri": "https://localhost:8080/"
    },
    "executionInfo": {
     "elapsed": 92,
     "status": "ok",
     "timestamp": 1748885226720,
     "user": {
      "displayName": "Jose Bedoya",
      "userId": "09602594722892594158"
     },
     "user_tz": 300
    },
    "id": "oaLHZFln1AQL",
    "outputId": "34293b66-4538-43d7-8d5f-1a7c05c54efe"
   },
   "outputs": [
    {
     "name": "stdout",
     "output_type": "stream",
     "text": [
      "Columnas eliminadas por baja aparición:\n",
      "['acera cobrar', 'desmontar revisar', 'emplear motivo', 'encontrar objeto', 'fuga usuario', 'laboratorio no', 'lectura proceder', 'medidor temporal', 'racor desmontar', 'revisar no', 'seguridad desempotrar', 'servicio pericial']\n"
     ]
    }
   ],
   "source": [
    "X_test_Filtradas = X_text_df.loc[:, X_text_df.sum() >= 1]\n",
    "\n",
    "columnas_eliminadas = X_text_df.columns[X_text_df.sum() < 1]\n",
    "print(\"Columnas eliminadas por baja aparición:\")\n",
    "print(columnas_eliminadas.tolist())\n"
   ]
  },
  {
   "cell_type": "code",
   "execution_count": 60,
   "id": "x_mXbZp_1tD5",
   "metadata": {
    "colab": {
     "base_uri": "https://localhost:8080/"
    },
    "executionInfo": {
     "elapsed": 10,
     "status": "ok",
     "timestamp": 1748885229542,
     "user": {
      "displayName": "Jose Bedoya",
      "userId": "09602594722892594158"
     },
     "user_tz": 300
    },
    "id": "x_mXbZp_1tD5",
    "outputId": "1330f24e-e022-411f-9080-0fb74cf9e33b",
    "scrolled": true
   },
   "outputs": [
    {
     "data": {
      "text/plain": [
       "(2895, 1873)"
      ]
     },
     "execution_count": 60,
     "metadata": {},
     "output_type": "execute_result"
    }
   ],
   "source": [
    "X_test_Filtradas.shape"
   ]
  },
  {
   "cell_type": "code",
   "execution_count": null,
   "id": "0tKhNaWZk_jh",
   "metadata": {
    "executionInfo": {
     "elapsed": 5,
     "status": "ok",
     "timestamp": 1748885247490,
     "user": {
      "displayName": "Jose Bedoya",
      "userId": "09602594722892594158"
     },
     "user_tz": 300
    },
    "id": "0tKhNaWZk_jh"
   },
   "outputs": [],
   "source": [
    "import numpy as np\n",
    "import pandas as pd\n",
    "import matplotlib.pyplot as plt\n",
    "from sklearn.preprocessing import StandardScaler\n",
    "\n",
    "def analisis_varianza_producto_interno(df_numericas, umbral_producto=0.9, umbral_eigen=0.01, plot=True, reducir=True):\n",
    "\n",
    "    df = df_numericas.dropna().copy()\n",
    "    columnas = df.columns.tolist()\n",
    "\n",
    "    # 1) Escalar datos\n",
    "    X_scaled = StandardScaler().fit_transform(df)\n",
    "    cov_matrix = np.cov(X_scaled.T)\n",
    "\n",
    "    # 2) Usar np.linalg.eigh en lugar de eig, para garantizar valores reales\n",
    "    eigenvalues, eigenvectors = np.linalg.eigh(cov_matrix)\n",
    "    # eigenvalues ya viene ordenado de menor a mayor; si prefieres descender, invierte:\n",
    "    # eigenvalues = eigenvalues[::-1]\n",
    "    # eigenvectors = eigenvectors[:, ::-1]\n",
    "\n",
    "    # 3) Asegurar que sean reales (descartar pequeñas partes imaginarias)\n",
    "    eigenvalues = np.real(eigenvalues)\n",
    "    eigenvectors = np.real(eigenvectors)\n",
    "\n",
    "    # 4) Redundancia por producto interno\n",
    "    redundantes_pi = set()\n",
    "    n = len(columnas)\n",
    "    for i in range(n):\n",
    "        if columnas[i] in redundantes_pi:\n",
    "            continue\n",
    "        v1 = X_scaled[:, i]\n",
    "        for j in range(i + 1, n):\n",
    "            if columnas[j] in redundantes_pi:\n",
    "                continue\n",
    "            v2 = X_scaled[:, j]\n",
    "            prod = np.dot(v1, v2) / len(v1)  # normalizado\n",
    "            if abs(prod) >= umbral_producto:\n",
    "                var1 = np.var(v1)\n",
    "                var2 = np.var(v2)\n",
    "                redundantes_pi.add(columnas[j] if var1 >= var2 else columnas[i])\n",
    "\n",
    "    # 5) Redundancia por eigenvalores bajos (cuando (eigen < umbral))\n",
    "    redundantes_eigen = [columnas[i] for i, eig in enumerate(eigenvalues) if eig < umbral_eigen]\n",
    "\n",
    "    # 6) Visualización de eigenvalores (solo parte real, ya saneada)\n",
    "    if plot:\n",
    "        plt.figure(figsize=(8, 4))\n",
    "        # Como eigh ordena ascendente, mostramos tal cual,\n",
    "        # o invierte si quieres que el componente 1 sea el más grande.\n",
    "        plt.bar(range(1, len(eigenvalues) + 1), eigenvalues, color='skyblue')\n",
    "        plt.axhline(y=umbral_eigen, color='red', linestyle='--', label='Umbral eigenvalor')\n",
    "        plt.xlabel('Componente Principal')\n",
    "        plt.ylabel('Eigenvalor')\n",
    "        plt.title('Eigenvalores (Varianza Explicada)')\n",
    "        plt.legend()\n",
    "        plt.grid(True)\n",
    "        plt.tight_layout()\n",
    "        plt.show()\n",
    "\n",
    "    # 7) Unificar variables redundantes\n",
    "    redundantes_totales = set(redundantes_pi).union(set(redundantes_eigen))\n",
    "    df_reducido = df.drop(columns=redundantes_totales) if reducir else df.copy()\n",
    "\n",
    "    return {\n",
    "        'Traza (Varianza Total)': np.trace(cov_matrix).real,\n",
    "        'Determinante': np.linalg.det(cov_matrix).real,\n",
    "        'Norma Frobenius': np.linalg.norm(cov_matrix, ord='fro').real,\n",
    "        'Eigenvalores': eigenvalues,\n",
    "        'Variables redundantes (producto interno)': list(redundantes_pi),\n",
    "        'Variables redundantes (eigenvalor)': redundantes_eigen,\n",
    "        'Variables eliminadas': list(redundantes_totales),\n",
    "        'DataFrame reducido': df_reducido\n",
    "    }\n"
   ]
  },
  {
   "cell_type": "code",
   "execution_count": 62,
   "id": "cl4OaDQwlPou",
   "metadata": {
    "colab": {
     "base_uri": "https://localhost:8080/",
     "height": 1000
    },
    "executionInfo": {
     "elapsed": 24033,
     "status": "ok",
     "timestamp": 1748885276714,
     "user": {
      "displayName": "Jose Bedoya",
      "userId": "09602594722892594158"
     },
     "user_tz": 300
    },
    "id": "cl4OaDQwlPou",
    "outputId": "5d2c6b98-4d47-4b17-ab2a-217246c46e1d"
   },
   "outputs": [
    {
     "data": {
      "image/png": "[encoded data removed]",
      "text/plain": [
       "<Figure size 800x400 with 1 Axes>"
      ]
     },
     "metadata": {},
     "output_type": "display_data"
    },
    {
     "name": "stdout",
     "output_type": "stream",
     "text": [
      "\n",
      "Traza (Varianza Total):\n",
      "1873.6472011057363\n",
      "\n",
      "Determinante:\n",
      "0.0\n",
      "\n",
      "Norma Frobenius:\n",
      "88.28971682738465\n",
      "\n",
      "Eigenvalores:\n",
      "[-3.83385603e-16 -2.01385855e-16 -1.83157941e-16 ...  1.87484744e+01\n",
      "  2.03215670e+01  2.89492426e+01]\n",
      "\n",
      "Variables redundantes (producto interno):\n",
      "['desarrollo tecnologico', 'laboratorio cadena', 'cierre llave', 'marcar positivo', 'descargar direccion', 'red contra', 'economica', 'custodiar bolsa', 'residencial actividad', 'signo', 'suministrar', 'vigilancia', 'diametro', 'usuario conforme', 'disminucion personal', 'sin ojal', 'comunitario', 'permitir', 'disponible', 'vivienda', 'cambio provisional', 'sin dejar', 'instalar sin', 'habitacion', 'serie retirar', 'posicion correcta', 'complementar', 'negativo prueba', 'remitir parar', 'imputada partir', 'temporal mentir', 'mediante cambio', 'manipulacion externa', 'no autorizado', 'servicio temporal', 'residencial momento', 'veredal', 'datos', 'suministran', 'observan', 'consumo avanzando', 'mayorca predio', 'bolsa seguridad', 'agua accion', 'instalar dicho', 'abastecer hacer', 'no datos', 'personal mantenimiento', 'objeto estrato', 'existe', 'lectura legible', 'habitacion no', 'cupula impactada', 'agua comunal', 'clase imputada', 'potable', 'cadena custodiar', 'prueba cloro', 'parar corto', 'ingresar paralelo', 'llave acera', 'agua propio', 'instalacion mediante', 'actividad vivienda', 'terreno evidenciar', 'deber variacion', 'parar atender', 'evidenciar direccion', 'cada consumo', 'tecnologico', 'sector contar', 'devolucion lectura', 'referencia no', 'parar respectivo', 'anomalia medidor', 'parche', 'tanque reservar', 'suministrar informacion', 'serie sistema', 'piso hora', 'mal', 'buen estado', 'estallada', 'alcaldia medidor', 'probar presion', 'vicio direccion', 'accesorio', 'estrato interna', 'serie encontrado', 'buen', 'precinto', 'comun', 'informa abastecer', 'sello bueno', 'custodiar', 'no suministran', 'sin signo', 'no fraude', 'reactivas', 'mentir predio', 'signo manipulacion', 'desempotrar empotrado']\n",
      "\n",
      "Variables redundantes (eigenvalor):\n",
      "['abarrote', 'abastecer', 'abastecer acometida', 'abastecer agua', 'abastecer hacer', 'abastecer mayorca', 'abrir', 'abrir llave', 'accesorio', 'accion', 'accion comunal', 'acera', 'acera cerrado', 'acera contencion', 'acometida', 'acometida clase', 'acometida externa', 'acometida instalar', 'acometida interna', 'acometida paralelo', 'acometida pitorra', 'acometida predio', 'acometida sin', 'acometida usuario', 'acordar', 'acordar actividad', 'acordar anterior', 'acorde', 'acorde actividad', 'acorde anterior', 'actividad', 'actividad desocupado', 'actividad economica', 'actividad hotel', 'actividad oficina', 'actividad vivienda', 'actualizar', 'actualizar coincide', 'actualizar informacion', 'actualizar serie', 'actualizar sistema', 'acueducto', 'acueducto consumo', 'acueducto motivo', 'adaptador', 'adaptador mucho', 'adicional', 'administracion', 'administrador', 'administrador no', 'agotar', 'agua', 'agua accion', 'agua barrio', 'agua comunal', 'agua comunitario', 'agua medidor', 'agua no', 'agua parar', 'agua propio', 'agua veredal', 'alcaldia', 'alcaldia medidor', 'algo', 'almacen', 'almacen hombre', 'almacen ropa', 'almacen social', 'alrededor', 'alto', 'alumno', 'andar', 'anden', 'anomalia', 'anomalia actualizar', 'anomalia argumenta', 'anomalia empotrado', 'anomalia encargar', 'anomalia externa', 'anomalia imputada', 'anomalia laboratorio', 'anomalia medidor', 'anomalia no', 'anomalia porteria', 'anomalia predio', 'anomalia revision', 'anomalia serie', 'anomalia usuario', 'anterior', 'anterior no', 'anterior usuario', 'aparecer', 'apartamento', 'arepa', 'arepa imputada', 'argumenta', 'argumenta bajo', 'argumenta cada', 'argumenta caida', 'argumenta deber', 'argumenta hacer', 'argumenta imputada', 'argumenta medidor', 'argumenta no', 'argumenta predio', 'argumenta sector', 'argumenta tener', 'argumenta trabajar', 'argumenta usuario', 'argumenta vivir', 'atender', 'atender visita', 'automovil', 'autorizacion', 'autorizacion usuario', 'autorizado', 'autorizado firmar', 'autorizado parar', 'autorizar', 'autorizar parar', 'avanzando', 'avanzando normalidad', 'avanzando usuario', 'avanzar', 'avanzar normalidad', 'avanzar usuario', 'bajar', 'bajo', 'bajo consumo', 'bajo motivo', 'bajo no', 'bajo ocupacion', 'bajo produccion', 'banco', 'bar', 'barrio', 'barrio hacer']\n",
      "\n",
      "Variables eliminadas:\n",
      "['alumno', 'bajo consumo', 'desarrollo tecnologico', 'almacen hombre', 'alrededor', 'atender', 'laboratorio cadena', 'cierre llave', 'marcar positivo', 'actualizar sistema', 'descargar direccion', 'red contra', 'anomalia argumenta', 'abastecer acometida', 'economica', 'custodiar bolsa', 'actividad', 'residencial actividad', 'acueducto', 'signo', 'anomalia laboratorio', 'abrir llave', 'suministrar', 'vigilancia', 'diametro', 'usuario conforme', 'disminucion personal', 'sin ojal', 'comunitario', 'abastecer mayorca', 'permitir', 'disponible', 'adicional', 'abastecer agua', 'vivienda', 'abarrote', 'avanzar', 'cambio provisional', 'sin dejar', 'autorizacion usuario', 'anomalia', 'instalar sin', 'administracion', 'argumenta bajo', 'habitacion', 'serie retirar', 'acometida paralelo', 'posicion correcta', 'complementar', 'negativo prueba', 'anomalia porteria', 'argumenta sector', 'remitir parar', 'anomalia encargar', 'alcaldia', 'arepa', 'acometida usuario', 'argumenta no', 'bajo motivo', 'imputada partir', 'almacen', 'acometida instalar', 'anomalia revision', 'temporal mentir', 'anomalia predio', 'mediante cambio', 'manipulacion externa', 'no autorizado', 'argumenta trabajar', 'autorizacion', 'actualizar coincide', 'argumenta predio', 'autorizado', 'agua no', 'aparecer', 'argumenta deber', 'servicio temporal', 'residencial momento', 'argumenta cada', 'abrir', 'veredal', 'acordar anterior', 'avanzando usuario', 'datos', 'acordar', 'avanzar usuario', 'acometida externa', 'automovil', 'suministran', 'argumenta imputada', 'observan', 'consumo avanzando', 'accion', 'mayorca predio', 'bolsa seguridad', 'agotar', 'arepa imputada', 'agua comunitario', 'acometida sin', 'anomalia actualizar', 'avanzar normalidad', 'anterior', 'acometida interna', 'agua accion', 'instalar dicho', 'abastecer hacer', 'bar', 'no datos', 'personal mantenimiento', 'avanzando', 'objeto estrato', 'acorde anterior', 'autorizado firmar', 'existe', 'acometida clase', 'habitacion no', 'lectura legible', 'agua comunal', 'cupula impactada', 'acordar actividad', 'bajo', 'clase imputada', 'potable', 'cadena custodiar', 'prueba cloro', 'parar corto', 'ingresar paralelo', 'anterior usuario', 'llave acera', 'agua propio', 'instalacion mediante', 'actualizar', 'acometida pitorra', 'acera cerrado', 'algo', 'banco', 'actividad vivienda', 'argumenta', 'terreno evidenciar', 'avanzando normalidad', 'anomalia imputada', 'deber variacion', 'anomalia externa', 'parar atender', 'evidenciar direccion', 'cada consumo', 'adaptador mucho', 'tecnologico', 'bajo ocupacion', 'sector contar', 'devolucion lectura', 'agua', 'anden', 'adaptador', 'referencia no', 'parar respectivo', 'abastecer', 'bajar', 'alto', 'acometida', 'bajo produccion', 'actualizar serie', 'acera', 'anomalia medidor', 'actividad desocupado', 'argumenta usuario', 'parche', 'tanque reservar', 'suministrar informacion', 'serie sistema', 'piso hora', 'argumenta hacer', 'acueducto motivo', 'mal', 'agua barrio', 'buen estado', 'estallada', 'atender visita', 'agua medidor', 'alcaldia medidor', 'probar presion', 'autorizar parar', 'acorde', 'vicio direccion', 'accesorio', 'actividad economica', 'anterior no', 'barrio', 'estrato interna', 'almacen ropa', 'acorde actividad', 'agua parar', 'serie encontrado', 'autorizar', 'almacen social', 'argumenta caida', 'anomalia no', 'acera contencion', 'buen', 'actualizar informacion', 'precinto', 'administrador no', 'apartamento', 'argumenta medidor', 'acometida predio', 'actividad oficina', 'comun', 'accion comunal', 'informa abastecer', 'actividad hotel', 'sello bueno', 'barrio hacer', 'argumenta tener', 'autorizado parar', 'custodiar', 'andar', 'argumenta vivir', 'no suministran', 'sin signo', 'anomalia usuario', 'administrador', 'agua veredal', 'no fraude', 'reactivas', 'bajo no', 'anomalia empotrado', 'anomalia serie', 'acueducto consumo', 'mentir predio', 'signo manipulacion', 'desempotrar empotrado']\n",
      "\n",
      "DataFrame reducido:\n",
      "      barrio no  belleza  bodega  bodega almacen  bodega imputada    bolsa  \\\n",
      "0           0.0      0.0     0.0             0.0              0.0  0.00000   \n",
      "1           0.0      0.0     0.0             0.0              0.0  0.00000   \n",
      "2           0.0      0.0     0.0             0.0              0.0  0.11983   \n",
      "3           0.0      0.0     0.0             0.0              0.0  0.00000   \n",
      "4           0.0      0.0     0.0             0.0              0.0  0.00000   \n",
      "...         ...      ...     ...             ...              ...      ...   \n",
      "3145        0.0      0.0     0.0             0.0              0.0  0.00000   \n",
      "3146        0.0      0.0     0.0             0.0              0.0  0.00000   \n",
      "3147        0.0      0.0     0.0             0.0              0.0  0.00000   \n",
      "3148        0.0      0.0     0.0             0.0              0.0  0.00000   \n",
      "3149        0.0      0.0     0.0             0.0              0.0  0.00000   \n",
      "\n",
      "      bolsa precinto  bridar  bridar instalado  buen imputada  ...  \\\n",
      "0                0.0     0.0               0.0            0.0  ...   \n",
      "1                0.0     0.0               0.0            0.0  ...   \n",
      "2                0.0     0.0               0.0            0.0  ...   \n",
      "3                0.0     0.0               0.0            0.0  ...   \n",
      "4                0.0     0.0               0.0            0.0  ...   \n",
      "...              ...     ...               ...            ...  ...   \n",
      "3145             0.0     0.0               0.0            0.0  ...   \n",
      "3146             0.0     0.0               0.0            0.0  ...   \n",
      "3147             0.0     0.0               0.0            0.0  ...   \n",
      "3148             0.0     0.0               0.0            0.0  ...   \n",
      "3149             0.0     0.0               0.0            0.0  ...   \n",
      "\n",
      "      vivienda no  vivienda sin  vivir  vivir persona  vivir predio  \\\n",
      "0             0.0      0.336542    0.0            0.0           0.0   \n",
      "1             0.0      0.000000    0.0            0.0           0.0   \n",
      "2             0.0      0.000000    0.0            0.0           0.0   \n",
      "3             0.0      0.000000    0.0            0.0           0.0   \n",
      "4             0.0      0.000000    0.0            0.0           0.0   \n",
      "...           ...           ...    ...            ...           ...   \n",
      "3145          0.0      0.000000    0.0            0.0           0.0   \n",
      "3146          0.0      0.000000    0.0            0.0           0.0   \n",
      "3147          0.0      0.000000    0.0            0.0           0.0   \n",
      "3148          0.0      0.000000    0.0            0.0           0.0   \n",
      "3149          0.0      0.000000    0.0            0.0           0.0   \n",
      "\n",
      "      vivir solo  volver  zona  zona agua  zona comun  \n",
      "0            0.0     0.0   0.0        0.0         0.0  \n",
      "1            0.0     0.0   0.0        0.0         0.0  \n",
      "2            0.0     0.0   0.0        0.0         0.0  \n",
      "3            0.0     0.0   0.0        0.0         0.0  \n",
      "4            0.0     0.0   0.0        0.0         0.0  \n",
      "...          ...     ...   ...        ...         ...  \n",
      "3145         0.0     0.0   0.0        0.0         0.0  \n",
      "3146         0.0     0.0   0.0        0.0         0.0  \n",
      "3147         0.0     0.0   0.0        0.0         0.0  \n",
      "3148         0.0     0.0   0.0        0.0         0.0  \n",
      "3149         0.0     0.0   0.0        0.0         0.0  \n",
      "\n",
      "[2895 rows x 1642 columns]\n"
     ]
    }
   ],
   "source": [
    "# Usamos el DataFrame de ejemplo creado antes\n",
    "resultados = analisis_varianza_producto_interno(X_test_Filtradas)\n",
    "\n",
    "# Mostramos el análisis\n",
    "for k, v in resultados.items():\n",
    "    print(f\"\\n{k}:\\n{v}\")"
   ]
  },
  {
   "cell_type": "code",
   "execution_count": 63,
   "id": "Sg-5c99q4zKO",
   "metadata": {
    "executionInfo": {
     "elapsed": 39,
     "status": "ok",
     "timestamp": 1748885299682,
     "user": {
      "displayName": "Jose Bedoya",
      "userId": "09602594722892594158"
     },
     "user_tz": 300
    },
    "id": "Sg-5c99q4zKO"
   },
   "outputs": [],
   "source": [
    "df_reducido = resultados['DataFrame reducido']"
   ]
  },
  {
   "cell_type": "code",
   "execution_count": 64,
   "id": "RONvFy8yr-08",
   "metadata": {
    "colab": {
     "base_uri": "https://localhost:8080/"
    },
    "executionInfo": {
     "elapsed": 26,
     "status": "ok",
     "timestamp": 1748885316236,
     "user": {
      "displayName": "Jose Bedoya",
      "userId": "09602594722892594158"
     },
     "user_tz": 300
    },
    "id": "RONvFy8yr-08",
    "outputId": "0c3cde5b-58e5-49a2-86f3-c72578aca5df"
   },
   "outputs": [
    {
     "data": {
      "text/plain": [
       "(2895, 1642)"
      ]
     },
     "execution_count": 64,
     "metadata": {},
     "output_type": "execute_result"
    }
   ],
   "source": [
    "df_reducido.shape"
   ]
  },
  {
   "cell_type": "code",
   "execution_count": 65,
   "id": "FLudAecpngUh",
   "metadata": {
    "executionInfo": {
     "elapsed": 20,
     "status": "ok",
     "timestamp": 1748885322833,
     "user": {
      "displayName": "Jose Bedoya",
      "userId": "09602594722892594158"
     },
     "user_tz": 300
    },
    "id": "FLudAecpngUh"
   },
   "outputs": [],
   "source": [
    "columnas_texto=df_reducido.columns.tolist()"
   ]
  },
  {
   "cell_type": "code",
   "execution_count": 66,
   "id": "AKUSNa0Xa70M",
   "metadata": {
    "executionInfo": {
     "elapsed": 39,
     "status": "ok",
     "timestamp": 1748885328982,
     "user": {
      "displayName": "Jose Bedoya",
      "userId": "09602594722892594158"
     },
     "user_tz": 300
    },
    "id": "AKUSNa0Xa70M"
   },
   "outputs": [],
   "source": [
    "X_categorical_df = pd.DataFrame(df[col_categoricas], columns=col_categoricas, index=df.index)\n",
    "X_numerical_df = pd.DataFrame(df[col_numericas], columns=col_numericas, index=df.index)\n"
   ]
  },
  {
   "cell_type": "code",
   "execution_count": 67,
   "id": "7HF3ypY5bO0Z",
   "metadata": {
    "colab": {
     "base_uri": "https://localhost:8080/",
     "height": 411
    },
    "executionInfo": {
     "elapsed": 43,
     "status": "ok",
     "timestamp": 1748885342998,
     "user": {
      "displayName": "Jose Bedoya",
      "userId": "09602594722892594158"
     },
     "user_tz": 300
    },
    "id": "7HF3ypY5bO0Z",
    "outputId": "ec7e8dee-30e8-43c0-e253-e2fa89f3973c",
    "scrolled": true
   },
   "outputs": [
    {
     "name": "stdout",
     "output_type": "stream",
     "text": [
      "Shape of processed features (X_processed): (2895, 1651)\n",
      "Shape of target variable (y): (2895,)\n"
     ]
    },
    {
     "data": {
      "text/html": [
       "<div>\n",
       "<style scoped>\n",
       "    .dataframe tbody tr th:only-of-type {\n",
       "        vertical-align: middle;\n",
       "    }\n",
       "\n",
       "    .dataframe tbody tr th {\n",
       "        vertical-align: top;\n",
       "    }\n",
       "\n",
       "    .dataframe thead th {\n",
       "        text-align: right;\n",
       "    }\n",
       "</style>\n",
       "<table border=\"1\" class=\"dataframe\">\n",
       "  <thead>\n",
       "    <tr style=\"text-align: right;\">\n",
       "      <th></th>\n",
       "      <th>Uso</th>\n",
       "      <th>Actividad Economica</th>\n",
       "      <th>Analisis Lectura</th>\n",
       "      <th>Ultimo Valor Leido</th>\n",
       "      <th>Diferencia Lectura</th>\n",
       "      <th>Dias entre lecturas</th>\n",
       "      <th>Promedio Dia Historico</th>\n",
       "      <th>Score Lectura</th>\n",
       "      <th>Score Promedio</th>\n",
       "      <th>barrio no</th>\n",
       "      <th>...</th>\n",
       "      <th>vivienda no</th>\n",
       "      <th>vivienda sin</th>\n",
       "      <th>vivir</th>\n",
       "      <th>vivir persona</th>\n",
       "      <th>vivir predio</th>\n",
       "      <th>vivir solo</th>\n",
       "      <th>volver</th>\n",
       "      <th>zona</th>\n",
       "      <th>zona agua</th>\n",
       "      <th>zona comun</th>\n",
       "    </tr>\n",
       "  </thead>\n",
       "  <tbody>\n",
       "    <tr>\n",
       "      <th>0</th>\n",
       "      <td>Residencial</td>\n",
       "      <td>Otros Sectores</td>\n",
       "      <td>Parado</td>\n",
       "      <td>0.0</td>\n",
       "      <td>0.0</td>\n",
       "      <td>19.0</td>\n",
       "      <td>0.066667</td>\n",
       "      <td>10.0</td>\n",
       "      <td>7.0</td>\n",
       "      <td>0.0</td>\n",
       "      <td>...</td>\n",
       "      <td>0.0</td>\n",
       "      <td>0.336542</td>\n",
       "      <td>0.0</td>\n",
       "      <td>0.0</td>\n",
       "      <td>0.0</td>\n",
       "      <td>0.0</td>\n",
       "      <td>0.0</td>\n",
       "      <td>0.0</td>\n",
       "      <td>0.0</td>\n",
       "      <td>0.0</td>\n",
       "    </tr>\n",
       "    <tr>\n",
       "      <th>1</th>\n",
       "      <td>Otros Usos</td>\n",
       "      <td>Otros Sectores</td>\n",
       "      <td>Lectura Normal</td>\n",
       "      <td>3172.0</td>\n",
       "      <td>8.0</td>\n",
       "      <td>20.0</td>\n",
       "      <td>0.400000</td>\n",
       "      <td>3.0</td>\n",
       "      <td>1.0</td>\n",
       "      <td>0.0</td>\n",
       "      <td>...</td>\n",
       "      <td>0.0</td>\n",
       "      <td>0.000000</td>\n",
       "      <td>0.0</td>\n",
       "      <td>0.0</td>\n",
       "      <td>0.0</td>\n",
       "      <td>0.0</td>\n",
       "      <td>0.0</td>\n",
       "      <td>0.0</td>\n",
       "      <td>0.0</td>\n",
       "      <td>0.0</td>\n",
       "    </tr>\n",
       "    <tr>\n",
       "      <th>2</th>\n",
       "      <td>Residencial</td>\n",
       "      <td>Otros Sectores</td>\n",
       "      <td>Lectura Normal</td>\n",
       "      <td>3.0</td>\n",
       "      <td>14.0</td>\n",
       "      <td>13.0</td>\n",
       "      <td>0.200000</td>\n",
       "      <td>3.0</td>\n",
       "      <td>1.0</td>\n",
       "      <td>0.0</td>\n",
       "      <td>...</td>\n",
       "      <td>0.0</td>\n",
       "      <td>0.000000</td>\n",
       "      <td>0.0</td>\n",
       "      <td>0.0</td>\n",
       "      <td>0.0</td>\n",
       "      <td>0.0</td>\n",
       "      <td>0.0</td>\n",
       "      <td>0.0</td>\n",
       "      <td>0.0</td>\n",
       "      <td>0.0</td>\n",
       "    </tr>\n",
       "    <tr>\n",
       "      <th>3</th>\n",
       "      <td>Otros Usos</td>\n",
       "      <td>Otros Sectores</td>\n",
       "      <td>Lectura Normal</td>\n",
       "      <td>50739.0</td>\n",
       "      <td>50739.0</td>\n",
       "      <td>19.0</td>\n",
       "      <td>0.400000</td>\n",
       "      <td>3.0</td>\n",
       "      <td>1.0</td>\n",
       "      <td>0.0</td>\n",
       "      <td>...</td>\n",
       "      <td>0.0</td>\n",
       "      <td>0.000000</td>\n",
       "      <td>0.0</td>\n",
       "      <td>0.0</td>\n",
       "      <td>0.0</td>\n",
       "      <td>0.0</td>\n",
       "      <td>0.0</td>\n",
       "      <td>0.0</td>\n",
       "      <td>0.0</td>\n",
       "      <td>0.0</td>\n",
       "    </tr>\n",
       "    <tr>\n",
       "      <th>4</th>\n",
       "      <td>Otros Usos</td>\n",
       "      <td>Otros Sectores</td>\n",
       "      <td>Lectura Normal</td>\n",
       "      <td>16165.0</td>\n",
       "      <td>48.0</td>\n",
       "      <td>10.0</td>\n",
       "      <td>3.133333</td>\n",
       "      <td>3.0</td>\n",
       "      <td>1.0</td>\n",
       "      <td>0.0</td>\n",
       "      <td>...</td>\n",
       "      <td>0.0</td>\n",
       "      <td>0.000000</td>\n",
       "      <td>0.0</td>\n",
       "      <td>0.0</td>\n",
       "      <td>0.0</td>\n",
       "      <td>0.0</td>\n",
       "      <td>0.0</td>\n",
       "      <td>0.0</td>\n",
       "      <td>0.0</td>\n",
       "      <td>0.0</td>\n",
       "    </tr>\n",
       "  </tbody>\n",
       "</table>\n",
       "<p>5 rows × 1651 columns</p>\n",
       "</div>"
      ],
      "text/plain": [
       "           Uso Actividad Economica Analisis Lectura  Ultimo Valor Leido  \\\n",
       "0  Residencial      Otros Sectores           Parado                 0.0   \n",
       "1   Otros Usos      Otros Sectores   Lectura Normal              3172.0   \n",
       "2  Residencial      Otros Sectores   Lectura Normal                 3.0   \n",
       "3   Otros Usos      Otros Sectores   Lectura Normal             50739.0   \n",
       "4   Otros Usos      Otros Sectores   Lectura Normal             16165.0   \n",
       "\n",
       "   Diferencia Lectura  Dias entre lecturas  Promedio Dia Historico  \\\n",
       "0                 0.0                 19.0                0.066667   \n",
       "1                 8.0                 20.0                0.400000   \n",
       "2                14.0                 13.0                0.200000   \n",
       "3             50739.0                 19.0                0.400000   \n",
       "4                48.0                 10.0                3.133333   \n",
       "\n",
       "   Score Lectura  Score Promedio  barrio no  ...  vivienda no  vivienda sin  \\\n",
       "0           10.0             7.0        0.0  ...          0.0      0.336542   \n",
       "1            3.0             1.0        0.0  ...          0.0      0.000000   \n",
       "2            3.0             1.0        0.0  ...          0.0      0.000000   \n",
       "3            3.0             1.0        0.0  ...          0.0      0.000000   \n",
       "4            3.0             1.0        0.0  ...          0.0      0.000000   \n",
       "\n",
       "   vivir  vivir persona  vivir predio  vivir solo  volver  zona  zona agua  \\\n",
       "0    0.0            0.0           0.0         0.0     0.0   0.0        0.0   \n",
       "1    0.0            0.0           0.0         0.0     0.0   0.0        0.0   \n",
       "2    0.0            0.0           0.0         0.0     0.0   0.0        0.0   \n",
       "3    0.0            0.0           0.0         0.0     0.0   0.0        0.0   \n",
       "4    0.0            0.0           0.0         0.0     0.0   0.0        0.0   \n",
       "\n",
       "   zona comun  \n",
       "0         0.0  \n",
       "1         0.0  \n",
       "2         0.0  \n",
       "3         0.0  \n",
       "4         0.0  \n",
       "\n",
       "[5 rows x 1651 columns]"
      ]
     },
     "metadata": {},
     "output_type": "display_data"
    }
   ],
   "source": [
    "# Concatenate the transformed features\n",
    "# Ensure all dataframes have the same index for correct concatenation\n",
    "X = pd.concat([X_categorical_df, X_numerical_df, df_reducido], axis=1)\n",
    "y = df['CausaClasificada']\n",
    "# Now X_processed contains your preprocessed features, and y contains your target variable\n",
    "print(\"Shape of processed features (X_processed):\", X.shape)\n",
    "print(\"Shape of target variable (y):\", y.shape)\n",
    "\n",
    "# Display the first few rows of the processed features\n",
    "display(X.head())\n",
    "\n"
   ]
  },
  {
   "cell_type": "code",
   "execution_count": 68,
   "id": "5def5f4b",
   "metadata": {
    "scrolled": true
   },
   "outputs": [
    {
     "name": "stdout",
     "output_type": "stream",
     "text": [
      "Collecting nltk\n",
      "  Downloading nltk-3.9.1-py3-none-any.whl.metadata (2.9 kB)\n",
      "Requirement already satisfied: click in ./venv_spacy/lib/python3.9/site-packages (from nltk) (8.1.8)\n",
      "Requirement already satisfied: joblib in ./venv_spacy/lib/python3.9/site-packages (from nltk) (1.5.1)\n",
      "Collecting regex>=2021.8.3 (from nltk)\n",
      "  Downloading regex-2024.11.6-cp39-cp39-manylinux_2_17_x86_64.manylinux2014_x86_64.whl.metadata (40 kB)\n",
      "Requirement already satisfied: tqdm in ./venv_spacy/lib/python3.9/site-packages (from nltk) (4.67.1)\n",
      "Downloading nltk-3.9.1-py3-none-any.whl (1.5 MB)\n",
      "\u001b[2K   \u001b[90m━━━━━━━━━━━━━━━━━━━━━━━━━━━━━━━━━━━━━━━━\u001b[0m \u001b[32m1.5/1.5 MB\u001b[0m \u001b[31m109.0 MB/s\u001b[0m eta \u001b[36m0:00:00\u001b[0m\n",
      "\u001b[?25hDownloading regex-2024.11.6-cp39-cp39-manylinux_2_17_x86_64.manylinux2014_x86_64.whl (780 kB)\n",
      "\u001b[2K   \u001b[90m━━━━━━━━━━━━━━━━━━━━━━━━━━━━━━━━━━━━━━━━\u001b[0m \u001b[32m780.9/780.9 kB\u001b[0m \u001b[31m59.7 MB/s\u001b[0m eta \u001b[36m0:00:00\u001b[0m\n",
      "\u001b[?25hInstalling collected packages: regex, nltk\n",
      "\u001b[2K   \u001b[90m━━━━━━━━━━━━━━━━━━━━━━━━━━━━━━━━━━━━━━━━\u001b[0m \u001b[32m2/2\u001b[0m [nltk][32m1/2\u001b[0m [nltk]\n",
      "\u001b[1A\u001b[2KSuccessfully installed nltk-3.9.1 regex-2024.11.6\n"
     ]
    }
   ],
   "source": [
    "%%bash\n",
    "source ~/venv_spacy/bin/activate\n",
    "pip install nltk --only-binary=:all:\n"
   ]
  },
  {
   "cell_type": "code",
   "execution_count": 69,
   "id": "h7OaSpXe6l_w",
   "metadata": {
    "executionInfo": {
     "elapsed": 5,
     "status": "ok",
     "timestamp": 1748885346318,
     "user": {
      "displayName": "Jose Bedoya",
      "userId": "09602594722892594158"
     },
     "user_tz": 300
    },
    "id": "h7OaSpXe6l_w"
   },
   "outputs": [],
   "source": [
    "from sklearn.preprocessing import StandardScaler,Normalizer,OneHotEncoder\n",
    "from nltk import ConditionalProbDist\n",
    "import matplotlib.pyplot as plt\n",
    "import seaborn as sns\n",
    "from sklearn.feature_extraction.text import CountVectorizer\n",
    "from sklearn.feature_extraction.text import TfidfVectorizer\n",
    "from sklearn.model_selection import train_test_split, GridSearchCV,cross_val_score,StratifiedKFold\n",
    "from nltk.corpus import stopwords\n",
    "from sklearn.tree import DecisionTreeClassifier\n",
    "from sklearn.metrics import accuracy_score,f1_score\n",
    "#from sklearn.tree import export_graphviz\n",
    "#from pydotplus import graph_from_dot_data\n",
    "from sklearn.svm import SVC\n",
    "from sklearn.linear_model import LogisticRegression\n",
    "from sklearn.metrics import confusion_matrix\n",
    "from sklearn.compose import ColumnTransformer\n",
    "from sklearn.pipeline import Pipeline\n",
    "from sklearn.impute import SimpleImputer\n",
    "from joblib import dump, load\n",
    "from sklearn.ensemble import RandomForestClassifier\n",
    "from sklearn.feature_extraction.text import TfidfTransformer\n",
    "from sklearn.naive_bayes import MultinomialNB"
   ]
  },
  {
   "cell_type": "code",
   "execution_count": 70,
   "id": "c0129e3b",
   "metadata": {},
   "outputs": [
    {
     "name": "stdout",
     "output_type": "stream",
     "text": [
      "Collecting imbalanced-learn\n",
      "  Downloading imbalanced_learn-0.12.4-py3-none-any.whl.metadata (8.3 kB)\n",
      "Requirement already satisfied: numpy>=1.17.3 in ./venv_spacy/lib/python3.9/site-packages (from imbalanced-learn) (2.0.2)\n",
      "Requirement already satisfied: scipy>=1.5.0 in ./venv_spacy/lib/python3.9/site-packages (from imbalanced-learn) (1.13.1)\n",
      "Requirement already satisfied: scikit-learn>=1.0.2 in ./venv_spacy/lib/python3.9/site-packages (from imbalanced-learn) (1.6.1)\n",
      "Requirement already satisfied: joblib>=1.1.1 in ./venv_spacy/lib/python3.9/site-packages (from imbalanced-learn) (1.5.1)\n",
      "Requirement already satisfied: threadpoolctl>=2.0.0 in ./venv_spacy/lib/python3.9/site-packages (from imbalanced-learn) (3.6.0)\n",
      "Downloading imbalanced_learn-0.12.4-py3-none-any.whl (258 kB)\n",
      "Installing collected packages: imbalanced-learn\n",
      "Successfully installed imbalanced-learn-0.12.4\n"
     ]
    }
   ],
   "source": [
    "%%bash\n",
    "source ~/venv_spacy/bin/activate\n",
    "pip install imbalanced-learn --only-binary=:all:\n"
   ]
  },
  {
   "cell_type": "code",
   "execution_count": 71,
   "id": "05R2EY-l6Ksb",
   "metadata": {
    "executionInfo": {
     "elapsed": 76,
     "status": "ok",
     "timestamp": 1748885374530,
     "user": {
      "displayName": "Jose Bedoya",
      "userId": "09602594722892594158"
     },
     "user_tz": 300
    },
    "id": "05R2EY-l6Ksb"
   },
   "outputs": [],
   "source": [
    "from imblearn.over_sampling import SMOTE\n",
    "X_train,X_test,y_train,y_test=train_test_split(X,y,test_size=0.3,stratify=y)\n"
   ]
  },
  {
   "cell_type": "code",
   "execution_count": 72,
   "id": "X3uhUARh6Ty3",
   "metadata": {
    "colab": {
     "base_uri": "https://localhost:8080/",
     "height": 458
    },
    "executionInfo": {
     "elapsed": 3,
     "status": "ok",
     "timestamp": 1748885374535,
     "user": {
      "displayName": "Jose Bedoya",
      "userId": "09602594722892594158"
     },
     "user_tz": 300
    },
    "id": "X3uhUARh6Ty3",
    "outputId": "1e055fdc-01c6-4aa6-af0d-3d75c564e4c4",
    "scrolled": true
   },
   "outputs": [
    {
     "data": {
      "text/plain": [
       "Uso                     object\n",
       "Actividad Economica     object\n",
       "Analisis Lectura        object\n",
       "Ultimo Valor Leido     float64\n",
       "Diferencia Lectura     float64\n",
       "                        ...   \n",
       "vivir solo             float64\n",
       "volver                 float64\n",
       "zona                   float64\n",
       "zona agua              float64\n",
       "zona comun             float64\n",
       "Length: 1651, dtype: object"
      ]
     },
     "execution_count": 72,
     "metadata": {},
     "output_type": "execute_result"
    }
   ],
   "source": [
    "X.dtypes"
   ]
  },
  {
   "cell_type": "code",
   "execution_count": 73,
   "id": "b18a0e6e",
   "metadata": {
    "scrolled": true
   },
   "outputs": [
    {
     "name": "stdout",
     "output_type": "stream",
     "text": [
      "Collecting xgboost\n",
      "  Downloading xgboost-2.1.4-py3-none-manylinux_2_28_x86_64.whl.metadata (2.1 kB)\n",
      "Requirement already satisfied: numpy in ./venv_spacy/lib/python3.9/site-packages (from xgboost) (2.0.2)\n",
      "Collecting nvidia-nccl-cu12 (from xgboost)\n",
      "  Downloading nvidia_nccl_cu12-2.26.5-py3-none-manylinux2014_x86_64.manylinux_2_17_x86_64.whl.metadata (2.0 kB)\n",
      "Requirement already satisfied: scipy in ./venv_spacy/lib/python3.9/site-packages (from xgboost) (1.13.1)\n",
      "Downloading xgboost-2.1.4-py3-none-manylinux_2_28_x86_64.whl (223.6 MB)\n",
      "\u001b[2K   \u001b[90m━━━━━━━━━━━━━━━━━━━━━━━━━━━━━━━━━━━━━━━\u001b[0m \u001b[32m223.6/223.6 MB\u001b[0m \u001b[31m136.5 MB/s\u001b[0m eta \u001b[36m0:00:00\u001b[0m00:01\u001b[0m00:01\u001b[0m\n",
      "\u001b[?25hDownloading nvidia_nccl_cu12-2.26.5-py3-none-manylinux2014_x86_64.manylinux_2_17_x86_64.whl (318.1 MB)\n",
      "\u001b[2K   \u001b[90m━━━━━━━━━━━━━━━━━━━━━━━━━━━━━━━━━━━━━━━━\u001b[0m \u001b[32m318.1/318.1 MB\u001b[0m \u001b[31m59.6 MB/s\u001b[0m eta \u001b[36m0:00:00\u001b[0m00:01\u001b[0m00:01\u001b[0m\n",
      "\u001b[?25hInstalling collected packages: nvidia-nccl-cu12, xgboost\n",
      "\u001b[2K   \u001b[90m━━━━━━━━━━━━━━━━━━━━━━━━━━━━━━━━━━━━━━━━\u001b[0m \u001b[32m2/2\u001b[0m [xgboost]m1/2\u001b[0m [xgboost]\n",
      "\u001b[1A\u001b[2KSuccessfully installed nvidia-nccl-cu12-2.26.5 xgboost-2.1.4\n"
     ]
    }
   ],
   "source": [
    "%%bash\n",
    "source ~/venv_spacy/bin/activate\n",
    "pip install xgboost --only-binary=:all:\n"
   ]
  },
  {
   "cell_type": "code",
   "execution_count": 74,
   "id": "f5ebfdbe",
   "metadata": {},
   "outputs": [],
   "source": [
    "import warnings\n",
    "warnings.filterwarnings(\"ignore\", category=UserWarning, module=\"xgboost\")\n"
   ]
  },
  {
   "cell_type": "code",
   "execution_count": 75,
   "id": "AInGHHLtEJKZ",
   "metadata": {
    "colab": {
     "base_uri": "https://localhost:8080/"
    },
    "executionInfo": {
     "elapsed": 297871,
     "status": "ok",
     "timestamp": 1748885672407,
     "user": {
      "displayName": "Jose Bedoya",
      "userId": "09602594722892594158"
     },
     "user_tz": 300
    },
    "id": "AInGHHLtEJKZ",
    "outputId": "d1dd5839-a0d4-4d68-d5a8-1d878606a73c"
   },
   "outputs": [],
   "source": [
    "import random\n",
    "import numpy as np\n",
    "import pandas as pd\n",
    "import warnings\n",
    "\n",
    "# --------------------------------------------------------------------\n",
    "# Fijar semilla global para reproducibilidad\n",
    "SEED = 42\n",
    "random.seed(SEED)\n",
    "np.random.seed(SEED)\n"
   ]
  },
  {
   "cell_type": "code",
   "execution_count": 77,
   "id": "35a8a5b1",
   "metadata": {},
   "outputs": [
    {
     "name": "stdout",
     "output_type": "stream",
     "text": [
      "\n",
      "----- Evaluando modelo: RL -----\n",
      "\n",
      "----- Evaluando modelo: XGBoost -----\n",
      "\n",
      "----- Evaluando modelo: Tree -----\n",
      "\n",
      "----- Evaluando modelo: SVC -----\n",
      "\n",
      "----- Evaluando modelo: RF -----\n",
      "\n",
      "----- Evaluando modelo: LDA -----\n",
      "\n",
      "----- Evaluando modelo: QDA -----\n"
     ]
    }
   ],
   "source": [
    "from sklearn.model_selection import StratifiedKFold, GridSearchCV\n",
    "from sklearn.pipeline import Pipeline\n",
    "from sklearn.compose import ColumnTransformer\n",
    "from sklearn.impute import SimpleImputer\n",
    "from sklearn.preprocessing import StandardScaler, OneHotEncoder\n",
    "from sklearn.linear_model import LogisticRegression\n",
    "from sklearn.tree import DecisionTreeClassifier\n",
    "from sklearn.svm import SVC\n",
    "from sklearn.ensemble import RandomForestClassifier\n",
    "from sklearn.discriminant_analysis import LinearDiscriminantAnalysis, QuadraticDiscriminantAnalysis\n",
    "from sklearn.metrics import f1_score\n",
    "from xgboost import XGBClassifier\n",
    "import pandas as pd\n",
    "import warnings\n",
    "\n",
    "\n",
    "from sklearn.exceptions import ConvergenceWarning\n",
    "warnings.filterwarnings(\"ignore\", category=ConvergenceWarning)\n",
    "warnings.filterwarnings(\"ignore\", category=UserWarning)\n",
    "try:\n",
    "    from numpy.linalg import LinAlgWarning\n",
    "    warnings.filterwarnings(\"ignore\", category=LinAlgWarning)\n",
    "except ImportError:\n",
    "    # Si la versión de NumPy no define LinAlgWarning, lo omitimos\n",
    "    pass\n",
    "# --------------------------------------------------------------------\n",
    "\n",
    "\n",
    "\n",
    "# Listas para almacenar los resultados finales\n",
    "modelos_evaluados   = []\n",
    "mejores_parametros  = []\n",
    "score_train         = []\n",
    "score_test          = []\n",
    "\n",
    "# Columnas categóricas y numéricas\n",
    "lista_categoricos = list(X_categorical_df.columns)\n",
    "lista_numericos   = list(X_numerical_df.columns)\n",
    "\n",
    "# --------------------------------------------------------------------\n",
    "# 1) Definimos los pipelines de preprocesamiento\n",
    "#    - Para variables numéricas: imputar (mediana) + estandarizar\n",
    "#    - Para variables categóricas: imputar (\"missing\") + one‐hot encoding\n",
    "# --------------------------------------------------------------------\n",
    "numericos_transformados = Pipeline([\n",
    "    ('imputer', SimpleImputer(strategy='median')),\n",
    "    ('scaler',  StandardScaler())\n",
    "])\n",
    "\n",
    "categorical_transformados = Pipeline([\n",
    "    ('imputer', SimpleImputer(strategy='constant', fill_value='missing')),\n",
    "    ('onehot',  OneHotEncoder(handle_unknown='ignore'))\n",
    "])\n",
    "\n",
    "preprocessor = ColumnTransformer([\n",
    "    ('num', numericos_transformados, lista_numericos),\n",
    "    ('cat', categorical_transformados, lista_categoricos)\n",
    "])\n",
    "\n",
    "# Validación cruzada estratificada (5 folds)\n",
    "cv = StratifiedKFold(n_splits=5, shuffle=True, random_state=42)\n",
    "\n",
    "# --------------------------------------------------------------------\n",
    "# 2) Diccionario de modelos con sus respectivas grillas de parámetros\n",
    "#    Observación: en XGBoost ya no se usa 'use_label_encoder'; eliminamos esa opción.\n",
    "# --------------------------------------------------------------------\n",
    "modelos_parametros = {\n",
    "    \"RL\": {\n",
    "        \"modelo\": LogisticRegression(max_iter=1000),\n",
    "        \"param_grid\": {\n",
    "            'classifier__C':       [0.01, 0.1, 1],\n",
    "            'classifier__solver':  ['lbfgs', 'liblinear'],\n",
    "            'classifier__penalty': ['l2']\n",
    "        }\n",
    "    },\n",
    "\n",
    "    \"XGBoost\": {\n",
    "        \"modelo\": XGBClassifier(eval_metric='mlogloss'),\n",
    "        \"param_grid\": {\n",
    "            'classifier__n_estimators':   [100, 200, 300],\n",
    "            'classifier__max_depth':      [3, 5, 7, 10],\n",
    "            'classifier__learning_rate':  [0.01, 0.1, 0.2]\n",
    "        }\n",
    "    },\n",
    "\n",
    "    \"Tree\": {\n",
    "        \"modelo\": DecisionTreeClassifier(),\n",
    "        \"param_grid\": {\n",
    "            'classifier__criterion': ['gini', 'entropy'],\n",
    "            'classifier__max_depth': [5, 10, 20]\n",
    "        }\n",
    "    },\n",
    "\n",
    "    \"SVC\": {\n",
    "        \"modelo\": SVC(),\n",
    "        \"param_grid\": {\n",
    "            'classifier__C':     [1, 10],\n",
    "            'classifier__gamma': ['scale', 'auto']\n",
    "        }\n",
    "    },\n",
    "\n",
    "    \"RF\": {\n",
    "        \"modelo\": RandomForestClassifier(),\n",
    "        \"param_grid\": {\n",
    "            'classifier__n_estimators': [10, 50],\n",
    "            'classifier__criterion':    ['gini', 'entropy'],\n",
    "            'classifier__max_depth':    [5, 10]\n",
    "        }\n",
    "    },\n",
    "\n",
    "    \"LDA\": {\n",
    "        \"modelo\": LinearDiscriminantAnalysis(),\n",
    "        \"param_grid\": {\n",
    "            'classifier__solver': ['svd', 'lsqr']\n",
    "        }\n",
    "    },\n",
    "\n",
    "    \"QDA\": {\n",
    "        \"modelo\": QuadraticDiscriminantAnalysis(),\n",
    "        \"param_grid\": {\n",
    "            'classifier__reg_param': [0.1, 0.5, 1.0]  # Valores válidos en [0.0, 1.0]\n",
    "        }\n",
    "    }\n",
    "}\n",
    "\n",
    "# --------------------------------------------------------------------\n",
    "# 3) Bucle de entrenamiento y evaluación con GridSearchCV\n",
    "# --------------------------------------------------------------------\n",
    "for nombre_modelo, contenido in modelos_parametros.items():\n",
    "    print(f\"\\n----- Evaluando modelo: {nombre_modelo} -----\")\n",
    "\n",
    "    # Construir pipeline completo: preprocesador + clasificador\n",
    "    clf = Pipeline(steps=[\n",
    "        ('preprocessor', preprocessor),\n",
    "        ('classifier',  contenido[\"modelo\"])\n",
    "    ])\n",
    "\n",
    "    # Configurar GridSearchCV\n",
    "    grid = GridSearchCV(\n",
    "        estimator=clf,\n",
    "        param_grid=contenido[\"param_grid\"],\n",
    "        scoring='f1_macro',\n",
    "        cv=cv,\n",
    "        n_jobs=-1\n",
    "    )\n",
    "\n",
    "    # Ajustar sobre el conjunto de entrenamiento\n",
    "    grid.fit(X_train, y_train)\n",
    "\n",
    "    # Mejor combinación encontrada y su score en validación interna\n",
    "    mejores_param         = grid.best_params_\n",
    "    score_entrenamiento   = grid.best_score_\n",
    "\n",
    "    # Predecir sobre el conjunto de prueba con el mejor estimador\n",
    "    clf_best = grid.best_estimator_\n",
    "    y_pred   = clf_best.predict(X_test)\n",
    "    score_prueba = f1_score(y_test, y_pred, average='macro')\n",
    "\n",
    "    # Almacenar resultados\n",
    "    modelos_evaluados.append(nombre_modelo)\n",
    "    mejores_parametros.append(mejores_param)\n",
    "    score_train.append(score_entrenamiento)\n",
    "    score_test.append(score_prueba)\n",
    "\n",
    "# --------------------------------------------------------------------\n",
    "# 4) Construir DataFrame con los resultados finales\n",
    "# --------------------------------------------------------------------\n",
    "resultados = pd.DataFrame({\n",
    "    \"Modelo\":             modelos_evaluados,\n",
    "    \"Mejores_Parametros\": mejores_parametros,\n",
    "    \"F1_Train\":           score_train,\n",
    "    \"F1_Test\":            score_test\n",
    "})\n"
   ]
  },
  {
   "cell_type": "code",
   "execution_count": 78,
   "id": "1bdI3xFZnNUB",
   "metadata": {
    "colab": {
     "base_uri": "https://localhost:8080/",
     "height": 377
    },
    "executionInfo": {
     "elapsed": 39,
     "status": "ok",
     "timestamp": 1748885672454,
     "user": {
      "displayName": "Jose Bedoya",
      "userId": "09602594722892594158"
     },
     "user_tz": 300
    },
    "id": "1bdI3xFZnNUB",
    "outputId": "eef5e299-f6e2-4407-f346-be171af6a984"
   },
   "outputs": [
    {
     "data": {
      "text/html": [
       "<div>\n",
       "<style scoped>\n",
       "    .dataframe tbody tr th:only-of-type {\n",
       "        vertical-align: middle;\n",
       "    }\n",
       "\n",
       "    .dataframe tbody tr th {\n",
       "        vertical-align: top;\n",
       "    }\n",
       "\n",
       "    .dataframe thead th {\n",
       "        text-align: right;\n",
       "    }\n",
       "</style>\n",
       "<table border=\"1\" class=\"dataframe\">\n",
       "  <thead>\n",
       "    <tr style=\"text-align: right;\">\n",
       "      <th></th>\n",
       "      <th>Uso</th>\n",
       "      <th>Actividad Economica</th>\n",
       "      <th>Analisis Lectura</th>\n",
       "      <th>Ultimo Valor Leido</th>\n",
       "      <th>Diferencia Lectura</th>\n",
       "      <th>Dias entre lecturas</th>\n",
       "      <th>Promedio Dia Historico</th>\n",
       "      <th>Score Lectura</th>\n",
       "      <th>Score Promedio</th>\n",
       "      <th>barrio no</th>\n",
       "      <th>...</th>\n",
       "      <th>vivienda no</th>\n",
       "      <th>vivienda sin</th>\n",
       "      <th>vivir</th>\n",
       "      <th>vivir persona</th>\n",
       "      <th>vivir predio</th>\n",
       "      <th>vivir solo</th>\n",
       "      <th>volver</th>\n",
       "      <th>zona</th>\n",
       "      <th>zona agua</th>\n",
       "      <th>zona comun</th>\n",
       "    </tr>\n",
       "  </thead>\n",
       "  <tbody>\n",
       "    <tr>\n",
       "      <th>1754</th>\n",
       "      <td>Residencial</td>\n",
       "      <td>Otros Sectores</td>\n",
       "      <td>Lectura Normal</td>\n",
       "      <td>933.0</td>\n",
       "      <td>12.0</td>\n",
       "      <td>26.0</td>\n",
       "      <td>0.366667</td>\n",
       "      <td>3.0</td>\n",
       "      <td>1.0</td>\n",
       "      <td>0.0</td>\n",
       "      <td>...</td>\n",
       "      <td>0.0</td>\n",
       "      <td>0.0</td>\n",
       "      <td>0.275747</td>\n",
       "      <td>0.302787</td>\n",
       "      <td>0.0</td>\n",
       "      <td>0.0</td>\n",
       "      <td>0.0</td>\n",
       "      <td>0.0</td>\n",
       "      <td>0.0</td>\n",
       "      <td>0.0</td>\n",
       "    </tr>\n",
       "    <tr>\n",
       "      <th>2455</th>\n",
       "      <td>Residencial</td>\n",
       "      <td>Otros Sectores</td>\n",
       "      <td>Lectura Baja</td>\n",
       "      <td>623.0</td>\n",
       "      <td>1.0</td>\n",
       "      <td>24.0</td>\n",
       "      <td>0.000000</td>\n",
       "      <td>5.0</td>\n",
       "      <td>1.0</td>\n",
       "      <td>0.0</td>\n",
       "      <td>...</td>\n",
       "      <td>0.0</td>\n",
       "      <td>0.0</td>\n",
       "      <td>0.000000</td>\n",
       "      <td>0.000000</td>\n",
       "      <td>0.0</td>\n",
       "      <td>0.0</td>\n",
       "      <td>0.0</td>\n",
       "      <td>0.0</td>\n",
       "      <td>0.0</td>\n",
       "      <td>0.0</td>\n",
       "    </tr>\n",
       "    <tr>\n",
       "      <th>1452</th>\n",
       "      <td>Residencial</td>\n",
       "      <td>Otros Sectores</td>\n",
       "      <td>Lectura Baja</td>\n",
       "      <td>1046.0</td>\n",
       "      <td>1.0</td>\n",
       "      <td>9.0</td>\n",
       "      <td>0.266667</td>\n",
       "      <td>5.0</td>\n",
       "      <td>7.0</td>\n",
       "      <td>0.0</td>\n",
       "      <td>...</td>\n",
       "      <td>0.0</td>\n",
       "      <td>0.0</td>\n",
       "      <td>0.000000</td>\n",
       "      <td>0.000000</td>\n",
       "      <td>0.0</td>\n",
       "      <td>0.0</td>\n",
       "      <td>0.0</td>\n",
       "      <td>0.0</td>\n",
       "      <td>0.0</td>\n",
       "      <td>0.0</td>\n",
       "    </tr>\n",
       "    <tr>\n",
       "      <th>2540</th>\n",
       "      <td>Residencial</td>\n",
       "      <td>Otros Sectores</td>\n",
       "      <td>Lectura Baja</td>\n",
       "      <td>419.0</td>\n",
       "      <td>4.0</td>\n",
       "      <td>50.0</td>\n",
       "      <td>0.033333</td>\n",
       "      <td>5.0</td>\n",
       "      <td>1.0</td>\n",
       "      <td>0.0</td>\n",
       "      <td>...</td>\n",
       "      <td>0.0</td>\n",
       "      <td>0.0</td>\n",
       "      <td>0.000000</td>\n",
       "      <td>0.000000</td>\n",
       "      <td>0.0</td>\n",
       "      <td>0.0</td>\n",
       "      <td>0.0</td>\n",
       "      <td>0.0</td>\n",
       "      <td>0.0</td>\n",
       "      <td>0.0</td>\n",
       "    </tr>\n",
       "    <tr>\n",
       "      <th>1257</th>\n",
       "      <td>Residencial</td>\n",
       "      <td>Otros Sectores</td>\n",
       "      <td>Lectura Baja</td>\n",
       "      <td>0.0</td>\n",
       "      <td>1.0</td>\n",
       "      <td>58.0</td>\n",
       "      <td>0.166667</td>\n",
       "      <td>5.0</td>\n",
       "      <td>7.0</td>\n",
       "      <td>0.0</td>\n",
       "      <td>...</td>\n",
       "      <td>0.0</td>\n",
       "      <td>0.0</td>\n",
       "      <td>0.000000</td>\n",
       "      <td>0.000000</td>\n",
       "      <td>0.0</td>\n",
       "      <td>0.0</td>\n",
       "      <td>0.0</td>\n",
       "      <td>0.0</td>\n",
       "      <td>0.0</td>\n",
       "      <td>0.0</td>\n",
       "    </tr>\n",
       "  </tbody>\n",
       "</table>\n",
       "<p>5 rows × 1651 columns</p>\n",
       "</div>"
      ],
      "text/plain": [
       "              Uso Actividad Economica Analisis Lectura  Ultimo Valor Leido  \\\n",
       "1754  Residencial      Otros Sectores   Lectura Normal               933.0   \n",
       "2455  Residencial      Otros Sectores     Lectura Baja               623.0   \n",
       "1452  Residencial      Otros Sectores     Lectura Baja              1046.0   \n",
       "2540  Residencial      Otros Sectores     Lectura Baja               419.0   \n",
       "1257  Residencial      Otros Sectores     Lectura Baja                 0.0   \n",
       "\n",
       "      Diferencia Lectura  Dias entre lecturas  Promedio Dia Historico  \\\n",
       "1754                12.0                 26.0                0.366667   \n",
       "2455                 1.0                 24.0                0.000000   \n",
       "1452                 1.0                  9.0                0.266667   \n",
       "2540                 4.0                 50.0                0.033333   \n",
       "1257                 1.0                 58.0                0.166667   \n",
       "\n",
       "      Score Lectura  Score Promedio  barrio no  ...  vivienda no  \\\n",
       "1754            3.0             1.0        0.0  ...          0.0   \n",
       "2455            5.0             1.0        0.0  ...          0.0   \n",
       "1452            5.0             7.0        0.0  ...          0.0   \n",
       "2540            5.0             1.0        0.0  ...          0.0   \n",
       "1257            5.0             7.0        0.0  ...          0.0   \n",
       "\n",
       "      vivienda sin     vivir  vivir persona  vivir predio  vivir solo  volver  \\\n",
       "1754           0.0  0.275747       0.302787           0.0         0.0     0.0   \n",
       "2455           0.0  0.000000       0.000000           0.0         0.0     0.0   \n",
       "1452           0.0  0.000000       0.000000           0.0         0.0     0.0   \n",
       "2540           0.0  0.000000       0.000000           0.0         0.0     0.0   \n",
       "1257           0.0  0.000000       0.000000           0.0         0.0     0.0   \n",
       "\n",
       "      zona  zona agua  zona comun  \n",
       "1754   0.0        0.0         0.0  \n",
       "2455   0.0        0.0         0.0  \n",
       "1452   0.0        0.0         0.0  \n",
       "2540   0.0        0.0         0.0  \n",
       "1257   0.0        0.0         0.0  \n",
       "\n",
       "[5 rows x 1651 columns]"
      ]
     },
     "execution_count": 78,
     "metadata": {},
     "output_type": "execute_result"
    }
   ],
   "source": [
    "X_train.head(5)"
   ]
  },
  {
   "cell_type": "code",
   "execution_count": 79,
   "id": "tEzOvxYRmT11",
   "metadata": {
    "colab": {
     "base_uri": "https://localhost:8080/"
    },
    "executionInfo": {
     "elapsed": 25,
     "status": "ok",
     "timestamp": 1748885672484,
     "user": {
      "displayName": "Jose Bedoya",
      "userId": "09602594722892594158"
     },
     "user_tz": 300
    },
    "id": "tEzOvxYRmT11",
    "outputId": "fef7f997-f94d-4da4-d6ba-39ee0ac2347f"
   },
   "outputs": [
    {
     "name": "stdout",
     "output_type": "stream",
     "text": [
      "\n",
      "===== Resultados Finales =====\n",
      "    Modelo                                 Mejores_Parametros  F1_Train  \\\n",
      "1  XGBoost  {'classifier__learning_rate': 0.2, 'classifier...  0.565665   \n",
      "2     Tree  {'classifier__criterion': 'entropy', 'classifi...  0.538357   \n",
      "4       RF  {'classifier__criterion': 'entropy', 'classifi...  0.522824   \n",
      "6      QDA                     {'classifier__reg_param': 1.0}  0.424232   \n",
      "0       RL  {'classifier__C': 1, 'classifier__penalty': 'l...  0.448904   \n",
      "5      LDA                     {'classifier__solver': 'lsqr'}  0.448560   \n",
      "3      SVC  {'classifier__C': 10, 'classifier__gamma': 'au...  0.459346   \n",
      "\n",
      "    F1_Test  \n",
      "1  0.549030  \n",
      "2  0.515370  \n",
      "4  0.506957  \n",
      "6  0.451664  \n",
      "0  0.450622  \n",
      "5  0.439128  \n",
      "3  0.430566  \n"
     ]
    }
   ],
   "source": [
    "print(\"\\n===== Resultados Finales =====\")\n",
    "print(resultados.sort_values(\"F1_Test\", ascending=False))"
   ]
  },
  {
   "cell_type": "code",
   "execution_count": 86,
   "id": "05Wqh1odYVqG",
   "metadata": {
    "colab": {
     "base_uri": "https://localhost:8080/"
    },
    "executionInfo": {
     "elapsed": 2287,
     "status": "ok",
     "timestamp": 1748888187274,
     "user": {
      "displayName": "Jose Bedoya",
      "userId": "09602594722892594158"
     },
     "user_tz": 300
    },
    "id": "05Wqh1odYVqG",
    "outputId": "dbe8d75b-9cad-4126-d360-f949f3f6f133"
   },
   "outputs": [
    {
     "name": "stdout",
     "output_type": "stream",
     "text": [
      "Mejor modelo: XGBoost\n",
      "✅ Pipeline entrenado guardado localmente en ./mejor_modelo_entrenado.joblib\n",
      "✅ Modelo subido a s3://proyectointegradorfinal/refined/mejor_modelo_entrenado.joblib\n"
     ]
    }
   ],
   "source": [
    "import boto3\n",
    "from joblib import dump\n",
    "from sklearn.pipeline import Pipeline\n",
    "\n",
    "# 1) Encuentra el mejor modelo según tu DataFrame de resultados\n",
    "resultados_df = resultados.sort_values(\"F1_Test\", ascending=False)\n",
    "mejor_modelo_nombre = resultados_df.iloc[0][\"Modelo\"]\n",
    "print(f\"Mejor modelo: {mejor_modelo_nombre}\")\n",
    "\n",
    "# 2) Obtén la instancia sin ajustar del modelo ganador\n",
    "mejor_modelo_instance = modelos_parametros[mejor_modelo_nombre][\"modelo\"]\n",
    "\n",
    "# 3) Define el pipeline final (preprocessor + clasificador ganador)\n",
    "pipeline_final = Pipeline([\n",
    "    (\"preprocessor\", preprocessor),\n",
    "    (\"classifier\",  mejor_modelo_instance)\n",
    "])\n",
    "\n",
    "# 4) Ajusta (fit) el pipeline_final sobre todo X_train, y_train\n",
    "pipeline_final.fit(X_train, y_train)\n",
    "\n",
    "# 5) Guarda el pipeline entrenado en un archivo .joblib local\n",
    "local_filename = \"mejor_modelo_entrenado.joblib\"\n",
    "dump(pipeline_final, local_filename)\n",
    "print(f\"✅ Pipeline entrenado guardado localmente en ./{local_filename}\")\n",
    "\n",
    "# 6) Crea el cliente de S3 y sube ese .joblib al bucket/proyecto y carpeta “refined”\n",
    "s3 = boto3.client(\"s3\")\n",
    "bucket_name = \"proyectointegradorfinal\"\n",
    "s3_key     = \"refined/mejor_modelo_entrenado.joblib\"\n",
    "\n",
    "s3.upload_file(local_filename, bucket_name, s3_key)\n",
    "print(f\"✅ Modelo subido a s3://{bucket_name}/{s3_key}\")\n"
   ]
  },
  {
   "cell_type": "code",
   "execution_count": null,
   "id": "4cfb6d62",
   "metadata": {},
   "outputs": [],
   "source": []
  }
 ],
 "metadata": {
  "colab": {
   "provenance": [
    {
     "file_id": "1KqXU_cFgDI4_UJU-vLWh1A-_AdAgkv9g",
     "timestamp": 1748865560673
    },
    {
     "file_id": "1OqJpDZ_boMKMXcPVZYOP_CJoRIL6CFk6",
     "timestamp": 1748786949419
    }
   ]
  },
  "kernelspec": {
   "display_name": "Python (venv_spacy)",
   "language": "python",
   "name": "venv_spacy"
  },
  "language_info": {
   "codemirror_mode": {
    "name": "ipython",
    "version": 3
   },
   "file_extension": ".py",
   "mimetype": "text/x-python",
   "name": "python",
   "nbconvert_exporter": "python",
   "pygments_lexer": "ipython3",
   "version": "3.9.19"
  }
 },
 "nbformat": 4,
 "nbformat_minor": 5
}
